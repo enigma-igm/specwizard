{
 "cells": [
  {
   "cell_type": "code",
   "execution_count": 1,
   "id": "c1efc717-aa7a-4d05-b262-13383e810ee7",
   "metadata": {},
   "outputs": [
    {
     "name": "stdout",
     "output_type": "stream",
     "text": [
      "This class defines the B-spline kernel of Monaghan and Lattanzio, as used in Gadget-2\n"
     ]
    }
   ],
   "source": [
    "import sys\n",
    "import os\n",
    "import h5py\n",
    "import importlib\n",
    "import multiprocessing\n",
    "# the mock-0.3.1 dir contains testcase.py, testutils.py & mock.py\n",
    "sys.path.append('../../../')\n",
    "\n",
    "import matplotlib.pyplot as plt\n",
    "import numpy as np\n",
    "from SpecWizard_Input import ReadData\n",
    "from SpecWizard_BuildInput import Build_Input\n",
    "from SpecWizard_ProjectData import SightLineProjection\n",
    "from SpecWizard_ComputeOpticaldepth import ComputeOpticaldepth"
   ]
  },
  {
   "cell_type": "code",
   "execution_count": 4,
   "id": "109175f3-07e0-448f-ad74-cf15e77c094b",
   "metadata": {},
   "outputs": [],
   "source": [
    "import SpecWizard_SaveOpticaldepth\n",
    "SpecWizard_SaveOpticaldepth = importlib.reload(SpecWizard_SaveOpticaldepth)\n",
    "from SpecWizard_SaveOpticaldepth import OpticalDepth_IO"
   ]
  },
  {
   "cell_type": "code",
   "execution_count": 78,
   "id": "9e1cd2d7-7576-4722-ade2-94777272eed4",
   "metadata": {},
   "outputs": [
    {
     "name": "stdout",
     "output_type": "stream",
     "text": [
      "something\n",
      "Warning! ProjectionAxes NOT found. Setting default value : ('simx', 'simy', 'simz')\n",
      "Warning! x-axis NOT found. Setting default value : 0\n",
      "Warning! y-axis NOT found. Setting default value : 1\n",
      "Warning! z-axis NOT found. Setting default value : 2\n",
      "Warning! ProjectionStart NOT found. Setting default value : (0.5, 0.5, 0)\n",
      "Warning! x-position NOT found. Setting default value : 0.5\n",
      "Warning! y-position NOT found. Setting default value : 0.5\n",
      "Warning! z-position NOT found. Setting default value : 0\n",
      "Warning! ProjectionLength NOT found. Setting default value : 1\n",
      "Warning! SightLength NOT found. Setting default value : 1\n"
     ]
    }
   ],
   "source": [
    "Wizard = buildinput.read_from_yml('Wizard.yml')"
   ]
  },
  {
   "cell_type": "code",
   "execution_count": 13,
   "id": "cfa7eb51-5211-486d-8ccd-d125feb4eddd",
   "metadata": {},
   "outputs": [],
   "source": [
    "import random as rd\n",
    "rd.seed(3)\n",
    "IC = np.array([[rd.randint(5,100)/100,rd.randint(5,100)/100] for i in range(500)])"
   ]
  },
  {
   "cell_type": "code",
   "execution_count": 16,
   "id": "7b3a46d8-95c8-44e4-aecd-806c9652eabc",
   "metadata": {},
   "outputs": [],
   "source": [
    "zmin       = 0\n",
    "zmax       = 6.1"
   ]
  },
  {
   "cell_type": "code",
   "execution_count": 83,
   "id": "651436c1-1a93-48e0-a717-b98061ab691e",
   "metadata": {},
   "outputs": [],
   "source": [
    "snapdir = '/cosma7/data/Eagle/ScienceRuns/Planck1/L0050N0752/PE/REFERENCE/data/'\n",
    "allfiles      = os.listdir(snapdir)"
   ]
  },
  {
   "cell_type": "code",
   "execution_count": 85,
   "id": "65869bd9-8a65-41d7-85f0-cda358a7aaf7",
   "metadata": {},
   "outputs": [],
   "source": [
    "z_snaps = []\n",
    "zs      = []\n",
    "z_fnames   = []\n",
    "for snap in allfiles:\n",
    "    if snap.startswith(\"snapshot\"):\n",
    "        try: \n",
    "            z = float(snap[15:].replace(\"p\",\".\"))\n",
    "            if (z >= zmin and z <= zmax):\n",
    "                z_snaps.append(snap)\n",
    "                zs.append(z)\n",
    "                z_fnames.append(snap.replace(\"snapshot\",\"snap\")+\".0.hdf5\")\n",
    "        except:\n",
    "            pass\n",
    "zs      = np.array(zs)\n",
    "sorted_mask = np.argsort(zs.astype('float'))\n",
    "z_snaps = np.array(z_snaps)[sorted_mask]\n",
    "zs      = np.array(zs)[sorted_mask]\n",
    "z_fnames = np.array(z_fnames)[sorted_mask]"
   ]
  },
  {
   "cell_type": "code",
   "execution_count": 97,
   "id": "29f50d62-77bc-4cbb-8194-c666a6556d55",
   "metadata": {},
   "outputs": [
    {
     "name": "stdout",
     "output_type": "stream",
     "text": [
      "snapshot_028_z000p000 snap_028_z000p000.0.hdf5\n",
      "Removing file  ./spectra_L050N0750_snapshot_028_z000p000.hdf5\n",
      "snapshot_027_z000p101 snap_027_z000p101.0.hdf5\n",
      "snapshot_026_z000p183 snap_026_z000p183.0.hdf5\n",
      "snapshot_025_z000p271 snap_025_z000p271.0.hdf5\n",
      "snapshot_024_z000p366 snap_024_z000p366.0.hdf5\n",
      "snapshot_023_z000p503 snap_023_z000p503.0.hdf5\n",
      "snapshot_022_z000p615 snap_022_z000p615.0.hdf5\n",
      "snapshot_021_z000p736 snap_021_z000p736.0.hdf5\n",
      "snapshot_020_z000p865 snap_020_z000p865.0.hdf5\n",
      "snapshot_019_z001p004 snap_019_z001p004.0.hdf5\n",
      "snapshot_018_z001p259 snap_018_z001p259.0.hdf5\n",
      "snapshot_017_z001p487 snap_017_z001p487.0.hdf5\n",
      "snapshot_016_z001p737 snap_016_z001p737.0.hdf5\n",
      "snapshot_015_z002p012 snap_015_z002p012.0.hdf5\n",
      "snapshot_014_z002p237 snap_014_z002p237.0.hdf5\n",
      "snapshot_013_z002p478 snap_013_z002p478.0.hdf5\n",
      "snapshot_012_z003p017 snap_012_z003p017.0.hdf5\n",
      "snapshot_011_z003p528 snap_011_z003p528.0.hdf5\n",
      "snapshot_010_z003p984 snap_010_z003p984.0.hdf5\n",
      "snapshot_009_z004p485 snap_009_z004p485.0.hdf5\n",
      "snapshot_008_z005p037 snap_008_z005p037.0.hdf5\n",
      "snapshot_007_z005p487 snap_007_z005p487.0.hdf5\n",
      "snapshot_006_z005p971 snap_006_z005p971.0.hdf5\n"
     ]
    }
   ],
   "source": [
    "for z_fname,z_snap in zip(z_fnames,z_snaps):\n",
    "    \n",
    "    print(z_snap,z_fname)\n",
    "    Wizard['snapshot_params']['directory'] =snapdir + z_snap + '/'\n",
    "    Wizard['snapshot_params']['file'] =  z_fname\n",
    "    x_start,y_start = IC[0]\n",
    "    Wizard['sightline']['ProjectionStart'] = (x_start,y_start,0)\n",
    "    Wizard['sightline']['x-position'] = x_start\n",
    "    Wizard['sightline']['y-position'] = y_start\n",
    "    \n",
    "    read_data = ReadData(Wizard)\n",
    "    particles = read_data.read_particles()\n",
    "    sightlineprojection  = SightLineProjection(Wizard)\n",
    "    projected_LOS        = sightlineprojection.ProjectData(particles)\n",
    "    cspec          = ComputeOpticaldepth(Wizard)\n",
    "    opticaldepth   = cspec.MakeAllOpticaldepth(projected_LOS)\n",
    "\n",
    "    def do_sight(isight, projections):\n",
    "\n",
    "        x_start,y_start = IC[isight]\n",
    "        Wizard['sightline']['ProjectionStart'] = (x_start,y_start,0)\n",
    "        Wizard['sightline']['x-position'] = x_start\n",
    "        Wizard['sightline']['y-position'] = y_start\n",
    "        read_data = ReadData(Wizard)\n",
    "        particles = read_data.read_particles()\n",
    "        sightlineprojection  = SightLineProjection(Wizard)\n",
    "        projected_LOS        = sightlineprojection.ProjectData(particles)\n",
    "        cspec          = ComputeOpticaldepth(Wizard)\n",
    "        opticaldepth   = cspec.MakeAllOpticaldepth(projected_LOS)\n",
    "\n",
    "        # generate the result and store it in the dictionary\n",
    "        result                = {\"nsight\": isight,\n",
    "                                 'Projection':projected_LOS,\n",
    "                                 'OpticaldepthWeighted':opticaldepth}\n",
    "        projections[isight] = result\n",
    "\n",
    "    ncpu   = 10      # number of cores to be used\n",
    "    nsight = 250     # number of sight lines to compute\n",
    "    #    \n",
    "    pool   = multiprocessing.Pool(ncpu)\n",
    "    manager      = multiprocessing.Manager()\n",
    "    projections  = manager.dict()\n",
    "\n",
    "    for i in range(nsight):\n",
    "        pool.apply_async(do_sight, args=(i, projections))\n",
    "    pool.close()\n",
    "    pool.join()\n",
    "\n",
    "\n",
    "    Wizard[\"Output\"] = {}\n",
    "    Wizard[\"Output\"][\"directory\"] = './'\n",
    "    Wizard[\"Output\"][\"fname\"]     = 'spectra_L050N0750_'+z_snap+\".hdf5\"\n",
    "    Wizard[\"snapshot_params\"]['file'] = str(Wizard[\"snapshot_params\"]['file'])\n",
    "    SW_IO = OpticalDepth_IO(Wizard,True)\n",
    "    for i in projections.keys():\n",
    "        SW_IO.write_to_file(projections[i])\n"
   ]
  }
 ],
 "metadata": {
  "kernelspec": {
   "display_name": "Python 3",
   "language": "python",
   "name": "python3"
  },
  "language_info": {
   "codemirror_mode": {
    "name": "ipython",
    "version": 3
   },
   "file_extension": ".py",
   "mimetype": "text/x-python",
   "name": "python",
   "nbconvert_exporter": "python",
   "pygments_lexer": "ipython3",
   "version": "3.6.5"
  }
 },
 "nbformat": 4,
 "nbformat_minor": 5
}
