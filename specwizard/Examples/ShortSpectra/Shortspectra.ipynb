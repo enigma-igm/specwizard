{
 "cells": [
  {
   "cell_type": "code",
   "execution_count": 1,
   "id": "8565a373-45f1-4603-b817-3727fab145e9",
   "metadata": {},
   "outputs": [
    {
     "name": "stdout",
     "output_type": "stream",
     "text": [
      "This class defines the B-spline kernel of Monaghan and Lattanzio, as used in Gadget-2\n"
     ]
    }
   ],
   "source": [
    "import sys\n",
    "# the mock-0.3.1 dir contains testcase.py, testutils.py & mock.py\n",
    "sys.path.append('../../')\n",
    "\n",
    "import matplotlib.pyplot as plt\n",
    "import numpy as np\n",
    "import Phys\n",
    "# physical constants in cgs units\n",
    "constants = Phys.ReadPhys()\n",
    "import importlib\n",
    "from SpecWizard_Input import ReadData\n",
    "\n",
    "import SpecWizard_BuildInput\n",
    "SpecWizard_BuildInput = importlib.reload(SpecWizard_BuildInput)\n",
    "from SpecWizard_BuildInput import Build_Input\n",
    "\n",
    "import SpecWizard_ProjectData\n",
    "SpecWizard_ProjectData = importlib.reload(SpecWizard_ProjectData)\n",
    "from SpecWizard_ProjectData import SightLineProjection\n",
    "\n",
    "import SpecWizard_ComputeOpticaldepth\n",
    "SpecWizard_ComputeOpticaldepth = importlib.reload(SpecWizard_ComputeOpticaldepth)\n",
    "from SpecWizard_ComputeOpticaldepth import ComputeOpticaldepth\n",
    "from SpecWizard_Atomfile import Atomfile\n",
    "\n",
    "\n"
   ]
  },
  {
   "cell_type": "markdown",
   "id": "437b7c06-f7a0-4f86-8947-7d7c9963dae4",
   "metadata": {},
   "source": [
    "In this notebook we will explore a galaxy that has a DLA. For this we use the simulations ____ that has been processed with the radiative transfer code Urchin []. So we can expect a neutral hydrogen from the galaxies. We use the eagle data base to queary and find galaxies. Then we calculate the total column densities. To choose a galaxy with a column density higher 1e20.3. This case will help us explore different tools that can be done using SW."
   ]
  },
  {
   "cell_type": "code",
   "execution_count": 8,
   "id": "3e6bb6ca-b006-4708-bcbd-b996f9f79b87",
   "metadata": {},
   "outputs": [],
   "source": [
    "import eagleSqlTools as sql\n",
    "\n",
    "me     = \"ntq877\"\n",
    "mine   = \"CW018JPD\"\n",
    "conSQL = sql.connect(me, password=mine)\n",
    "\n",
    "simname   = {'sql':'Eagle_testing..RecalL0050N1504','particles':'L0100N1504/PE/REFERENCE/'}\n",
    "variables = [{'type':1, 'name':'Coordinates'}]\n",
    "snapnum   = 12\n",
    "\n",
    "m_min = 10**(12.5)\n",
    "sqlpars   = { 'm_min':m_min,  'fraction':1}   # select halos with given mass\n"
   ]
  },
  {
   "cell_type": "code",
   "execution_count": 9,
   "id": "9a2e4d77-d1c4-4d31-8035-1e4c5539649f",
   "metadata": {},
   "outputs": [],
   "source": [
    "class Eagle:\n",
    "    def __init__(self, simname=simname, sqlpars=sqlpars,snapnum=snapnum):\n",
    "        ''' Methods to interface SQL database and particles from snapshots '''\n",
    "        self.snapnum    = snapnum\n",
    "        self.simname    = simname   # particlular simulation\n",
    "\n",
    "        # read header of snapshot data\n",
    "        self.eaglebase  = '/cosma7/data/Eagle/ScienceRuns/Planck1/'\n",
    "        self.subbase    = 'snapshot_'\n",
    "        self.partbase   = 'snap_'\n",
    "        # create file name\n",
    "        file            = self.eaglebase + self.simname['particles'] + '/data/' + self.subbase \n",
    "        file           += self.snapbase(snapnum) + '/' + self.partbase + self.snapbase(snapnum) + '.0.hdf5'\n",
    "        self.fname      = file\n",
    "    def QueryDB(self, sqlpars):\n",
    "        ''' Query data base '''\n",
    "\n",
    "        dla= ''' SELECT                \n",
    "                         AP.Mass_Star as sm,              \n",
    "                         CentreOfMass_x,              \n",
    "                         CentreOfMass_y,              \n",
    "                         CentreOfMass_z,     \n",
    "                         MassType_DM               \n",
    "                  \n",
    "                FROM                \n",
    "                         {simname}_Subhalo as SH,                \n",
    "                         {simname}_Aperture as AP                \n",
    "                WHERE                \n",
    "                         SH.SnapNum = {snapnum:3d}                \n",
    "                         and SH.GalaxyID = AP.GalaxyID                \n",
    "                         and AP.ApertureSize = 30                \n",
    "                         and SH.MassType_DM > 9e10  \n",
    "                         and SH.MassType_DM < 2e11  \n",
    "    \n",
    "        \n",
    "      ORDER BY       \n",
    "      \tAP.Mass_Star asc'''.format(simname=self.simname['sql']\n",
    "                                   , snapnum=self.snapnum)\n",
    "        \n",
    "        \n",
    "        \n",
    "        \n",
    "        \n",
    "        mhistory = '''SELECT \n",
    "                          FOF.Group_M_Crit200 as m200,\n",
    "                          FOF.GroupCentreOfPotential_x as x, \n",
    "                          FOF.GroupCentreOfPotential_y as y, \n",
    "                          FOF.GroupCentreOfPotential_z as z\n",
    "                  FROM \n",
    "                          {simname}_FOF as FOF \n",
    "                  WHERE \n",
    "                          FOF.Group_M_Crit200 > {m_min:1.2e} \n",
    "                          and FOF.RandomNumber < {fraction:1.3f}\n",
    "                          and FOF.SnapNum = {snapnum:3d}\n",
    "                  ORDER BY \n",
    "                          FOF.Group_M_Crit200 desc'''.format(\n",
    "                                                     simname=self.simname['sql']\n",
    "                                                    ,m_min=sqlpars['m_min']\n",
    "                                                    , fraction = sqlpars['fraction']\n",
    "                                                    , snapnum=self.snapnum)\n",
    "                                                \n",
    "        return sql.execute_query(conSQL, dla)\n",
    "        \n",
    "        \n",
    "        \n",
    "    def snapbase(self, snapnum=28):\n",
    "        ''' return file base for particle file '''\n",
    "        bases      = ['000_z020p000', '001_z015p132', '002_z009p993'\n",
    "                  , '003_z008p988', '004_z008p075', '005_z007p050'\n",
    "                  , '006_z005p971', '007_z005p487', '008_z005p037'\n",
    "                  , '009_z004p485', '010_z003p984', '011_z003p528'\n",
    "                  , '012_z003p017', '013_z002p478', '014_z002p237'\n",
    "                  , '015_z002p012', '016_z001p737', '017_z001p487'\n",
    "                  , '018_z001p259', '019_z001p004', '020_z000p865'\n",
    "                  , '021_z000p736', '022_z000p615', '023_z000p503'\n",
    "                  , '024_z000p366', '025_z000p271', '026_z000p183'\n",
    "                  , '027_z000p101', '028_z000p000']\n",
    "        try:\n",
    "            return bases[snapnum]\n",
    "        except:\n",
    "            print('This snapshot does not exists, sorry')"
   ]
  },
  {
   "cell_type": "code",
   "execution_count": 5,
   "id": "a5e89746-934b-4f8e-950e-1483393d9bc5",
   "metadata": {},
   "outputs": [
    {
     "ename": "NameError",
     "evalue": "name 'Eagle' is not defined",
     "output_type": "error",
     "traceback": [
      "\u001b[0;31m---------------------------------------------------------------------------\u001b[0m",
      "\u001b[0;31mNameError\u001b[0m                                 Traceback (most recent call last)",
      "\u001b[0;32m<ipython-input-5-56dda13aee5d>\u001b[0m in \u001b[0;36m<module>\u001b[0;34m\u001b[0m\n\u001b[0;32m----> 1\u001b[0;31m \u001b[0meagle\u001b[0m \u001b[0;34m=\u001b[0m \u001b[0mEagle\u001b[0m\u001b[0;34m(\u001b[0m\u001b[0;34m)\u001b[0m\u001b[0;34m\u001b[0m\u001b[0m\n\u001b[0m\u001b[1;32m      2\u001b[0m \u001b[0mhalos\u001b[0m \u001b[0;34m=\u001b[0m \u001b[0meagle\u001b[0m\u001b[0;34m.\u001b[0m\u001b[0mQueryDB\u001b[0m\u001b[0;34m(\u001b[0m\u001b[0msqlpars\u001b[0m\u001b[0;34m)\u001b[0m\u001b[0;34m\u001b[0m\u001b[0m\n",
      "\u001b[0;31mNameError\u001b[0m: name 'Eagle' is not defined"
     ]
    }
   ],
   "source": [
    "eagle = Eagle()\n",
    "halos = eagle.QueryDB(sqlpars)"
   ]
  },
  {
   "cell_type": "code",
   "execution_count": 4,
   "id": "b23cd63d-25f3-4d94-b21f-bc8e897add14",
   "metadata": {},
   "outputs": [
    {
     "name": "stdout",
     "output_type": "stream",
     "text": [
      "Warning! SightLength NOT found. Setting default value : 1\n"
     ]
    }
   ],
   "source": [
    "BI     = Build_Input()\n",
    "Wizard = BI.read_from_yml(\"Wizard.yml\")"
   ]
  },
  {
   "cell_type": "code",
   "execution_count": 161,
   "id": "e6a966a0-6086-434f-b960-230f7a29dd38",
   "metadata": {},
   "outputs": [
    {
     "name": "stderr",
     "output_type": "stream",
     "text": [
      "/cosma/local/Python/3.6.5/lib/python3.6/re.py:212: FutureWarning: split() requires a non-empty pattern match.\n",
      "  return _compile(pattern, flags).split(string, maxsplit)\n"
     ]
    },
    {
     "name": "stdout",
     "output_type": "stream",
     "text": [
      "Pos x:  49.88232 Pos y:  33.802322  Total Column density:  16.142091593178833\n",
      "Pos x:  11.570616 Pos y:  34.89096  Total Column density:  21.31005593985852\n",
      "Pos x:  42.945335 Pos y:  6.1401196  Total Column density:  21.025939211417253\n",
      "Pos x:  15.0375805 Pos y:  47.52385  Total Column density:  19.95376152450199\n",
      "Pos x:  5.932245 Pos y:  4.886761  Total Column density:  20.48453069075489\n",
      "Pos x:  13.583387 Pos y:  46.15459  Total Column density:  21.250242970795107\n",
      "Pos x:  48.05496 Pos y:  44.827496  Total Column density:  21.250953793570236\n",
      "Pos x:  1.273059 Pos y:  47.94903  Total Column density:  21.58816827663334\n",
      "Pos x:  37.2086 Pos y:  0.3756098  Total Column density:  20.83917677047305\n",
      "Pos x:  36.85666 Pos y:  41.862614  Total Column density:  20.266776965471824\n",
      "Pos x:  25.308481 Pos y:  2.8302934  Total Column density:  21.23945360797417\n",
      "Pos x:  34.390793 Pos y:  0.8451894  Total Column density:  21.16728523089945\n",
      "Pos x:  37.279953 Pos y:  40.663754  Total Column density:  21.68740281822116\n",
      "Pos x:  22.721725 Pos y:  43.110798  Total Column density:  20.939240740275824\n",
      "Pos x:  35.300037 Pos y:  13.223643  Total Column density:  21.49132251907071\n",
      "Pos x:  14.154414 Pos y:  9.485295  Total Column density:  20.887760233572486\n",
      "Pos x:  12.877846 Pos y:  0.029739533  Total Column density:  21.496279188243086\n",
      "Pos x:  8.813157 Pos y:  49.613243  Total Column density:  21.0196907815341\n",
      "Pos x:  47.28924 Pos y:  32.91352  Total Column density:  22.175052387749826\n"
     ]
    },
    {
     "name": "stderr",
     "output_type": "stream",
     "text": [
      "../../SpecWizard_ComputeOpticaldepth.py:197: RuntimeWarning: invalid value encountered in sqrt\n",
      "  bions_kms = np.sqrt(2*self.constants[\"kB\"]*Tions/weight) / 1e5\n"
     ]
    },
    {
     "name": "stdout",
     "output_type": "stream",
     "text": [
      "Pos x:  32.553234 Pos y:  46.131042  Total Column density:  21.46508310244014\n",
      "Pos x:  8.305247 Pos y:  35.480236  Total Column density:  20.88916413912424\n",
      "Pos x:  2.8166237 Pos y:  7.3687453  Total Column density:  21.49946165039524\n",
      "Pos x:  18.022644 Pos y:  49.941086  Total Column density:  21.574131585533223\n",
      "Pos x:  27.159906 Pos y:  30.016062  Total Column density:  20.46537552615402\n",
      "Pos x:  9.473634 Pos y:  35.50208  Total Column density:  21.368548523224938\n"
     ]
    }
   ],
   "source": [
    "od_dic = {}\n",
    "for i,(xx,yy) in enumerate(zip(halos['CentreOfMass_x'][:25],halos['CentreOfMass_y'][:25])):\n",
    "    od_dic[i] = {}\n",
    "    Wizard['sightline']['ProjectionStart'] = (xx/50.0,yy/50.0,0)\n",
    "    Wizard['sightline']['x-position'] = xx/50.0\n",
    "    Wizard['sightline']['y-position'] = yy/50.0\n",
    "    Wizard['sightline']['z-position'] = 0\n",
    "    \n",
    "    snapshot  = ReadData(wizard = Wizard)\n",
    "    particles = snapshot.read_particles()  \n",
    "\n",
    "    sightlineprojection  = SightLineProjection(Wizard)\n",
    "    projected_LOS        = sightlineprojection.ProjectData(particles)\n",
    "\n",
    "    \n",
    "    Wizard['ODParams']['VoigtOff']= True\n",
    "    cspec          = ComputeOpticaldepth(Wizard)\n",
    "    opticaldepth   = cspec.MakeAllOpticaldepth(projected_LOS)\n",
    "\n",
    "    op_cloudy_OD_nodw = opticaldepth[('Hydrogen', 'H I')]['Optical depths']['Value']\n",
    "    op_urchin_OD_nodw = opticaldepth['SimIons'][('Hydrogen', 'H I')]['Optical depths']['Value']\n",
    "    \n",
    "    print(\"Pos x: \",xx,\"Pos y: \", yy,\" Total Column density: \", np.log10(opticaldepth['SimIons'][('Hydrogen',\n",
    "  'H I')]['TotalIonColumnDensity']['Value']))\n",
    "    \n",
    "    od_dic[i]['Cloudy'] = {}\n",
    "    #     od_dic[i]['Cloudy']['DW'] = op_cloudy_OD\n",
    "    od_dic[i]['Cloudy']['NDW'] = op_cloudy_OD_nodw\n",
    "\n",
    "\n",
    "    od_dic[i]['Urchin'] = {}\n",
    "    #     od_dic[i]['Urchin']['DW'] = op_urchin_OD\n",
    "    od_dic[i]['Urchin']['NDW'] = op_urchin_OD_nodw\n",
    "    \n"
   ]
  },
  {
   "cell_type": "markdown",
   "id": "3f1955c0-a741-4347-a8fd-fc326fe8b6d4",
   "metadata": {},
   "source": [
    "We pick the halo with the ```Pos x:  14.154414 Pos y:  9.485295```  and a column density $\\log_{10} N_{HI} = 20.89$ "
   ]
  },
  {
   "cell_type": "code",
   "execution_count": 5,
   "id": "b6f94a2f-d483-470b-a808-4817c62d383c",
   "metadata": {},
   "outputs": [],
   "source": [
    "x_pos,y_pos,z_pos = 14.154414,9.485295 ,0 "
   ]
  },
  {
   "cell_type": "markdown",
   "id": "37ba1701-d1a1-40ba-9fb6-b7c9069686c7",
   "metadata": {},
   "source": [
    "When ever in the parameter files we indicate that we the ion fractions are provided. SpecWizard will calculate the ion fractions with the ion tables and with the ion fractions calculated by the simulation "
   ]
  },
  {
   "cell_type": "code",
   "execution_count": 6,
   "id": "accc0f50-e305-418a-bf3c-724669826ca7",
   "metadata": {},
   "outputs": [
    {
     "name": "stderr",
     "output_type": "stream",
     "text": [
      "/cosma/local/Python/3.6.5/lib/python3.6/re.py:212: FutureWarning: split() requires a non-empty pattern match.\n",
      "  return _compile(pattern, flags).split(string, maxsplit)\n"
     ]
    }
   ],
   "source": [
    "od_dic = {}\n",
    "x_pos,y_pos,z_pos = 14.154414,9.485295 ,0 \n",
    "Wizard['sightline']['ProjectionStart'] = (x_pos/50.0,y_pos/50.0,0)\n",
    "Wizard['sightline']['x-position'] = x_pos/50.0\n",
    "Wizard['sightline']['y-position'] = y_pos/50.0\n",
    "Wizard['sightline']['z-position'] = 0\n",
    "\n",
    "snapshot  = ReadData(wizard = Wizard)\n",
    "particles = snapshot.read_particles()  \n",
    "\n",
    "sightlineprojection  = SightLineProjection(Wizard)\n",
    "projected_LOS        = sightlineprojection.ProjectData(particles)\n",
    "\n",
    "\n",
    "Wizard['ODParams']['VoigtOff']= True\n",
    "cspec          = ComputeOpticaldepth(Wizard)\n",
    "opticaldepth   = cspec.MakeAllOpticaldepth(projected_LOS)\n",
    "\n",
    "op_cloudy_OD_nodw = opticaldepth[('Hydrogen', 'H I')]['Optical depths']\n",
    "op_urchin_OD_nodw = opticaldepth['SimIons'][('Hydrogen', 'H I')]['Optical depths']\n",
    "\n",
    "# print(xx,yy,\" Total Column density Urchin: \", np.log10(opticaldepth['SimIons'][('Hydrogen',\n",
    "# 'H I')]['TotalIonColumnDensity']['Value']))\n",
    "# print(xx,yy,\" Total Column density Sylvia Tables: \", np.log10(opticaldepth[('Hydrogen',\n",
    "# 'H I')]['TotalIonColumnDensity']['Value']))\n",
    "\n",
    "od_dic['Cloudy'] = {}\n",
    "od_dic['Cloudy']['NDW'] = op_cloudy_OD_nodw\n",
    "\n",
    "od_dic['Urchin'] = {}\n",
    "od_dic['Urchin']['NDW'] = op_urchin_OD_nodw"
   ]
  },
  {
   "cell_type": "markdown",
   "id": "f5c4d4e4-4426-49f0-b2b2-9959b8c31462",
   "metadata": {},
   "source": [
    "Here we can see the diference between the calculation of the ion fraction using the ion tables and Urchin "
   ]
  },
  {
   "cell_type": "code",
   "execution_count": 7,
   "id": "e31a41e0-f65e-4c79-b92d-ae28787a11b4",
   "metadata": {},
   "outputs": [
    {
     "data": {
      "text/plain": [
       "[<matplotlib.lines.Line2D at 0x7f0340a74240>]"
      ]
     },
     "execution_count": 7,
     "metadata": {},
     "output_type": "execute_result"
    },
    {
     "data": {
      "image/png": "[encoded data removed]",
      "text/plain": [
       "<Figure size 432x288 with 1 Axes>"
      ]
     },
     "metadata": {
      "needs_background": "light"
     },
     "output_type": "display_data"
    }
   ],
   "source": [
    "\n",
    "plt.plot(np.log10(od_dic['Urchin']['NDW']['Value']))\n",
    "plt.plot(np.log10(od_dic['Cloudy']['NDW']['Value']))\n"
   ]
  },
  {
   "cell_type": "code",
   "execution_count": 8,
   "id": "f11a8814-1abd-4a96-a54b-b5962a1fe0da",
   "metadata": {},
   "outputs": [
    {
     "data": {
      "text/plain": [
       "array([0.28308828, 0.1897059 , 0.        ])"
      ]
     },
     "execution_count": 8,
     "metadata": {},
     "output_type": "execute_result"
    }
   ],
   "source": [
    "import numpy as np \n",
    "\n",
    "np.array([14.154414,9.485295 ,0])/50"
   ]
  },
  {
   "cell_type": "code",
   "execution_count": 9,
   "id": "b9311235-ebb7-4794-a232-a36e1f015fab",
   "metadata": {},
   "outputs": [
    {
     "data": {
      "text/plain": [
       "{'ProjectionAxes': ['simx', 'simy', 'simz'],\n",
       " 'x-axis': 0,\n",
       " 'y-axis': 1,\n",
       " 'z-axis': 2,\n",
       " 'ProjectionStart': (0.28308827999999997, 0.1897059, 0),\n",
       " 'x-position': 0.28308827999999997,\n",
       " 'y-position': 0.1897059,\n",
       " 'z-position': 0,\n",
       " 'ProjectionLength': 1,\n",
       " 'SightLength': 1,\n",
       " 'ProjectionExtend': {'extend': False, 'extendfactor': 3},\n",
       " 'nsight': 0,\n",
       " 'Boxkms': {'Value': 3827.6916481695066,\n",
       "  'Info': {'VarDescription': 'Extent of simulation volume in direction of projection in terms of Hubble velocity',\n",
       "   'CGSConversionFactor': 100000.0,\n",
       "   'aexp-scale-exponent': 0.0,\n",
       "   'h-scale-exponent': 0.0}},\n",
       " 'Box': {'Value': 33.885,\n",
       "  'Info': {'VarDescription': 'Extent of simulation volume',\n",
       "   'CGSConversionFactor': 3.0856775814913676e+24,\n",
       "   'aexp-scale-exponent': 1.0,\n",
       "   'h-scale-exponent': -1.0}},\n",
       " 'short-LOS': False,\n",
       " 'sightkms': {'Value': 3827.6916481695066,\n",
       "  'Info': {'VarDescription': 'Extent of simulation volume in direction of projection in terms of Hubble velocity',\n",
       "   'CGSConversionFactor': 100000.0,\n",
       "   'aexp-scale-exponent': 0.0,\n",
       "   'h-scale-exponent': 0.0}},\n",
       " 'Sight_kms': 3827.6916481695066}"
      ]
     },
     "execution_count": 9,
     "metadata": {},
     "output_type": "execute_result"
    }
   ],
   "source": [
    "Wizard['sightline']"
   ]
  },
  {
   "cell_type": "markdown",
   "id": "85334a23-ee9a-42c3-a985-44c38c612836",
   "metadata": {},
   "source": [
    "If we calculate the damping wings of this optical depth will have the problem that the damping-wing distorts our spectra beyond the velocity-space size of our sightline"
   ]
  },
  {
   "cell_type": "code",
   "execution_count": 10,
   "id": "fa45b283-677b-42a2-9121-8b0e9ba2b11e",
   "metadata": {},
   "outputs": [],
   "source": [
    "dic = {'ReadIonFrac': True,\n",
    " 'ReadHydrogen': True,\n",
    " 'HI': 'HydrogenOneFraction',\n",
    " 'ReadHelium': False,\n",
    " 'He': '',\n",
    " 'fname_urchin': '/madfs/data/dc-syke1/Urchin/Runs/ScienceRuns/Planck1/L0050N1504/RECAL/data/snapshot_012_z003p017/Combine/urchin_snap_012_z003p017.0.hdf5'}"
   ]
  },
  {
   "cell_type": "code",
   "execution_count": 11,
   "id": "248c4ef9-4f95-49ed-8506-a51156c6634c",
   "metadata": {},
   "outputs": [
    {
     "data": {
      "text/plain": [
       "{'ReadIonFrac': True,\n",
       " 'ReadHydrogen': True,\n",
       " 'HI': 'HydrogenOneFraction',\n",
       " 'ReadHelium': False,\n",
       " 'He': '',\n",
       " 'fname_urchin': '/madfs/data/dc-syke1/Urchin/Runs/ScienceRuns/Planck1/L0050N1504/RECAL/data/snapshot_012_z003p017/Combine/urchin_snap_012_z003p017.0.hdf5'}"
      ]
     },
     "execution_count": 11,
     "metadata": {},
     "output_type": "execute_result"
    }
   ],
   "source": [
    "dic"
   ]
  },
  {
   "cell_type": "code",
   "execution_count": 12,
   "id": "220675b8-a294-4066-b49e-2797fdd65666",
   "metadata": {},
   "outputs": [],
   "source": [
    "vel_arr = np.arange(projected_LOS['npix']) * projected_LOS['pixel_kms']['Value']\n",
    "from SpecWizard_Lines import Lines\n",
    "lines = Lines( v_kms =vel_arr, box_kms=vel_arr.max())\n"
   ]
  },
  {
   "cell_type": "markdown",
   "id": "971ca13d-ca2f-4f7b-b892-faae22dbe3d0",
   "metadata": {},
   "source": [
    "In order to see the full effect we can make use of the optional parameter  ```extend``` in SpecWizard will insert the sightline in the middle of a velocity array ```extend_factor``` times bigger than the original. \n"
   ]
  },
  {
   "cell_type": "markdown",
   "id": "aea99c3e-5dd0-4cb2-94d0-316a47ca4fe2",
   "metadata": {},
   "source": [
    "Now we can display other ions that contribute to the sightline. And this will illustrate the "
   ]
  },
  {
   "cell_type": "code",
   "execution_count": 13,
   "id": "2630933e-99f0-4f0d-af68-e54e3035d12f",
   "metadata": {},
   "outputs": [],
   "source": [
    "lambdazeros = {}\n",
    "ions = Wizard['ionparams']['Ions']\n",
    "for ion in Wizard['ionparams']['Ions']:\n",
    "    lambdazeros[ion] = opticaldepth[ion]['lambda0']"
   ]
  },
  {
   "cell_type": "code",
   "execution_count": 14,
   "id": "709e27d9-35c3-4613-9d4c-915b65fddfc2",
   "metadata": {},
   "outputs": [],
   "source": [
    "vel_arr = np.arange(projected_LOS['npix']) * projected_LOS['pixel_kms']['Value']"
   ]
  },
  {
   "cell_type": "code",
   "execution_count": 15,
   "id": "f26c51c8-419c-483b-bd0d-a79f25ee444e",
   "metadata": {},
   "outputs": [],
   "source": [
    "snap_red = snapshot.header['Cosmo']['Redshift']"
   ]
  },
  {
   "cell_type": "code",
   "execution_count": 16,
   "id": "9e62bb08-76a8-4b3e-99bd-3c37896fbc4e",
   "metadata": {},
   "outputs": [],
   "source": [
    "snap_red = snapshot.header['Cosmo']['Redshift']\n",
    "lambdaz = np.array(list(lambdazeros.values()))  * ( 1 + snap_red)"
   ]
  },
  {
   "cell_type": "code",
   "execution_count": 17,
   "id": "734ee73b-6b36-4289-a81b-a54705368d42",
   "metadata": {},
   "outputs": [
    {
     "data": {
      "text/plain": [
       "array([4882.74459215, 1220.1571331 , 3924.20535918, 6218.30026245,\n",
       "       3351.63414744, 2408.25601453])"
      ]
     },
     "execution_count": 17,
     "metadata": {},
     "output_type": "execute_result"
    }
   ],
   "source": [
    " np.array(list(lambdazeros.values()))  * ( 1 + snap_red)"
   ]
  },
  {
   "cell_type": "code",
   "execution_count": 18,
   "id": "c4b813e8-684d-4ac5-8d0e-07a3223cc658",
   "metadata": {},
   "outputs": [],
   "source": [
    "c_kms = constants['c'] /1e5"
   ]
  },
  {
   "cell_type": "code",
   "execution_count": 19,
   "id": "b567df8a-78e8-4d0c-9f0f-4d2d34459a02",
   "metadata": {},
   "outputs": [],
   "source": [
    "c_kms = constants['c'] /1e5\n",
    "llinelambda_end   =  lambdaz[0] * np.exp(vel_arr/c_kms)"
   ]
  },
  {
   "cell_type": "code",
   "execution_count": 20,
   "id": "9e27f6b8-12b2-49c0-9aa1-70e82cc44f86",
   "metadata": {},
   "outputs": [
    {
     "data": {
      "text/plain": [
       "array([4882.74459215, 4882.76087795, 4882.7771638 , ..., 4945.43672219,\n",
       "       4945.45321709, 4945.46971205])"
      ]
     },
     "execution_count": 20,
     "metadata": {},
     "output_type": "execute_result"
    }
   ],
   "source": [
    "llinelambda_end"
   ]
  },
  {
   "cell_type": "code",
   "execution_count": 21,
   "id": "775fec6d-26bd-4254-8220-d41e2219b9f9",
   "metadata": {},
   "outputs": [
    {
     "data": {
      "text/plain": [
       "array([1215.6701    ,  303.78581472,  977.02      , 1548.187     ,\n",
       "        834.4654    ,  599.59      ])"
      ]
     },
     "execution_count": 21,
     "metadata": {},
     "output_type": "execute_result"
    }
   ],
   "source": [
    "np.array(list(lambdazeros.values())) "
   ]
  },
  {
   "cell_type": "code",
   "execution_count": 22,
   "id": "43206a4f-de8f-4180-95de-89d17423ab17",
   "metadata": {},
   "outputs": [],
   "source": [
    "from scipy.interpolate import interp1d\n"
   ]
  },
  {
   "cell_type": "code",
   "execution_count": 23,
   "id": "edfac3b2-a29e-4a51-ad5e-f3a75496740a",
   "metadata": {},
   "outputs": [
    {
     "data": {
      "text/plain": [
       "488217.09982290666"
      ]
     },
     "execution_count": 23,
     "metadata": {},
     "output_type": "execute_result"
    }
   ],
   "source": [
    "(c_kms)*np.log(lambdaz.max()/lambdaz.min())"
   ]
  },
  {
   "cell_type": "code",
   "execution_count": 58,
   "id": "49be4aff-bd39-42f9-8a61-fc729a51d9c7",
   "metadata": {},
   "outputs": [],
   "source": [
    "from SpecWizard_Lines import Lines"
   ]
  },
  {
   "cell_type": "code",
   "execution_count": 59,
   "id": "cc55b7c0-6d4e-4acb-a8fb-f7612edd4858",
   "metadata": {},
   "outputs": [],
   "source": [
    "from SpecWizard_Lines import Lines\n",
    "lines = Lines( v_kms =vel_arr, box_kms=vel_arr.max())"
   ]
  },
  {
   "cell_type": "code",
   "execution_count": 26,
   "id": "f0599189-fd26-40da-aed1-d71fc8cab524",
   "metadata": {},
   "outputs": [
    {
     "data": {
      "text/plain": [
       "[('Hydrogen', 'H I'),\n",
       " ('Helium', 'He II'),\n",
       " ('Carbon', 'C III'),\n",
       " ('Carbon', 'C IV'),\n",
       " ('Oxygen', 'O II'),\n",
       " ('Oxygen', 'O III')]"
      ]
     },
     "execution_count": 26,
     "metadata": {},
     "output_type": "execute_result"
    }
   ],
   "source": [
    "ions"
   ]
  },
  {
   "cell_type": "code",
   "execution_count": 29,
   "id": "ae84c32e-e3b1-4ee9-b96c-72bb472b17f2",
   "metadata": {},
   "outputs": [
    {
     "name": "stdout",
     "output_type": "stream",
     "text": [
      "('Hydrogen', 'H I') 4882.744592147201 4945.469712045608\n",
      "('Helium', 'He II') 1220.157133102675 1235.831617201608\n",
      "('Carbon', 'C III') 3924.2053591839244 3974.616812622766\n",
      "('Carbon', 'C IV') 6218.300262449983 6298.18230873882\n",
      "('Oxygen', 'O II') 3351.6341474417695 3394.6901889336777\n",
      "('Oxygen', 'O III') 2408.256014526918 2439.193153344337\n"
     ]
    },
    {
     "data": {
      "image/png": "[encoded data removed]",
      "text/plain": [
       "<Figure size 1440x504 with 13 Axes>"
      ]
     },
     "metadata": {
      "needs_background": "light"
     },
     "output_type": "display_data"
    }
   ],
   "source": [
    "lambda_spectr = np.arange(lambdaz.min()-10,lambdaz.max()+200,0.012)\n",
    "all_spectra   = np.zeros_like(lambda_spectr)\n",
    "colours = ['red','blue','green','cyan','orange','purple']\n",
    "\n",
    "fig = plt.figure(constrained_layout=True,figsize=(20, 7))\n",
    "gs = fig.add_gridspec(4, 4)\n",
    "ax1 = fig.add_subplot(gs[0, :2])\n",
    "ax2 = fig.add_subplot(gs[0, 2:])\n",
    "ax3 = fig.add_subplot(gs[1, :2])\n",
    "ax4 = fig.add_subplot(gs[1, 2:])\n",
    "ax5 = fig.add_subplot(gs[2, :2])\n",
    "ax6 = fig.add_subplot(gs[2, 2:])\n",
    "ax7 = fig.add_subplot(gs[-1, :])\n",
    "\n",
    "axess = [ax1,ax2,ax3,ax4,ax5,ax6,ax7]\n",
    "\n",
    "for axx,ion,cc in zip(axess,ions,colours):\n",
    "    lambdaz_ion    = opticaldepth[ion]['lambda0'] * ( 1 + snap_red)\n",
    "    \n",
    "    \n",
    "    od = opticaldepth[ion]['Optical depths']['Value']\n",
    "    if ion == ('Hydrogen', 'H I'):\n",
    "        od = opticaldepth['SimIons'][ion]['Optical depths']['Value']\n",
    "    \n",
    "    llinelambda_end   =  lambdaz_ion * np.exp(vel_arr/c_kms)\n",
    "        \n",
    "    axx.plot(llinelambda_end, np.exp(-od),c=cc)\n",
    "    ax7.plot(llinelambda_end, np.exp(-od),c=cc)\n",
    "\n",
    "    axx.set_title(ion[1])\n",
    "    axx.set_xlabel(r'$\\lambda [\\mathrm{\\AA}] $')\n",
    "    axx.set_ylabel(r'$e^{-\\tau}$')\n",
    "    axx2 = axx.twiny()\n",
    "    axx2.set_xlim(0,vel_arr.max())\n",
    "    #axx2.plot(vel_arr,np.zeros_like(vel_arr))\n",
    "    #axx2.cla()\n",
    "    axx2.set_xlabel(r\"$\\mathrm{v[kms^{-1}]}$\")\n",
    "    print(ion,llinelambda_end.min(),llinelambda_end.max())\n",
    "    all_spectra += Rebin(od,lambda_spectr,llinelambda_end)\n",
    "ax7.plot(lambda_spectr,np.exp(-all_spectra),alpha=0.8,c='k',zorder=0)\n",
    "ax7.set_xlabel(r'$\\lambda [\\mathrm{\\AA}] $')\n",
    "ax7.set_ylabel(r'$e^{\\tau}$')\n",
    "\n",
    "fig.show()\n",
    "plt.savefig(\"shortspectra.pdf\",dpi=300)"
   ]
  },
  {
   "cell_type": "code",
   "execution_count": 48,
   "id": "4a616784-2556-455e-9c19-f3d3b2eddfb8",
   "metadata": {},
   "outputs": [],
   "source": [
    "import importlib\n",
    "import SpecWizard_Elements\n",
    "SpecWizard_Elements = importlib.reload(SpecWizard_Elements)\n",
    "from SpecWizard_Elements import Elements"
   ]
  },
  {
   "cell_type": "code",
   "execution_count": 49,
   "id": "c496eb00-38a6-405a-8f16-e7208eeb2426",
   "metadata": {},
   "outputs": [],
   "source": [
    "from SpecWizard_Elements import Elements"
   ]
  },
  {
   "cell_type": "code",
   "execution_count": 50,
   "id": "dfaf0c5a-e5e1-4088-a354-904e6674a62d",
   "metadata": {},
   "outputs": [],
   "source": [
    "elements = Elements(Wizard['ionparams'])"
   ]
  },
  {
   "cell_type": "code",
   "execution_count": 51,
   "id": "8119101a-554c-49e8-a3b0-8aedf0e64b13",
   "metadata": {},
   "outputs": [],
   "source": [
    "elementes = Elements('../../atom_dat.hdf5')"
   ]
  },
  {
   "cell_type": "code",
   "execution_count": 52,
   "id": "80005c4b-9a66-41c8-beb2-426c3e8371ee",
   "metadata": {},
   "outputs": [],
   "source": [
    "hyd_dat = elementes.ElementParameters(ElementNames=['Hydrogen'])"
   ]
  },
  {
   "cell_type": "code",
   "execution_count": 53,
   "id": "15ac9fb3-c3d9-4556-b645-dee9f873e130",
   "metadata": {},
   "outputs": [],
   "source": [
    "ly_lambda0 = hyd_dat['Hydrogen']['States']['H I']['Lines']['Lambda0']\n",
    "ly_fvalues =  hyd_dat['Hydrogen']['States']['H I']['Lines']['f-value']"
   ]
  },
  {
   "cell_type": "code",
   "execution_count": 54,
   "id": "8d1201e0-14c5-40bf-8e72-14a7e3c556a9",
   "metadata": {},
   "outputs": [],
   "source": [
    "snap_red = snapshot.header['Cosmo']['Redshift']\n",
    "lambdaz = np.array(ly_lambda0)  * ( 1 + snap_red)\n"
   ]
  },
  {
   "cell_type": "code",
   "execution_count": 55,
   "id": "46632d1f-a80c-411a-956f-20b45a1426e2",
   "metadata": {},
   "outputs": [],
   "source": [
    "c_kms = constants['c'] /1e5\n"
   ]
  },
  {
   "cell_type": "code",
   "execution_count": 60,
   "id": "0f94c10b-92ba-47bb-9e8d-7351899cfb45",
   "metadata": {},
   "outputs": [],
   "source": [
    "lambda_spectr = np.arange(lambdaz.min()-200,lambdaz.max()+200,0.012)\n",
    "all_spectra   = np.zeros_like(lambda_spectr)"
   ]
  },
  {
   "cell_type": "code",
   "execution_count": 61,
   "id": "c9a9888d-e498-4209-9b97-7a204801af26",
   "metadata": {},
   "outputs": [
    {
     "ename": "ValueError",
     "evalue": "fp and xp are not of the same length.",
     "output_type": "error",
     "traceback": [
      "\u001b[0;31m---------------------------------------------------------------------------\u001b[0m",
      "\u001b[0;31mValueError\u001b[0m                                Traceback (most recent call last)",
      "\u001b[0;32m<ipython-input-61-22bfc08d7d44>\u001b[0m in \u001b[0;36m<module>\u001b[0;34m\u001b[0m\n\u001b[1;32m     16\u001b[0m \u001b[0;34m\u001b[0m\u001b[0m\n\u001b[1;32m     17\u001b[0m         \u001b[0mall_spectra\u001b[0m \u001b[0;34m+=\u001b[0m \u001b[0mRebin\u001b[0m\u001b[0;34m(\u001b[0m\u001b[0mno_dw\u001b[0m\u001b[0;34m,\u001b[0m\u001b[0mlambda_spectr\u001b[0m\u001b[0;34m,\u001b[0m\u001b[0mllinelambda_end\u001b[0m\u001b[0;34m)\u001b[0m\u001b[0;34m\u001b[0m\u001b[0m\n\u001b[0;32m---> 18\u001b[0;31m         \u001b[0mall_spectra\u001b[0m \u001b[0;34m=\u001b[0m \u001b[0mlines\u001b[0m\u001b[0;34m.\u001b[0m\u001b[0mconvolvelorentz\u001b[0m\u001b[0;34m(\u001b[0m\u001b[0mall_spectra\u001b[0m\u001b[0;34m)\u001b[0m\u001b[0;34m\u001b[0m\u001b[0m\n\u001b[0m\u001b[1;32m     19\u001b[0m         \u001b[0mllinelambda_end\u001b[0m   \u001b[0;34m=\u001b[0m \u001b[0;34m(\u001b[0m\u001b[0;36m912\u001b[0m \u001b[0;34m*\u001b[0m \u001b[0;34m(\u001b[0m \u001b[0;36m1\u001b[0m \u001b[0;34m+\u001b[0m \u001b[0msnap_red\u001b[0m\u001b[0;34m)\u001b[0m\u001b[0;34m)\u001b[0m \u001b[0;34m*\u001b[0m \u001b[0mnp\u001b[0m\u001b[0;34m.\u001b[0m\u001b[0mexp\u001b[0m\u001b[0;34m(\u001b[0m\u001b[0mvel_arr\u001b[0m\u001b[0;34m/\u001b[0m\u001b[0mc_kms\u001b[0m\u001b[0;34m)\u001b[0m\u001b[0;34m\u001b[0m\u001b[0m\n\u001b[1;32m     20\u001b[0m         \u001b[0mdla\u001b[0m \u001b[0;34m=\u001b[0m \u001b[0mlines\u001b[0m\u001b[0;34m.\u001b[0m\u001b[0mconvolveLymanLimit\u001b[0m\u001b[0;34m(\u001b[0m\u001b[0mno_dw\u001b[0m\u001b[0;34m)\u001b[0m\u001b[0;34m\u001b[0m\u001b[0m\n",
      "\u001b[0;32m/cosma7/data/dp004/dc-aram1/pyspecwizard_main/gitcontrol/oficial_git/specwizard/specwizard/SpecWizard_Lines.py\u001b[0m in \u001b[0;36mconvolvelorentz\u001b[0;34m(self, phi)\u001b[0m\n\u001b[1;32m    198\u001b[0m \u001b[0;34m\u001b[0m\u001b[0m\n\u001b[1;32m    199\u001b[0m             \u001b[0;31m# Create lorentz profile\u001b[0m\u001b[0;34m\u001b[0m\u001b[0;34m\u001b[0m\u001b[0m\n\u001b[0;32m--> 200\u001b[0;31m             \u001b[0mphi_fine\u001b[0m    \u001b[0;34m=\u001b[0m \u001b[0mnp\u001b[0m\u001b[0;34m.\u001b[0m\u001b[0minterp\u001b[0m\u001b[0;34m(\u001b[0m\u001b[0mv_convolve\u001b[0m\u001b[0;34m,\u001b[0m \u001b[0mself\u001b[0m\u001b[0;34m.\u001b[0m\u001b[0mv_kms\u001b[0m\u001b[0;34m,\u001b[0m \u001b[0mphi\u001b[0m\u001b[0;34m)\u001b[0m\u001b[0;34m\u001b[0m\u001b[0m\n\u001b[0m\u001b[1;32m    201\u001b[0m             \u001b[0mwidth\u001b[0m       \u001b[0;34m=\u001b[0m \u001b[0mself\u001b[0m\u001b[0;34m.\u001b[0m\u001b[0mnaturalwidth\u001b[0m\u001b[0;34m\u001b[0m\u001b[0m\n\u001b[1;32m    202\u001b[0m             \u001b[0mv_bins\u001b[0m      \u001b[0;34m=\u001b[0m \u001b[0mv_convolve\u001b[0m \u001b[0;34m-\u001b[0m \u001b[0mnp\u001b[0m\u001b[0;34m.\u001b[0m\u001b[0mmean\u001b[0m\u001b[0;34m(\u001b[0m\u001b[0mv_convolve\u001b[0m\u001b[0;34m)\u001b[0m              \u001b[0;31m# centre Lorenz at the centre of the velocity interval\u001b[0m\u001b[0;34m\u001b[0m\u001b[0m\n",
      "\u001b[0;32m<__array_function__ internals>\u001b[0m in \u001b[0;36minterp\u001b[0;34m(*args, **kwargs)\u001b[0m\n",
      "\u001b[0;32m/cosma/local/Python/3.6.5/lib/python3.6/site-packages/numpy/lib/function_base.py\u001b[0m in \u001b[0;36minterp\u001b[0;34m(x, xp, fp, left, right, period)\u001b[0m\n\u001b[1;32m   1421\u001b[0m         \u001b[0mfp\u001b[0m \u001b[0;34m=\u001b[0m \u001b[0mnp\u001b[0m\u001b[0;34m.\u001b[0m\u001b[0mconcatenate\u001b[0m\u001b[0;34m(\u001b[0m\u001b[0;34m(\u001b[0m\u001b[0mfp\u001b[0m\u001b[0;34m[\u001b[0m\u001b[0;34m-\u001b[0m\u001b[0;36m1\u001b[0m\u001b[0;34m:\u001b[0m\u001b[0;34m]\u001b[0m\u001b[0;34m,\u001b[0m \u001b[0mfp\u001b[0m\u001b[0;34m,\u001b[0m \u001b[0mfp\u001b[0m\u001b[0;34m[\u001b[0m\u001b[0;36m0\u001b[0m\u001b[0;34m:\u001b[0m\u001b[0;36m1\u001b[0m\u001b[0;34m]\u001b[0m\u001b[0;34m)\u001b[0m\u001b[0;34m)\u001b[0m\u001b[0;34m\u001b[0m\u001b[0m\n\u001b[1;32m   1422\u001b[0m \u001b[0;34m\u001b[0m\u001b[0m\n\u001b[0;32m-> 1423\u001b[0;31m     \u001b[0;32mreturn\u001b[0m \u001b[0minterp_func\u001b[0m\u001b[0;34m(\u001b[0m\u001b[0mx\u001b[0m\u001b[0;34m,\u001b[0m \u001b[0mxp\u001b[0m\u001b[0;34m,\u001b[0m \u001b[0mfp\u001b[0m\u001b[0;34m,\u001b[0m \u001b[0mleft\u001b[0m\u001b[0;34m,\u001b[0m \u001b[0mright\u001b[0m\u001b[0;34m)\u001b[0m\u001b[0;34m\u001b[0m\u001b[0m\n\u001b[0m\u001b[1;32m   1424\u001b[0m \u001b[0;34m\u001b[0m\u001b[0m\n\u001b[1;32m   1425\u001b[0m \u001b[0;34m\u001b[0m\u001b[0m\n",
      "\u001b[0;31mValueError\u001b[0m: fp and xp are not of the same length."
     ]
    },
    {
     "data": {
      "text/plain": [
       "<Figure size 1440x504 with 0 Axes>"
      ]
     },
     "metadata": {},
     "output_type": "display_data"
    }
   ],
   "source": [
    "lambda_spectr = np.arange((912*4)-10,lambdaz.max()+200,0.012)\n",
    "all_spectra   = np.zeros_like(lambda_spectr)\n",
    "colours = ['red','blue','green','cyan','orange','purple']\n",
    "\n",
    "plt.figure(constrained_layout=True,figsize=(20, 7))\n",
    "\n",
    "\n",
    "for i in range(len(ly_lambda0)):\n",
    "    lambdaz_ion    = ly_lambda0[i] * ( 1 + snap_red)\n",
    "    \n",
    "    if i ==0:\n",
    "        \n",
    "        #dw  = lines.convolvelorentz(no_dw)\n",
    "\n",
    "        llinelambda_end   =  lambdaz_ion * np.exp(vel_arr/c_kms)\n",
    "\n",
    "        all_spectra += Rebin(no_dw,lambda_spectr,llinelambda_end)\n",
    "        all_spectra = lines.convolvelorentz(all_spectra)\n",
    "        llinelambda_end   = (912 * ( 1 + snap_red)) * np.exp(vel_arr/c_kms)\n",
    "        dla = lines.convolveLymanLimit(no_dw)\n",
    "        all_spectra += Rebin(dla,lambda_spectr,llinelambda_end)\n",
    "    \n",
    "    else:\n",
    "        tau_line = no_dw * ly_lambda0[i] *  ly_fvalues[i] / (ly_lambda0[0] *  ly_fvalues[0])\n",
    "        llinelambda_end   = lambdaz_ion * np.exp(vel_arr/c_kms)\n",
    "\n",
    "        all_spectra += Rebin(tau_line,lambda_spectr,llinelambda_end)\n",
    "\n"
   ]
  },
  {
   "cell_type": "code",
   "execution_count": 175,
   "id": "0d2f2135-e21b-4d5f-bfb1-29f0c737e751",
   "metadata": {},
   "outputs": [
    {
     "data": {
      "text/plain": [
       "[<matplotlib.lines.Line2D at 0x7fb8517557b8>]"
      ]
     },
     "execution_count": 175,
     "metadata": {},
     "output_type": "execute_result"
    },
    {
     "data": {
      "image/png": "[encoded data removed]",
      "text/plain": [
       "<Figure size 432x288 with 1 Axes>"
      ]
     },
     "metadata": {
      "needs_background": "light"
     },
     "output_type": "display_data"
    }
   ],
   "source": [
    "plt.plot(lambda_spectr,np.exp(-all_spectra))"
   ]
  },
  {
   "cell_type": "code",
   "execution_count": 62,
   "id": "7dd08954-1f82-45bd-a0db-60390ef26aef",
   "metadata": {},
   "outputs": [],
   "source": [
    "def vel_from_wv(lambda_f,lambda_min,c_kms=1):\n",
    "    '''\n",
    "    Calculates velocity [km/s] from wavelength range\n",
    "    '''\n",
    "    return np.log(lambda_f/lambda_min) * c_kms\n"
   ]
  },
  {
   "cell_type": "code",
   "execution_count": 223,
   "id": "4819980f-75ab-4dc2-879f-f40b35ec4eb6",
   "metadata": {},
   "outputs": [
    {
     "data": {
      "text/plain": [
       "4882.744592147201"
      ]
     },
     "execution_count": 223,
     "metadata": {},
     "output_type": "execute_result"
    }
   ],
   "source": [
    "ly_lambda0[0] * ( 1 + snap_red)"
   ]
  },
  {
   "cell_type": "code",
   "execution_count": 63,
   "id": "1b012570-5a96-441e-8bb9-30c7f993ffec",
   "metadata": {},
   "outputs": [],
   "source": [
    "        llinelambda_end   =  lambdaz_ion * np.exp(vel_arr/c_kms)\n",
    "        vel_offset        = vel_from_wv(ly_lambda0[0] * ( 1 + snap_red),lambda_spectr.min(),c_kms=c_kms)"
   ]
  },
  {
   "cell_type": "code",
   "execution_count": 64,
   "id": "56576a23-652f-48a8-ab92-f9e1a6800e41",
   "metadata": {},
   "outputs": [],
   "source": [
    "no_dw = opticaldepth['SimIons'][('Hydrogen','H I')]['Optical depths']['Value']"
   ]
  },
  {
   "cell_type": "code",
   "execution_count": 65,
   "id": "e8319684-0cb5-43c4-8d9a-1b7e55149ae4",
   "metadata": {},
   "outputs": [
    {
     "data": {
      "text/plain": [
       "[<matplotlib.lines.Line2D at 0x7f0328d70898>]"
      ]
     },
     "execution_count": 65,
     "metadata": {},
     "output_type": "execute_result"
    },
    {
     "data": {
      "image/png": "[encoded data removed]",
      "text/plain": [
       "<Figure size 432x288 with 1 Axes>"
      ]
     },
     "metadata": {
      "needs_background": "light"
     },
     "output_type": "display_data"
    }
   ],
   "source": [
    "plt.plot(np.exp(-no_dw))"
   ]
  },
  {
   "cell_type": "code",
   "execution_count": 66,
   "id": "fdd6a031-73ce-4c8f-bf47-ceec107956ab",
   "metadata": {},
   "outputs": [],
   "source": [
    "\n",
    "lambda_spectr = np.arange((912*4)-100,lambdaz.max()+700,0.012)\n",
    "lambda_spectr = np.arange(2000,lambdaz.max()+700,0.012)\n",
    "\n",
    "all_spectra   = np.zeros_like(lambda_spectr)\n",
    "\n",
    "velocity_start = 0\n",
    "pixkms = 1.0\n",
    "velocity_end   = vel_from_wv(lambda_spectr.max(),lambda_spectr.min(),c_kms)\n",
    "velocity_npix  = int((velocity_end-velocity_start) * pixkms)\n",
    "velocity_shor  = int(len(no_dw)) * pixkms\n",
    "velocity_array = velocity_start + (np.arange(velocity_npix) * pixkms)\n",
    "\n",
    "all_spectra = np.zeros_like(velocity_array)\n",
    "lines = Lines( v_kms =velocity_array, box_kms=velocity_array.max())\n",
    "lines_short = Lines( v_kms =vel_arr, box_kms=vel_arr.max())\n",
    "\n",
    "ly_series = {}\n",
    "\n",
    "for i in range(len(ly_lambda0)):\n",
    "    lambdaz_ion    = ly_lambda0[i] * ( 1 + snap_red)\n",
    "    \n",
    "    if i ==0:\n",
    "        \n",
    "        #dw  = lines.convolvelorentz(no_dw)\n",
    "        dw = no_dw\n",
    "        llinelambda_end   =  lambdaz_ion * np.exp(vel_arr/c_kms)\n",
    "        vel_offset        = vel_from_wv(lambdaz_ion,lambda_spectr.min(),c_kms=c_kms)\n",
    "        vel_arr_line      = vel_offset+vel_arr\n",
    "        hi                =  Rebin(no_dw,velocity_array,vel_arr_line)\n",
    "        all_spectra       +=    hi\n",
    "        all_spectra = lines.convolvelorentz(all_spectra)\n",
    "\n",
    "        lambdaz_ion = (912 * ( 1 + snap_red))\n",
    "        vel_offset        = vel_from_wv(lambdaz_ion,lambda_spectr.min(),c_kms=c_kms)\n",
    "        vel_arr_line      = vel_offset+vel_arr\n",
    "        dum_arr           = np.zeros_like(all_spectra)\n",
    "        dum_arr          += Rebin(no_dw ,velocity_array,vel_arr_line) \n",
    "        limit = lines.convolveLymanLimit(dum_arr)\n",
    "        #limit = lines_short.convolveLymanLimit(no_dw)\n",
    "        ly_series[ly_lambda0[i]] = hi\n",
    "        ly_series[\"dla\"]   = all_spectra.copy()\n",
    "        ly_series[\"limit\"] = limit\n",
    "\n",
    "        #all_spectra += dla\n",
    "    \n",
    "    else:\n",
    "          \n",
    "        tau_line = no_dw * ly_lambda0[i] *  ly_fvalues[i] / (ly_lambda0[0] *  ly_fvalues[0])\n",
    "        vel_offset        = vel_from_wv(lambdaz_ion,lambda_spectr.min(),c_kms=c_kms)\n",
    "        vel_arr_line      = vel_offset+vel_arr\n",
    "        tau_long           = Rebin(tau_line,velocity_array,vel_arr_line)\n",
    "\n",
    "        ly_series[ly_lambda0[i]] = tau_long\n",
    "        all_spectra += tau_long\n",
    "\n"
   ]
  },
  {
   "cell_type": "code",
   "execution_count": 68,
   "id": "e14bcea7-1328-4bfd-aaa7-1d96a6f82478",
   "metadata": {},
   "outputs": [],
   "source": [
    "kkeys = np.array(list(ly_series.keys()))[3:].astype(float)"
   ]
  },
  {
   "cell_type": "code",
   "execution_count": 73,
   "id": "402e428c-1998-4faf-ab61-09cfb5023c98",
   "metadata": {},
   "outputs": [
    {
     "data": {
      "text/plain": [
       "dict_keys([1215.6701, 'dla', 'limit', 1025.722, 972.5365, 949.74287, 937.80331, 930.748142, 926.225605, 923.150275, 920.963006, 919.351334, 918.1293, 917.180514, 916.429076, 915.823751, 915.328932, 914.919242, 914.576201, 914.286086, 914.038537, 913.825609, 913.641133, 913.480251, 913.339105, 913.214592, 913.104195, 913.005859, 912.917887, 912.838873, 912.767639, 912.703197, 912.644709, 912.591463, 912.542852, 912.498352, 912.457513, 912.419943, 912.385303, 912.353295, 912.32366])"
      ]
     },
     "execution_count": 73,
     "metadata": {},
     "output_type": "execute_result"
    }
   ],
   "source": [
    "ly_series.keys()"
   ]
  },
  {
   "cell_type": "code",
   "execution_count": 75,
   "id": "6c1c4759-de85-4088-9e83-0e65827cbda8",
   "metadata": {},
   "outputs": [
    {
     "data": {
      "text/plain": [
       "(180000.0, 307745.0)"
      ]
     },
     "execution_count": 75,
     "metadata": {},
     "output_type": "execute_result"
    },
    {
     "data": {
      "image/png": "[encoded data removed]",
      "text/plain": [
       "<Figure size 1440x504 with 1 Axes>"
      ]
     },
     "metadata": {
      "needs_background": "light"
     },
     "output_type": "display_data"
    }
   ],
   "source": [
    "plt.figure(constrained_layout=True,figsize=(20, 7))\n",
    "\n",
    "plt.plot(velocity_array,np.exp(-(ly_series[1215.6701]) ))\n",
    "plt.plot(velocity_array,np.exp(-(all_spectra+0*ly_series['limit']) ))\n",
    "plt.plot(velocity_array,np.exp(-(all_spectra+ly_series['limit']) ))\n",
    "plt.xlim(180000,velocity_array.max())"
   ]
  },
  {
   "cell_type": "code",
   "execution_count": 345,
   "id": "3481761f-a2e9-412d-897c-880317b9b104",
   "metadata": {},
   "outputs": [],
   "source": [
    "lambdaz_ion    = ly_lambda0[0] * ( 1 + snap_red)\n",
    "dw = no_dw\n",
    "llinelambda_end   =  lambdaz_ion * np.exp(vel_arr/c_kms)\n",
    "vel_offset        = vel_from_wv(lambdaz_ion,lambda_spectr.min(),c_kms=c_kms)\n",
    "vel_arr_line      = vel_offset+vel_arr\n",
    "hi                =  Rebin(no_dw,velocity_array,vel_arr_line)\n"
   ]
  },
  {
   "cell_type": "code",
   "execution_count": 348,
   "id": "47c13f0e-80ed-4857-a1aa-16d5cdd68230",
   "metadata": {},
   "outputs": [
    {
     "data": {
      "image/png": "[encoded data removed]",
      "text/plain": [
       "<Figure size 432x288 with 1 Axes>"
      ]
     },
     "metadata": {
      "needs_background": "light"
     },
     "output_type": "display_data"
    }
   ],
   "source": [
    "plt.plot(np.exp(-hi))\n",
    "\n",
    "test_spectra = lines.convolvelorentz(hi)\n"
   ]
  },
  {
   "cell_type": "code",
   "execution_count": 350,
   "id": "ecde8c8a-2c1e-4a1f-b683-b9f6429c83c0",
   "metadata": {},
   "outputs": [
    {
     "data": {
      "text/plain": [
       "[<matplotlib.lines.Line2D at 0x7fe7270edb38>]"
      ]
     },
     "execution_count": 350,
     "metadata": {},
     "output_type": "execute_result"
    },
    {
     "data": {
      "image/png": "[encoded data removed]",
      "text/plain": [
       "<Figure size 432x288 with 1 Axes>"
      ]
     },
     "metadata": {
      "needs_background": "light"
     },
     "output_type": "display_data"
    }
   ],
   "source": [
    "plt.plot(np.exp(-test_spectra))"
   ]
  },
  {
   "cell_type": "code",
   "execution_count": 357,
   "id": "012c36d6-9bf2-49f2-a567-58d53087234b",
   "metadata": {},
   "outputs": [
    {
     "name": "stderr",
     "output_type": "stream",
     "text": [
      "/cosma/home/dp004/dc-aram1/.local/lib/python3.6/site-packages/ipykernel_launcher.py:9: RuntimeWarning: divide by zero encountered in log10\n",
      "  if __name__ == '__main__':\n",
      "/cosma/home/dp004/dc-aram1/.local/lib/python3.6/site-packages/ipykernel_launcher.py:9: RuntimeWarning: divide by zero encountered in log10\n",
      "  if __name__ == '__main__':\n",
      "/cosma/home/dp004/dc-aram1/.local/lib/python3.6/site-packages/ipykernel_launcher.py:9: RuntimeWarning: divide by zero encountered in log10\n",
      "  if __name__ == '__main__':\n",
      "/cosma/home/dp004/dc-aram1/.local/lib/python3.6/site-packages/ipykernel_launcher.py:9: RuntimeWarning: divide by zero encountered in log10\n",
      "  if __name__ == '__main__':\n",
      "/cosma/home/dp004/dc-aram1/.local/lib/python3.6/site-packages/ipykernel_launcher.py:9: RuntimeWarning: divide by zero encountered in log10\n",
      "  if __name__ == '__main__':\n"
     ]
    },
    {
     "data": {
      "text/plain": [
       "<matplotlib.legend.Legend at 0x7fe725519f60>"
      ]
     },
     "execution_count": 357,
     "metadata": {},
     "output_type": "execute_result"
    },
    {
     "data": {
      "image/png": "[encoded data removed]",
      "text/plain": [
       "<Figure size 1440x504 with 1 Axes>"
      ]
     },
     "metadata": {
      "needs_background": "light"
     },
     "output_type": "display_data"
    }
   ],
   "source": [
    "plt.figure(constrained_layout=True,figsize=(20, 7))\n",
    "\n",
    "#plt.plot(velocity_array,np.exp(-(all_spectra+ly_series['limit'])))\n",
    "mask_dla = ly_series['dla']>1e-3\n",
    "\n",
    "plt.plot(velocity_array,np.log10(ly_series['limit']),label = '1215.6701',alpha=1,lw=3)\n",
    "plt.plot(velocity_array[mask_dla],np.log10(ly_series['dla'][mask_dla]))\n",
    "for i in kkeys[-30:-25]:\n",
    "    plt.plot(velocity_array,np.log10(ly_series[i]),label =str(i),alpha=0.8)\n",
    "\n",
    "plt.ylim(-1,7.5)\n",
    "plt.legend(ncol=4)\n",
    "#plt.xlim(0,10000)\n",
    "#plt.xlim(85000,100000)"
   ]
  },
  {
   "cell_type": "code",
   "execution_count": 307,
   "id": "7aa7cc61-4db4-44aa-bf8e-c2057fcefc68",
   "metadata": {},
   "outputs": [],
   "source": [
    "wavelength_space = rebin_to_spectrograph(ly_series,lambda_spectr,velocity_array)"
   ]
  },
  {
   "cell_type": "code",
   "execution_count": 358,
   "id": "556fbb79-1893-4d71-952d-14cf664e4c65",
   "metadata": {},
   "outputs": [
    {
     "ename": "NameError",
     "evalue": "name 'redshift' is not defined",
     "output_type": "error",
     "traceback": [
      "\u001b[0;31m---------------------------------------------------------------------------\u001b[0m",
      "\u001b[0;31mNameError\u001b[0m                                 Traceback (most recent call last)",
      "\u001b[0;32m<ipython-input-358-744df2333adf>\u001b[0m in \u001b[0;36m<module>\u001b[0;34m\u001b[0m\n\u001b[0;32m----> 1\u001b[0;31m \u001b[0mredshift\u001b[0m\u001b[0;34m\u001b[0m\u001b[0m\n\u001b[0m",
      "\u001b[0;31mNameError\u001b[0m: name 'redshift' is not defined"
     ]
    }
   ],
   "source": [
    "redshift"
   ]
  },
  {
   "cell_type": "code",
   "execution_count": 315,
   "id": "00bda77a-c3b7-4c60-8d45-0c74f65e1ac3",
   "metadata": {},
   "outputs": [
    {
     "data": {
      "text/plain": [
       "<matplotlib.legend.Legend at 0x7fe7258b1320>"
      ]
     },
     "execution_count": 315,
     "metadata": {},
     "output_type": "execute_result"
    },
    {
     "data": {
      "image/png": "[encoded data removed]",
      "text/plain": [
       "<Figure size 1440x504 with 1 Axes>"
      ]
     },
     "metadata": {
      "needs_background": "light"
     },
     "output_type": "display_data"
    }
   ],
   "source": [
    "plt.figure(constrained_layout=True,figsize=(20, 7))\n",
    "\n",
    "#plt.plot(velocity_array,np.exp(-(all_spectra+ly_series['limit'])))\n",
    "wvkkeys = list(wavelength_space['lines'].keys())\n",
    "plt.plot(wavelength_space['wavelength'],np.exp(-(wavelength_space['lines']['dla']+wavelength_space['lines']['limit'])),label = '1215.6701',alpha=0.8)\n",
    "for i in wvkkeys[3:]:\n",
    "    plt.plot(wavelength_space['wavelength'],np.exp(-wavelength_space['lines'][i]),label =str(i),alpha=0.8)\n",
    "\n",
    "plt.legend(ncol=4)\n",
    "#plt.xlim(85000,100000)"
   ]
  },
  {
   "cell_type": "code",
   "execution_count": 305,
   "id": "46e03d13-a2ce-4b60-b992-3cba37b28efc",
   "metadata": {},
   "outputs": [],
   "source": [
    "def rebin_to_spectrograph(long_spectra,lambda_spectr,velocity_array):\n",
    "    dlambda    = 0.1\n",
    "    npix       = int((lambda_spectr.max()-lambda_spectr.min())/dlambda)\n",
    "    wavelength =  lambda_spectr.min() + (np.arange(npix) * dlambda) \n",
    "    c_kms = constants['c'] / 1e5\n",
    "    wavelength_fine_array = lambda_spectr.min() * np.exp(velocity_array/c_kms)\n",
    "    wavelength_tau = {}\n",
    "    \n",
    "    wavelength_tau['lines'] = {}\n",
    "    for line in long_spectra.keys():\n",
    "        wavelength_tau['lines'][line] = wave_rebin_total = Rebin(long_spectra[line],wavelength,wavelength_fine_array)        \n",
    "\n",
    "    wavelength_tau['wavelength'] =  wavelength      \n",
    "\n",
    "    return wavelength_tau"
   ]
  },
  {
   "cell_type": "code",
   "execution_count": 243,
   "id": "9281995b-cfa4-4c49-80ed-733c7fbe69d8",
   "metadata": {},
   "outputs": [],
   "source": [
    "lambdaz_ion = (912 * ( 1 + snap_red))\n",
    "vel_offset        = vel_from_wv(lambdaz_ion,lambda_spectr.min(),c_kms=c_kms)\n",
    "vel_arr_line      = vel_offset+vel_arr\n",
    "dum_arr           = np.zeros_like(all_spectra)\n",
    "dum_arr          += Rebin(no_dw,velocity_array,vel_arr_line)\n",
    "dla = lines.convolveLymanLimit(dum_arr)\n"
   ]
  },
  {
   "cell_type": "code",
   "execution_count": 232,
   "id": "509e77ce-167a-45a8-86c1-7fa6565ad2cf",
   "metadata": {},
   "outputs": [
    {
     "data": {
      "text/plain": [
       "[<matplotlib.lines.Line2D at 0x7fb851071be0>]"
      ]
     },
     "execution_count": 232,
     "metadata": {},
     "output_type": "execute_result"
    },
    {
     "data": {
      "image/png": "[encoded data removed]",
      "text/plain": [
       "<Figure size 432x288 with 1 Axes>"
      ]
     },
     "metadata": {
      "needs_background": "light"
     },
     "output_type": "display_data"
    }
   ],
   "source": [
    "plt.plot(velocity_array,np.exp(-all_spectra))\n"
   ]
  },
  {
   "cell_type": "code",
   "execution_count": 217,
   "id": "9ab4313d-5e78-4fa1-be21-60349bd449a8",
   "metadata": {},
   "outputs": [
    {
     "data": {
      "text/plain": [
       "5.732581342096433e-10"
      ]
     },
     "execution_count": 217,
     "metadata": {},
     "output_type": "execute_result"
    }
   ],
   "source": [
    "np.exp(-wdla[20000])"
   ]
  },
  {
   "cell_type": "code",
   "execution_count": 141,
   "id": "90909260-dc6c-4afe-afd0-4c96b285d959",
   "metadata": {},
   "outputs": [
    {
     "data": {
      "text/plain": [
       "3648"
      ]
     },
     "execution_count": 141,
     "metadata": {},
     "output_type": "execute_result"
    }
   ],
   "source": [
    "def contaminant(tau_strong,lambdazeros,fvalues,lambdastorn,fvaluestrong):\n",
    "\n",
    "    tau_lines   = tau_ion * lambda0 * fvalue / (lambda0s[0]*fvalues[0])\n"
   ]
  },
  {
   "cell_type": "code",
   "execution_count": null,
   "id": "a99a5a4c-5255-4f3d-998c-64c7c4e73544",
   "metadata": {},
   "outputs": [],
   "source": [
    "gs = fig.add_gridspec(6, 6,hspace=0.0,wspace=0.5)\n",
    "\n",
    "ax1 = fig.add_subplot(gs[0, :2])\n",
    "fig = plt.figure(constrained_layout=True)\n",
    "gs = fig.add_gridspec(3, 3)\n",
    "ax1 = fig.add_subplot(gs[0, :])\n",
    "ax1.set_title('gs[0, :]')\n",
    "ax2 = fig.add_subplot(gs[1, :-1])\n",
    "ax2.set_title('gs[1, :-1]')\n",
    "ax3 = fig.add_subplot(gs[1:, -1])\n",
    "ax3.set_title('gs[1:, -1]')\n",
    "ax4 = fig.add_subplot(gs[-1, 0])\n",
    "ax4.set_title('gs[-1, 0]')\n",
    "ax5 = fig.add_subplot(gs[-1, :])\n",
    "ax5.set_title('gs[-1, -2]')\n",
    "fig.show()"
   ]
  },
  {
   "cell_type": "code",
   "execution_count": 28,
   "id": "926b0cef-534c-410b-80aa-a866c669ae64",
   "metadata": {},
   "outputs": [],
   "source": [
    "def Rebin(spectrum, wavelong,waveshort):\n",
    "    ''' rebin the function y(x) to the new bins xnew\n",
    "     Interpolation is performed such that the mean of the function is conserved\n",
    "     Input: \n",
    "       -spectrum: dictionary, containing\n",
    "          -L:       linear extent of the wavelength range\n",
    "          -wave:    wavelength or Hubble velocity\n",
    "          -flux:    flux\n",
    "       -wave:       new wavelength or Hubble velocioty to rebin to \n",
    "       '''\n",
    "    # determine pixel size\n",
    "    L    = waveshort.max() #spectrum[\"L\"]\n",
    "    npix = len(spectrum) #spectrum[\"npix\"]\n",
    "    pix  = L/npix\n",
    "    x0   = np.arange(npix) * pix\n",
    "    vHubble = waveshort\n",
    "    dx = vHubble[1:] -vHubble[0:-1]\n",
    "    dx = np.concatenate([dx, [L - x0[-1]]])\n",
    "    #\n",
    "    xR = np.copy(vHubble) + dx  # right side of pixel\n",
    "\n",
    "    # cumulative sum of the function y0(x0)\n",
    "    f = np.cumsum(spectrum * dx)\n",
    "\n",
    "    # new pixels\n",
    "    dxnew = wavelong[1:] - wavelong[0:-1]  # size of pixels\n",
    "    dxnew = np.concatenate([dxnew, [L - wavelong[-1]]])\n",
    "    xnewR = np.copy(wavelong) + dxnew  # right side of pixels\n",
    "\n",
    "    # interpolation function\n",
    "    finterp = interp1d(xR,\n",
    "                       f,\n",
    "                       kind='linear',\n",
    "                       bounds_error=False,\n",
    "                       fill_value=(0, f[-1]))\n",
    "    fnew = finterp(xnewR)\n",
    "\n",
    "    # rebinned value\n",
    "    fbinned = np.concatenate([[0], fnew])\n",
    "    ynew = (fbinned[1:] - fbinned[0:-1]) / dxnew\n",
    "    #\n",
    "    newspectrum         = spectrum.copy()\n",
    "    #newspectrum[\"wave\"] = np.copy(wave)\n",
    "    #newspectrum[\"flux\"] = ynew\n",
    "    return ynew"
   ]
  },
  {
   "cell_type": "code",
   "execution_count": 146,
   "id": "48573866-3144-41d1-a188-b7440478744e",
   "metadata": {},
   "outputs": [
    {
     "ename": "NameError",
     "evalue": "name 'sd' is not defined",
     "output_type": "error",
     "traceback": [
      "\u001b[0;31m---------------------------------------------------------------------------\u001b[0m",
      "\u001b[0;31mNameError\u001b[0m                                 Traceback (most recent call last)",
      "\u001b[0;32m<ipython-input-146-e3a5a2604e99>\u001b[0m in \u001b[0;36m<module>\u001b[0;34m()\u001b[0m\n\u001b[0;32m----> 1\u001b[0;31m \u001b[0msd\u001b[0m\u001b[0;34m\u001b[0m\u001b[0m\n\u001b[0m",
      "\u001b[0;31mNameError\u001b[0m: name 'sd' is not defined"
     ]
    }
   ],
   "source": [
    "sd"
   ]
  },
  {
   "cell_type": "code",
   "execution_count": 27,
   "id": "5a2c77a3-363e-49c0-87df-399c2cd76ddd",
   "metadata": {},
   "outputs": [],
   "source": [
    " import requests\n",
    "from io import StringIO\n",
    "from bs4 import BeautifulSoup"
   ]
  },
  {
   "cell_type": "code",
   "execution_count": 380,
   "id": "09478b84-d356-493e-8c16-9905d382c6ea",
   "metadata": {},
   "outputs": [],
   "source": [
    "wavelength_range=None \n",
    "wavelength_type=None\n",
    "wavelength_accuracy=None\n",
    "element_spectrum=None\n",
    "minimal_abundance=None\n",
    "depl_factor=None\n",
    "lower_level_energy_range=None\n",
    "upper_level_energy_range=None\n",
    "nmax=None\n",
    "multiplet=None\n",
    "transitions='all'\n",
    "show_fine_structure=None\n",
    "show_auto_ionizing_transitions=None"
   ]
  },
  {
   "cell_type": "code",
   "execution_count": 382,
   "id": "d1804268-60b3-4aea-b90f-9aa9ab113c2d",
   "metadata": {},
   "outputs": [],
   "source": [
    "s = str(transitions)\n",
    "if len(s.split(',')) > 1:\n",
    "    _type = 'Sel'\n",
    "    type2 = s.split(',')\n",
    "else:\n",
    "    _type = s\n",
    "    type2 = ''"
   ]
  },
  {
   "cell_type": "code",
   "execution_count": 387,
   "id": "fe38fe47-fca2-4c9a-b621-7c5dfc023d4a",
   "metadata": {},
   "outputs": [],
   "source": [
    "output_columns = ('spec', 'type', 'conf', 'term', 'angm', 'prob',\n",
    "            'ener') "
   ]
  },
  {
   "cell_type": "code",
   "execution_count": 432,
   "id": "5d78e6dc-ab7d-4aa2-85d1-2d9d0fd3b629",
   "metadata": {},
   "outputs": [],
   "source": [
    "        input_payload = {\n",
    "            'wavl': None,\n",
    "            'wave': 'Angstrom',\n",
    "            'air': 'vacuum',\n",
    "            'wacc': wavelength_accuracy,\n",
    "            'elmion': None,\n",
    "            'abun': minimal_abundance,\n",
    "            'depl': depl_factor,\n",
    "            'elo': lower_level_energy_range,\n",
    "            'ehi': upper_level_energy_range,\n",
    "            'ener': 'cm^-1',\n",
    "            'nmax': nmax,\n",
    "            'term': multiplet,\n",
    "            'type': _type,\n",
    "            'type2': type2,\n",
    "            'hydr': show_fine_structure,\n",
    "            'auto': show_auto_ionizing_transitions,\n",
    "            'form': output_columns,\n",
    "            'jval': 'usej',\n",
    "            'tptype': 'as_a',\n",
    "        }"
   ]
  },
  {
   "cell_type": "code",
   "execution_count": 433,
   "id": "fc95d3c5-c730-466a-96fe-981053dff861",
   "metadata": {},
   "outputs": [],
   "source": [
    "response = requests.request(\"POST\", url='https://linelist.pa.uky.edu/atomic/', data=input_payload,\n",
    "                         timeout=1000)"
   ]
  },
  {
   "cell_type": "code",
   "execution_count": 442,
   "id": "816a5d62-2434-4d7f-b486-5c48dcc802d3",
   "metadata": {},
   "outputs": [],
   "source": [
    "import re\n",
    "from mechanize import Browser"
   ]
  },
  {
   "cell_type": "code",
   "execution_count": 434,
   "id": "2262e940-7983-4baa-a564-f7a1ac64eee6",
   "metadata": {},
   "outputs": [],
   "source": [
    "if 'ERROR: request form contains no information' in response.text:\n",
    "    print(\"yes\")\n",
    "elif 'ERROR' in response.text:\n",
    "    raise ValueError(f\"The server returned an error.  The full error message is \")"
   ]
  },
  {
   "cell_type": "code",
   "execution_count": 579,
   "id": "d2819526-11e0-440e-a7f4-257770eb39b6",
   "metadata": {},
   "outputs": [
    {
     "data": {
      "text/html": [
       "<i>Table length=1</i>\n",
       "<table id=\"table47115675115080\" class=\"table-striped table-bordered table-condensed\">\n",
       "<thead><tr><th>LAMBDA VAC ANG</th><th>SPECTRUM</th><th>TT</th><th>TERM</th><th>J J</th><th>f_ik</th><th>LEVEL ENERGY  CM 1</th></tr></thead>\n",
       "<thead><tr><th>float64</th><th>str4</th><th>str2</th><th>str6</th><th>str7</th><th>float64</th><th>str23</th></tr></thead>\n",
       "<tr><td>5092.609</td><td>C II</td><td>E1</td><td>2Fo-2D</td><td>7/2-5/2</td><td>0.000471</td><td>168978.77 -   188615.07</td></tr>\n",
       "</table>"
      ],
      "text/plain": [
       "<Table length=1>\n",
       "LAMBDA VAC ANG SPECTRUM  TT   TERM    J J     f_ik      LEVEL ENERGY  CM 1  \n",
       "   float64       str4   str2  str6    str7  float64           str23         \n",
       "-------------- -------- ---- ------ ------- -------- -----------------------\n",
       "      5092.609     C II   E1 2Fo-2D 7/2-5/2 0.000471 168978.77 -   188615.07"
      ]
     },
     "execution_count": 579,
     "metadata": {},
     "output_type": "execute_result"
    }
   ],
   "source": [
    "\n",
    "payload= {\n",
    "\"wavl\": s\n",
    "\"wave\": \"Angstrom\",\n",
    "\"air\": \"Vacuum\",\n",
    "\"wacc\": \"\",\n",
    "\"elmion\": 'C II',\n",
    "\"abun\": \"\",\n",
    "\"depl\": \"\",\n",
    "\"elo\": \"\",\n",
    "\"ener\": \"cm^-1\",\n",
    "\"ehi\": \"\",\n",
    "\"nmax\": \"\",\n",
    "\"term\": \"\",\n",
    "\"type\": \"All\",\n",
    "\"hydr\": \"Suppress\",\n",
    "\"auto\": \"Suppress\",\n",
    "\"form\": [\n",
    "    \"spec\",\n",
    "    \"type\",\n",
    "    \"term\",\n",
    "    \"angm\",\n",
    "    \"prob\",\n",
    "    \"ener\"\n",
    "],\n",
    "\"jval\": \"usej\",\n",
    "\"tptype\": \"as_f\",\n",
    "\"mode\": \"Plain\"\n",
    "}\n",
    "respon = requests.post(url='https://linelist.pa.uky.edu/atomic/query.cgi',data=payload)\n",
    "html_pre = BeautifulSoup(respon.text, features='html5lib').find('pre')\n",
    "data = StringIO(html_pre.text.strip())\n",
    "header = data.readline().strip().strip('|')\n",
    "colnames = [colname.strip('-').replace('-', ' ')\n",
    "            for colname in header.split('|') if colname.strip()]\n",
    "indices = [i for i, c in enumerate(header) if c == '|']\n",
    "result_data = []\n",
    "\n",
    "for line in data:\n",
    "    row = []\n",
    "for start, end in zip([0] + indices, indices + [None]):\n",
    "    # `value` will hold all cell values in the line, so\n",
    "    # `u'1.010799'`, `u'Zn XXX'` etc.\n",
    "    value = line[start:end].strip()\n",
    "    if value:\n",
    "        row.append(value)\n",
    "    else:\n",
    "        # maintain table dimensions when data missing\n",
    "        row.append('None')\n",
    "if row:\n",
    "    result_data.append('\\t'.join(row))\n",
    "\n",
    "\n",
    "    bleh = ascii.read(result_data, data_start=0, delimiter='\\t',\n",
    "                          names=colnames, fast_reader=False)\n",
    "bleh"
   ]
  },
  {
   "cell_type": "code",
   "execution_count": 580,
   "id": "0c4301a8-9c29-431a-b869-4ff1a19a630c",
   "metadata": {},
   "outputs": [],
   "source": [
    "table = get_ioninfo(\"C II\")"
   ]
  },
  {
   "cell_type": "code",
   "execution_count": null,
   "id": "f4da7d76-811e-4a48-9288-411c1d03e087",
   "metadata": {},
   "outputs": [],
   "source": [
    "{\n",
    "\t\"wavl\": \"\",\n",
    "\t\"wave\": \"Angstrom\",\n",
    "\t\"air\": \"Vacuum\",\n",
    "\t\"wacc\": \"\",\n",
    "\t\"elmion\": \"C+II\",\n",
    "\t\"abun\": \"\",\n",
    "\t\"depl\": \"\",\n",
    "\t\"elo\": \"\",\n",
    "\t\"ener\": \"cm^-1\",\n",
    "\t\"ehi\": \"\",\n",
    "\t\"nmax\": \"\",\n",
    "\t\"term\": \"\",\n",
    "\t\"type\": \"All\",\n",
    "\t\"hydr\": \"Suppress\",\n",
    "\t\"auto\": \"Suppress\",\n",
    "\t\"form\": [\n",
    "\t\t\"spec\",\n",
    "\t\t\"type\",\n",
    "\t\t\"term\",\n",
    "\t\t\"prob\",\n",
    "\t\t\"ener\"\n",
    "\t],\n",
    "\t\"jval\": \"usej\",\n",
    "\t\"tptype\": \"as_f\",\n",
    "\t\"mode\": \"Plain\"\n",
    "}"
   ]
  },
  {
   "cell_type": "code",
   "execution_count": 695,
   "id": "0c8bb583-a4a9-464d-bae7-975c80afed96",
   "metadata": {},
   "outputs": [],
   "source": [
    "def get_iontable(ion=\"O VI\"):\n",
    "    payload= {\n",
    "\t\"wavl\": \"\",\n",
    "\t\"wave\": \"Angstrom\",\n",
    "\t\"air\": \"Vacuum\",\n",
    "\t\"wacc\": \"\",\n",
    "\t\"elmion\": ion,\n",
    "\t\"abun\": \"\",\n",
    "\t\"depl\": \"\",\n",
    "\t\"elo\": \"\",\n",
    "\t\"ener\": \"cm^-1\",\n",
    "\t\"ehi\": \"\",\n",
    "\t\"nmax\": \"\",\n",
    "\t\"term\": \"\",\n",
    "\t\"type\": \"Sel\",\n",
    "    \"type2\": \"E1\",\n",
    "\t\"hydr\": \"Suppress\",\n",
    "\t\"auto\": \"Suppress\",\n",
    "\t\"form\": [\n",
    "\t\t\"spec\",\n",
    "\t\t\"type\",\n",
    "\t\t\"term\",\n",
    "\t\t\"prob\",\n",
    "\t\t\"ener\"\n",
    "\t],\n",
    "\t\"jval\": \"usej\",\n",
    "\t\"tptype\": \"as_f\",\n",
    "\t\"mode\": \"Plain\"\n",
    "}\n",
    "\n",
    "    respon = requests.post(url='https://linelist.pa.uky.edu/atomic/query.cgi',data=payload)\n",
    "    html_pre = BeautifulSoup(respon.text, features='html5lib').find('pre')\n",
    "    data = StringIO(html_pre.text.strip())\n",
    "    header = data.readline().strip().strip('|')\n",
    "    colnames = [colname.strip('-').replace('-', ' ')\n",
    "                for colname in header.split('|') if colname.strip()]\n",
    "    indices = [i for i, c in enumerate(header) if c == '|']\n",
    "    result_data = []\n",
    "    for line in data:\n",
    "        row = []\n",
    "        for start, end in zip([0] + indices, indices + [None]):\n",
    "            # `value` will hold all cell values in the line, so\n",
    "            # `u'1.010799'`, `u'Zn XXX'` etc.\n",
    "            value = line[start:end].strip()\n",
    "            if value:\n",
    "                row.append(value)\n",
    "            else:\n",
    "                # maintain table dimensions when data missing\n",
    "                row.append('None')\n",
    "        if row:\n",
    "            result_data.append('\\t'.join(row))\n",
    "    bleh = ascii.read(result_data, data_start=0, delimiter='\\t',\n",
    "                                  names=colnames, fast_reader=False)        \n",
    "    return bleh        "
   ]
  },
  {
   "cell_type": "code",
   "execution_count": 697,
   "id": "51997bd6-6c6b-42c9-aa24-315b5d88f771",
   "metadata": {},
   "outputs": [
    {
     "data": {
      "text/html": [
       "<i>Table length=411</i>\n",
       "<table id=\"table47115663741896\" class=\"table-striped table-bordered table-condensed\">\n",
       "<thead><tr><th>LAMBDA VAC ANG</th><th>SPECTRUM</th><th>TT</th><th>TERM</th><th>f_ik</th><th>LEVEL ENERGY  CM 1</th></tr></thead>\n",
       "<thead><tr><th>float64</th><th>str4</th><th>str2</th><th>str6</th><th>float64</th><th>str24</th></tr></thead>\n",
       "<tr><td>93.092</td><td>O VI</td><td>E1</td><td>2S-2Po</td><td>0.00322</td><td>0.00 -  1074210.00</td></tr>\n",
       "<tr><td>93.915</td><td>O VI</td><td>E1</td><td>2S-2Po</td><td>0.00449</td><td>0.00 -  1064793.00</td></tr>\n",
       "<tr><td>95.082</td><td>O VI</td><td>E1</td><td>2S-2Po</td><td>0.00656</td><td>0.00 -  1051724.00</td></tr>\n",
       "<tr><td>96.8401</td><td>O VI</td><td>E1</td><td>2S-2Po</td><td>0.0101</td><td>0.00 -  1032630.00</td></tr>\n",
       "<tr><td>99.688</td><td>O VI</td><td>E1</td><td>2S-2Po</td><td>0.0169</td><td>0.00 -  1003130.00</td></tr>\n",
       "<tr><td>101.515</td><td>O VI</td><td>E1</td><td>2Po-2D</td><td>0.00304</td><td>96374.70 -  1081451.00</td></tr>\n",
       "<tr><td>101.57</td><td>O VI</td><td>E1</td><td>2Po-2D</td><td>0.00304</td><td>96906.16 -  1081451.00</td></tr>\n",
       "<tr><td>102.244</td><td>O VI</td><td>E1</td><td>2Po-2D</td><td>0.00389</td><td>96374.70 -  1074425.00</td></tr>\n",
       "<tr><td>102.3</td><td>O VI</td><td>E1</td><td>2Po-2D</td><td>0.00389</td><td>96906.16 -  1074425.00</td></tr>\n",
       "<tr><td>103.206</td><td>O VI</td><td>E1</td><td>2Po-2D</td><td>0.00549</td><td>96374.70 -  1065311.00</td></tr>\n",
       "<tr><td>...</td><td>...</td><td>...</td><td>...</td><td>...</td><td>...</td></tr>\n",
       "<tr><td>32800.0</td><td>O VI</td><td>E1</td><td>2S-2Po</td><td>0.704</td><td>1000080.00 -  1003130.00</td></tr>\n",
       "<tr><td>54100.0</td><td>O VI</td><td>E1</td><td>2S-2Po</td><td>0.8</td><td>1030780.00 -  1032630.00</td></tr>\n",
       "<tr><td>56200.0</td><td>O VI</td><td>E1</td><td>2Po-2D</td><td>0.0714</td><td>954080.00 -   955860.00</td></tr>\n",
       "<tr><td>56500.0</td><td>O VI</td><td>E1</td><td>2Po-2D</td><td>0.0474</td><td>954080.00 -   955851.00</td></tr>\n",
       "<tr><td>94900.0</td><td>O VI</td><td>E1</td><td>2Po-2D</td><td>0.0926</td><td>1003130.00 -  1004184.00</td></tr>\n",
       "<tr><td>96200.0</td><td>O VI</td><td>E1</td><td>2Po-2D</td><td>0.0609</td><td>1003130.00 -  1004170.00</td></tr>\n",
       "<tr><td>142000.0</td><td>O VI</td><td>E1</td><td>2Po-2D</td><td>0.118</td><td>1032630.00 -  1033334.00</td></tr>\n",
       "<tr><td>147000.0</td><td>O VI</td><td>E1</td><td>2Po-2D</td><td>0.0762</td><td>1032630.00 -  1033310.00</td></tr>\n",
       "<tr><td>506000.0</td><td>O VI</td><td>E1</td><td>2D-2Fo</td><td>0.00252</td><td>866880.10 -   867077.70</td></tr>\n",
       "<tr><td>539000.0</td><td>O VI</td><td>E1</td><td>2D-2Fo</td><td>0.00226</td><td>866901.50 -   867087.00</td></tr>\n",
       "</table>"
      ],
      "text/plain": [
       "<Table length=411>\n",
       "LAMBDA VAC ANG SPECTRUM  TT   TERM    f_ik     LEVEL ENERGY  CM 1   \n",
       "   float64       str4   str2  str6  float64          str24          \n",
       "-------------- -------- ---- ------ ------- ------------------------\n",
       "        93.092     O VI   E1 2S-2Po 0.00322       0.00 -  1074210.00\n",
       "        93.915     O VI   E1 2S-2Po 0.00449       0.00 -  1064793.00\n",
       "        95.082     O VI   E1 2S-2Po 0.00656       0.00 -  1051724.00\n",
       "       96.8401     O VI   E1 2S-2Po  0.0101       0.00 -  1032630.00\n",
       "        99.688     O VI   E1 2S-2Po  0.0169       0.00 -  1003130.00\n",
       "       101.515     O VI   E1 2Po-2D 0.00304   96374.70 -  1081451.00\n",
       "        101.57     O VI   E1 2Po-2D 0.00304   96906.16 -  1081451.00\n",
       "       102.244     O VI   E1 2Po-2D 0.00389   96374.70 -  1074425.00\n",
       "         102.3     O VI   E1 2Po-2D 0.00389   96906.16 -  1074425.00\n",
       "       103.206     O VI   E1 2Po-2D 0.00549   96374.70 -  1065311.00\n",
       "           ...      ...  ...    ...     ...                      ...\n",
       "       32800.0     O VI   E1 2S-2Po   0.704 1000080.00 -  1003130.00\n",
       "       54100.0     O VI   E1 2S-2Po     0.8 1030780.00 -  1032630.00\n",
       "       56200.0     O VI   E1 2Po-2D  0.0714  954080.00 -   955860.00\n",
       "       56500.0     O VI   E1 2Po-2D  0.0474  954080.00 -   955851.00\n",
       "       94900.0     O VI   E1 2Po-2D  0.0926 1003130.00 -  1004184.00\n",
       "       96200.0     O VI   E1 2Po-2D  0.0609 1003130.00 -  1004170.00\n",
       "      142000.0     O VI   E1 2Po-2D   0.118 1032630.00 -  1033334.00\n",
       "      147000.0     O VI   E1 2Po-2D  0.0762 1032630.00 -  1033310.00\n",
       "      506000.0     O VI   E1 2D-2Fo 0.00252  866880.10 -   867077.70\n",
       "      539000.0     O VI   E1 2D-2Fo 0.00226  866901.50 -   867087.00"
      ]
     },
     "execution_count": 697,
     "metadata": {},
     "output_type": "execute_result"
    }
   ],
   "source": [
    "tableo2"
   ]
  },
  {
   "cell_type": "code",
   "execution_count": 691,
   "id": "ed0aad1c-60c1-4f26-aa97-3e6174eec476",
   "metadata": {},
   "outputs": [],
   "source": [
    "tableo2['f_ik'][tableo2['f_ik']=='None'] = '0'"
   ]
  },
  {
   "cell_type": "code",
   "execution_count": 692,
   "id": "3b714f24-d3de-4f64-a0ce-c03d8cba201d",
   "metadata": {},
   "outputs": [],
   "source": [
    "sorted_indx = np.argsort(np.array(tableo2['f_ik'],dtype=float))[::-1]"
   ]
  },
  {
   "cell_type": "code",
   "execution_count": 693,
   "id": "87f6c6f7-e7b3-4504-80e0-787845accd08",
   "metadata": {},
   "outputs": [
    {
     "data": {
      "text/html": [
       "<i>Table length=500</i>\n",
       "<table id=\"table47115598805536\" class=\"table-striped table-bordered table-condensed\">\n",
       "<thead><tr><th>LAMBDA VAC ANG</th><th>SPECTRUM</th><th>TT</th><th>TERM</th><th>f_ik</th><th>LEVEL ENERGY  CM 1</th></tr></thead>\n",
       "<thead><tr><th>str9</th><th>str7</th><th>str2</th><th>str12</th><th>str8</th><th>str25</th></tr></thead>\n",
       "<tr><td>900.5</td><td>Ne IX</td><td>E1</td><td>3Po-3D</td><td>5.72E-01</td><td>9286646.00 -  9397700.00</td></tr>\n",
       "<tr><td>906.221</td><td>S V</td><td>E1</td><td>3S-3Po</td><td>4.48E-01</td><td>311595.10 -   421943.40</td></tr>\n",
       "<tr><td>904.1416</td><td>C II</td><td>E1</td><td>2Po-2P</td><td>4.19E-01</td><td>63.42 -   110665.56</td></tr>\n",
       "<tr><td>901.64</td><td>Si VI</td><td>E1</td><td>4Do-4F</td><td>3.97E-01</td><td>1078935.00 -  1189844.00</td></tr>\n",
       "<tr><td>902.19</td><td>Si VI</td><td>E1</td><td>4Do-4F</td><td>3.62E-01</td><td>1080700.00 -  1191541.00</td></tr>\n",
       "<tr><td>900.84</td><td>Si VI</td><td>E1</td><td>4Do-4F</td><td>3.56E-01</td><td>1082215.00 -  1193223.00</td></tr>\n",
       "<tr><td>903.11</td><td>S VII</td><td>E1</td><td>1Po-1D</td><td>3.43E-01</td><td>1388339.00 -  1499068.00</td></tr>\n",
       "<tr><td>903.9616</td><td>C II</td><td>E1</td><td>2Po-2P</td><td>3.36E-01</td><td>0.00 -   110624.17</td></tr>\n",
       "<tr><td>904.6</td><td>Si VII</td><td>E1</td><td>3D-3Fo</td><td>3.29E-01</td><td>1348486.00 -  1459027.00</td></tr>\n",
       "<tr><td>903.432</td><td>S V</td><td>E1</td><td>1Po-1D</td><td>3.06E-01</td><td>349534.40 -   460223.40</td></tr>\n",
       "<tr><td>...</td><td>...</td><td>...</td><td>...</td><td>...</td><td>...</td></tr>\n",
       "<tr><td>902.9888</td><td>Ni III</td><td>E1</td><td>3Fo-3G</td><td>0</td><td>118114.95 -   228858.30</td></tr>\n",
       "<tr><td>902.9953</td><td>Ni II</td><td>E1</td><td>4P-4Do</td><td>0</td><td>23108.28 -   133850.83</td></tr>\n",
       "<tr><td>906.0688</td><td>V III</td><td>E1</td><td>b2G-2Go</td><td>0</td><td>63303.12 -   173670.02</td></tr>\n",
       "<tr><td>902.9973</td><td>Mn III</td><td>E1</td><td>a4D-w4Do</td><td>0</td><td>32384.70 -   143127.00</td></tr>\n",
       "<tr><td>906.11343</td><td>Cu II</td><td>E1</td><td>3D-3Do</td><td>0</td><td>23998.38 -   134359.84</td></tr>\n",
       "<tr><td>903.0199</td><td>P III</td><td>E1</td><td>2P-2Po</td><td>0</td><td>109412.98 -   220152.51</td></tr>\n",
       "<tr><td>903.0222?</td><td>Cu III</td><td>E1</td><td>2Po-2D</td><td>0</td><td>145353.84 -   256093.?</td></tr>\n",
       "<tr><td>903.043</td><td>Cu IV</td><td>E1</td><td>3Do-3D</td><td>0</td><td>223000.00 -   333736.70</td></tr>\n",
       "<tr><td>903.056</td><td>Ni V</td><td>E1</td><td>3D-3Fo</td><td>0</td><td>232545.90 -   343281.00</td></tr>\n",
       "<tr><td>900.018</td><td>Ni III</td><td>E1</td><td>1G-1Ho</td><td>0</td><td>23108.70 -   134217.60</td></tr>\n",
       "</table>"
      ],
      "text/plain": [
       "<Table length=500>\n",
       "LAMBDA VAC ANG SPECTRUM  TT    TERM     f_ik      LEVEL ENERGY  CM 1   \n",
       "     str9        str7   str2  str12     str8            str25          \n",
       "-------------- -------- ---- -------- -------- ------------------------\n",
       "         900.5    Ne IX   E1   3Po-3D 5.72E-01 9286646.00 -  9397700.00\n",
       "       906.221      S V   E1   3S-3Po 4.48E-01  311595.10 -   421943.40\n",
       "      904.1416     C II   E1   2Po-2P 4.19E-01      63.42 -   110665.56\n",
       "        901.64    Si VI   E1   4Do-4F 3.97E-01 1078935.00 -  1189844.00\n",
       "        902.19    Si VI   E1   4Do-4F 3.62E-01 1080700.00 -  1191541.00\n",
       "        900.84    Si VI   E1   4Do-4F 3.56E-01 1082215.00 -  1193223.00\n",
       "        903.11    S VII   E1   1Po-1D 3.43E-01 1388339.00 -  1499068.00\n",
       "      903.9616     C II   E1   2Po-2P 3.36E-01       0.00 -   110624.17\n",
       "         904.6   Si VII   E1   3D-3Fo 3.29E-01 1348486.00 -  1459027.00\n",
       "       903.432      S V   E1   1Po-1D 3.06E-01  349534.40 -   460223.40\n",
       "           ...      ...  ...      ...      ...                      ...\n",
       "      902.9888   Ni III   E1   3Fo-3G        0  118114.95 -   228858.30\n",
       "      902.9953    Ni II   E1   4P-4Do        0   23108.28 -   133850.83\n",
       "      906.0688    V III   E1  b2G-2Go        0   63303.12 -   173670.02\n",
       "      902.9973   Mn III   E1 a4D-w4Do        0   32384.70 -   143127.00\n",
       "     906.11343    Cu II   E1   3D-3Do        0   23998.38 -   134359.84\n",
       "      903.0199    P III   E1   2P-2Po        0  109412.98 -   220152.51\n",
       "     903.0222?   Cu III   E1   2Po-2D        0   145353.84 -   256093.?\n",
       "       903.043    Cu IV   E1   3Do-3D        0  223000.00 -   333736.70\n",
       "       903.056     Ni V   E1   3D-3Fo        0  232545.90 -   343281.00\n",
       "       900.018   Ni III   E1   1G-1Ho        0   23108.70 -   134217.60"
      ]
     },
     "execution_count": 693,
     "metadata": {},
     "output_type": "execute_result"
    }
   ],
   "source": [
    "tableo2[sorted_indx]"
   ]
  },
  {
   "cell_type": "code",
   "execution_count": 1,
   "id": "1d1a19ba-3e17-436d-908e-783a5fea1c75",
   "metadata": {},
   "outputs": [],
   "source": [
    "payload = {\n",
    "\t\"GET\": {\n",
    "\t\t\"scheme\": \"https\",\n",
    "\t\t\"host\": \"physics.nist.gov\",\n",
    "\t\t\"filename\": \"/cgi-bin/ASD/lines1.pl\",\n",
    "\t\t\"query\": {\n",
    "\t\t\t\"spectra\": \"H I\",\n",
    "\t\t\t\"limits_type\": \"0\",\n",
    "\t\t\t\"low_w\": \"\",\n",
    "\t\t\t\"upp_w\": \"\",\n",
    "\t\t\t\"unit\": \"0\",\n",
    "\t\t\t\"de\": \"0\",\n",
    "\t\t\t\"I_scale_type\": \"1\",\n",
    "\t\t\t\"format\": \"0\",\n",
    "\t\t\t\"line_out\": \"1\",\n",
    "\t\t\t\"en_unit\": \"0\",\n",
    "\t\t\t\"output\": \"0\",\n",
    "\t\t\t\"bibrefs\": \"1\",\n",
    "\t\t\t\"page_size\": \"15\",\n",
    "\t\t\t\"show_obs_wl\": \"1\",\n",
    "\t\t\t\"show_calc_wl\": \"1\",\n",
    "\t\t\t\"order_out\": \"0\",\n",
    "\t\t\t\"max_low_enrg\": \"\",\n",
    "\t\t\t\"show_av\": \"2\",\n",
    "\t\t\t\"max_upp_enrg\": \"\",\n",
    "\t\t\t\"tsb_value\": \"0\",\n",
    "\t\t\t\"min_str\": \"\",\n",
    "\t\t\t\"A_out\": \"0\",\n",
    "\t\t\t\"f_out\": \"on\",\n",
    "\t\t\t\"intens_out\": \"on\",\n",
    "\t\t\t\"max_str\": \"\",\n",
    "\t\t\t\"allowed_out\": \"1\",\n",
    "\t\t\t\"forbid_out\": \"1\",\n",
    "\t\t\t\"min_accur\": \"\",\n",
    "\t\t\t\"min_intens\": \"\",\n",
    "\t\t\t\"conf_out\": \"on\",\n",
    "\t\t\t\"term_out\": \"on\",\n",
    "\t\t\t\"enrg_out\": \"on\",\n",
    "\t\t\t\"submit\": \"Retrieve Data\"\n",
    "\t\t},\n",
    "\t\t\"remote\": {\n",
    "\t\t\t\"Address\": \"[2610:20:6b01:4::175]:443\"\n",
    "\t\t}\n",
    "\t}\n",
    "}"
   ]
  },
  {
   "cell_type": "code",
   "execution_count": 121,
   "id": "2b61c8ca-91f9-41d4-90b9-539442abbc8e",
   "metadata": {
    "tags": []
   },
   "outputs": [],
   "source": [
    "import requests\n",
    "from bs4 import BeautifulSoup\n",
    "import copy\n",
    "import numpy as np\n",
    "def query_line_from_nist(ion_to_q = \"H I\", wavelength_low_lim=300,wavelength_upper_lim=4200,acc='B+'):\n",
    "    \n",
    "    dwwl   = str(wavelength_low_lim)\n",
    "    upwl   = str(wavelength_upper_lim)\n",
    "    url   = 'https://physics.nist.gov/cgi-bin/ASD/lines1.pl?spectra='+ion_to_q+'&limits_type=0&low_w='+dwwl+'&upp_w='+upwl+'&unit=0&de=0&I_scale_type=1&format=1&line_out=0&remove_js=on&no_spaces=on&en_unit=0&output=0&page_size=15&show_obs_wl=1&order_out=0&max_low_enrg=&show_av=3&max_upp_enrg=&tsb_value=0&min_str=&A_out=0&f_out=on&max_str=&allowed_out=1&min_accur=&min_intens=&submit=Retrieve+Data'\n",
    "    \n",
    "    respond = requests.get(url=url)\n",
    "    \n",
    "    if 'No lines are available in ASD with the parameters selected' in respond.text:\n",
    "        \n",
    "        raise Exception(\"Line not in the ADS database\")\n",
    "        \n",
    "    if 'Unrecognized token.' in respond.text:\n",
    "        \n",
    "        raise Exception(\"Unrecognized ion\")\n",
    "        \n",
    "    table_post_pre = BeautifulSoup(respond.text, features='html5lib').find('pre')\n",
    "    \n",
    "    lines = table_post_pre.text.strip().split('\\n')\n",
    "    \n",
    "    \n",
    "    data = []\n",
    "\n",
    "    # Iterate through the lines and extract data\n",
    "    for line in lines:\n",
    "        # Split the line using whitespace as a delimiter\n",
    "        values = line.replace('|','').split()\n",
    "        if len(values) == 4:\n",
    "            # Check if the line contains data (5 values)\n",
    "            observed, aki, fik, acc = values\n",
    "            data.append([float(observed),\n",
    "                float(aki),\n",
    "                float(fik),\n",
    "             acc])\n",
    "    sorted_indx = np.argsort(np.vstack(data)[:,2].astype(float))\n",
    "    return np.array(data)[sorted_indx][::-1]\n",
    "\n"
   ]
  },
  {
   "cell_type": "code",
   "execution_count": 122,
   "id": "9da867b5-7c68-49f5-98b2-9f63db253835",
   "metadata": {},
   "outputs": [],
   "source": [
    "data = query_line_from_nist('H I')"
   ]
  },
  {
   "cell_type": "code",
   "execution_count": 123,
   "id": "94fb985e-4079-4d75-89ed-126067e44775",
   "metadata": {},
   "outputs": [
    {
     "data": {
      "text/plain": [
       "array([['1215.6701', '469860000.0', '0.41641', 'AAA'],\n",
       "       ['1215.6699', '626470000.0', '0.2776', 'AAA'],\n",
       "       ['1215.6699', '626480000.0', '0.1388', 'AAA'],\n",
       "       ['1025.728', '55751000.0', '0.079142', 'AAA'],\n",
       "       ['1025.728', '167250000.0', '0.052761', 'AAA'],\n",
       "       ['972.517', '12785000.0', '0.029006', 'AAA'],\n",
       "       ['1025.728', '167250000.0', '0.02638', 'AAA'],\n",
       "       ['4102.892', '973200.0', '0.022105', 'AAA'],\n",
       "       ['972.541', '68185000.0', '0.019337', 'AAA'],\n",
       "       ['949.742', '4125000.0', '0.013945', 'AAA'],\n",
       "       ['3971.198', '438890.0', '0.012711', 'AAA'],\n",
       "       ['972.541', '68185000.0', '0.0096686', 'AAA'],\n",
       "       ['949.742', '34375000.0', '0.0092969', 'AAA'],\n",
       "       ['3890.166', '221480.0', '0.0080397', 'AAA'],\n",
       "       ['937.814', '1644000.0', '0.0078035', 'AAA'],\n",
       "       ['3836.485', '121560.0', '0.0054317', 'AAA'],\n",
       "       ['937.801', '19728000.0', '0.0052022', 'AAA'],\n",
       "       ['930.751', '756840.0', '0.0048164', 'AAA'],\n",
       "       ['949.742', '34375000.0', '0.0046485', 'AAA'],\n",
       "       ['3798.987', '71225.0', '0.0038526', 'AAA'],\n",
       "       ['930.749', '12362000.0', '0.003211', 'AAA'],\n",
       "       ['926.249', '386940.0', '0.003185', 'AAA'],\n",
       "       ['3771.704', '43972.0', '0.0028368', 'AAA'],\n",
       "       ['937.801', '19728000.0', '0.0026011', 'AAA'],\n",
       "       ['923.148', '214250.0', '0.0022172', 'AAA'],\n",
       "       ['3751.217', '28337.0', '0.0021521', 'AAA'],\n",
       "       ['926.229', '8254700.0', '0.0021234', 'AAA'],\n",
       "       ['3735.431', '18927.0', '0.0016728', 'AAA'],\n",
       "       ['920.947', '126310.0', '0.0016062', 'AAA'],\n",
       "       ['930.749', '12362000.0', '0.0016055', 'AAA'],\n",
       "       ['923.151', '5784800.0', '0.0014781', 'AAA'],\n",
       "       ['3723.005', '13032.0', '0.0013269', 'AAA'],\n",
       "       ['919.342', '78340.0', '0.0012011', 'AAA'],\n",
       "       ['3713.034', '9210.2', '0.0010708', 'AAA'],\n",
       "       ['920.97', '4210500.0', '0.0010708', 'AAA'],\n",
       "       ['926.229', '8254500.0', '0.0010617', 'AAA'],\n",
       "       ['918.125', '50659.0', '0.0009219', 'AAA'],\n",
       "       ['3704.913', '6658.3', '0.0008769', 'AAA'],\n",
       "       ['919.349', '3159700.0', '0.00080074', 'AAA'],\n",
       "       ['923.151', '5784700.0', '0.00073906', 'AAA'],\n",
       "       ['3698.209', '4910.1', '0.00072738', 'AAA'],\n",
       "       ['918.13', '2431700.0', '0.00061461', 'AAA'],\n",
       "       ['3692.602', '3685.1', '0.00061017', 'AAA'],\n",
       "       ['920.97', '4210400.0', '0.00053538', 'AAA'],\n",
       "       ['3687.881', '2809.3', '0.00051695', 'AAA'],\n",
       "       ['3683.871', '2171.9', '0.00044187', 'AAA'],\n",
       "       ['919.349', '3159700.0', '0.00040037', 'AAA'],\n",
       "       ['3680.418', '1700.5', '0.0003807', 'AAA'],\n",
       "       ['3677.423', '1346.7', '0.00033036', 'AAA'],\n",
       "       ['918.13', '2431600.0', '0.00030729', 'AAA'],\n",
       "       ['3674.86', '1077.7', '0.00028854', 'AAA'],\n",
       "       ['3672.37', '870.69', '0.00025352', 'AAA'],\n",
       "       ['3670.5', '709.63', '0.00022395', 'AAA'],\n",
       "       ['3668.77', '583.04', '0.00019882', 'AAA'],\n",
       "       ['3667.12', '482.61', '0.00017732', 'AAA'],\n",
       "       ['3665.69', '402.24', '0.00015882', 'AAA'],\n",
       "       ['3664.45', '337.42', '0.00014281', 'AAA'],\n",
       "       ['3663.26', '284.74', '0.00012889', 'AAA'],\n",
       "       ['3662.31', '241.62', '0.00011672', 'AAA'],\n",
       "       ['3661.36', '206.12', '0.00010604', 'AAA'],\n",
       "       ['3660.45', '176.69', '9.6627e-05', 'AAA'],\n",
       "       ['3659.69', '152.16', '8.8297e-05', 'AAA'],\n",
       "       ['3659.08', '131.61', '8.0898e-05', 'AAA'],\n",
       "       ['3658.29', '114.3', '7.4305e-05', 'AAA'],\n",
       "       ['3657.69', '99.657', '6.841e-05', 'AAA']], dtype='<U32')"
      ]
     },
     "execution_count": 123,
     "metadata": {},
     "output_type": "execute_result"
    }
   ],
   "source": [
    "from SpecWizard"
   ]
  },
  {
   "cell_type": "markdown",
   "id": "f86dd2fa-176a-4835-bc8a-da9ed12c8bfb",
   "metadata": {},
   "source": [
    "\n",
    "- AAA \t≤ \t0.3%\n",
    "- AA \t≤ \t1%\n",
    "- A+ \t≤ \t2%\n",
    "- A \t≤ \t3%\n",
    "- B+ \t≤ \t7%\n",
    "- B \t≤ \t10%\n",
    "- C+ \t≤ \t18%\n",
    "- C \t≤ \t25%\n",
    "- D+ \t≤ \t40%\n",
    "- D \t≤ \t50%\n",
    "- E \t> \t50%."
   ]
  },
  {
   "cell_type": "code",
   "execution_count": 84,
   "id": "fe7b9654-71fd-43be-a975-551d92d8d5b2",
   "metadata": {},
   "outputs": [],
   "source": [
    "bad_accuracy = ['E','D','D+','C','C+','B']\n",
    "good_accuracy = ['B+','A','A+','AA','AAA']"
   ]
  },
  {
   "cell_type": "code",
   "execution_count": 104,
   "id": "733f3f4b-5e71-497e-ac31-28a88bf755c7",
   "metadata": {},
   "outputs": [],
   "source": [
    "accuracy = np.array(['AAA','AA','A+','A','B+','B','C+','C','D+','D','E'])"
   ]
  },
  {
   "cell_type": "code",
   "execution_count": 112,
   "id": "1520f213-3ff4-4bac-a8d0-fd24ecdfe30d",
   "metadata": {},
   "outputs": [],
   "source": []
  },
  {
   "cell_type": "code",
   "execution_count": 114,
   "id": "bc1e9a5e-001a-40d6-8e16-472c6b491626",
   "metadata": {},
   "outputs": [
    {
     "data": {
      "text/plain": [
       "array(['AAA', 'AA', 'A+', 'A', 'B+'], dtype='<U3')"
      ]
     },
     "execution_count": 114,
     "metadata": {},
     "output_type": "execute_result"
    }
   ],
   "source": []
  },
  {
   "cell_type": "code",
   "execution_count": 96,
   "id": "01e65a57-b5ea-4a80-9a39-3569fb51a8b0",
   "metadata": {},
   "outputs": [],
   "source": [
    "res = [np.where(data[:,3]==i)[0] for i in good_accuracy]"
   ]
  },
  {
   "cell_type": "code",
   "execution_count": 101,
   "id": "f1601e16-277d-4b34-bf06-e6f3452e4a27",
   "metadata": {},
   "outputs": [
    {
     "data": {
      "text/plain": [
       "array([['395.558', '2800000000.0', '0.0394', 'B+'],\n",
       "       ['599.598', '5410000000.0', '0.292', 'A'],\n",
       "       ['525.795', '9600000000.0', '0.239', 'A'],\n",
       "       ['597.818', '1490000000.0', '0.239', 'A'],\n",
       "       ['508.182', '8040000000.0', '0.187', 'A'],\n",
       "       ['507.391', '1610000000.0', '0.186', 'A'],\n",
       "       ['507.683', '4820000000.0', '0.186', 'A'],\n",
       "       ['702.332', '606000000.0', '0.134', 'A'],\n",
       "       ['832.927', '341000000.0', '0.106', 'A'],\n",
       "       ['703.85', '1370000000.0', '0.102', 'A'],\n",
       "       ['835.292', '599000000.0', '0.0877', 'A'],\n",
       "       ['833.742', '458000000.0', '0.0796', 'A'],\n",
       "       ['702.899', '447000000.0', '0.0552', 'A'],\n",
       "       ['702.822', '1830000000.0', '0.0452', 'A'],\n",
       "       ['702.899', '466000000.0', '0.0345', 'A'],\n",
       "       ['703.85', '754000000.0', '0.0336', 'A'],\n",
       "       ['835.096', '144000000.0', '0.0151', 'A']], dtype='<U32')"
      ]
     },
     "execution_count": 101,
     "metadata": {},
     "output_type": "execute_result"
    }
   ],
   "source": [
    "data[np.concatenate(res)]"
   ]
  },
  {
   "cell_type": "code",
   "execution_count": 741,
   "id": "c1d8424c-8250-4890-b8a9-5bb7ca0c9b3e",
   "metadata": {},
   "outputs": [
    {
     "data": {
      "text/plain": [
       "'https://physics.nist.gov/cgi-bin/ASD/lines1.pl?spectra=He+II&limits_type=0&low_w=800&upp_w=4200&unit=0&de=0&I_scale_type=1&format=1&line_out=0&remove_js=on&no_spaces=on&en_unit=0&output=0&page_size=15&show_calc_wl=1&order_out=0&max_low_enrg=&show_av=3&max_upp_enrg=&tsb_value=0&min_str=&A_out=0&f_out=on&max_str=&allowed_out=1&forbid_out=1&min_accur=&min_intens=&submit=Retrieve+Data'"
      ]
     },
     "execution_count": 741,
     "metadata": {},
     "output_type": "execute_result"
    }
   ],
   "source": [
    "'https://physics.nist.gov/cgi-bin/ASD/lines1.pl?spectra=He+II&limits_type=0&low_w=800&upp_w=4200&unit=0&de=0&I_scale_type=1&format=1&line_out=0&remove_js=on&no_spaces=on&en_unit=0&output=0&page_size=15&show_calc_wl=1&order_out=0&max_low_enrg=&show_av=3&max_upp_enrg=&tsb_value=0&min_str=&A_out=0&f_out=on&max_str=&allowed_out=1&forbid_out=1&min_accur=&min_intens=&submit=Retrieve+Data'"
   ]
  },
  {
   "cell_type": "code",
   "execution_count": 131,
   "id": "6e096b17-a124-4d10-b1f6-b30ea6d7b179",
   "metadata": {},
   "outputs": [],
   "source": [
    "atomfile = Atomfile()"
   ]
  },
  {
   "cell_type": "code",
   "execution_count": 132,
   "id": "09933a80-a819-4361-8295-417637f204c2",
   "metadata": {},
   "outputs": [
    {
     "ename": "NameError",
     "evalue": "name 'np' is not defined",
     "output_type": "error",
     "traceback": [
      "\u001b[0;31m---------------------------------------------------------------------------\u001b[0m",
      "\u001b[0;31mNameError\u001b[0m                                 Traceback (most recent call last)",
      "\u001b[0;32m<ipython-input-132-e76d818e7757>\u001b[0m in \u001b[0;36m<module>\u001b[0;34m()\u001b[0m\n\u001b[0;32m----> 1\u001b[0;31m \u001b[0matomfile\u001b[0m\u001b[0;34m.\u001b[0m\u001b[0mquery_line_from_nist\u001b[0m\u001b[0;34m(\u001b[0m\u001b[0;34m)\u001b[0m\u001b[0;34m\u001b[0m\u001b[0m\n\u001b[0m",
      "\u001b[0;32m/cosma7/data/dp004/dc-aram1/pyspecwizard_main/gitcontrol/oficial_git/specwizard/specwizard/SpecWizard_Atomfile.py\u001b[0m in \u001b[0;36mquery_line_from_nist\u001b[0;34m(self, ion_to_q, wavelength_low_lim, wavelength_upper_lim, acc)\u001b[0m\n\u001b[1;32m     38\u001b[0m \u001b[0;34m\u001b[0m\u001b[0m\n\u001b[1;32m     39\u001b[0m         \u001b[0;31m# We set the accuracy that we want.\u001b[0m\u001b[0;34m\u001b[0m\u001b[0;34m\u001b[0m\u001b[0m\n\u001b[0;32m---> 40\u001b[0;31m         \u001b[0maccuracy\u001b[0m \u001b[0;34m=\u001b[0m \u001b[0mnp\u001b[0m\u001b[0;34m.\u001b[0m\u001b[0marray\u001b[0m\u001b[0;34m(\u001b[0m\u001b[0;34m[\u001b[0m\u001b[0;34m'AAA'\u001b[0m\u001b[0;34m,\u001b[0m\u001b[0;34m'AA'\u001b[0m\u001b[0;34m,\u001b[0m\u001b[0;34m'A+'\u001b[0m\u001b[0;34m,\u001b[0m\u001b[0;34m'A'\u001b[0m\u001b[0;34m,\u001b[0m\u001b[0;34m'B+'\u001b[0m\u001b[0;34m,\u001b[0m\u001b[0;34m'B'\u001b[0m\u001b[0;34m,\u001b[0m\u001b[0;34m'C+'\u001b[0m\u001b[0;34m,\u001b[0m\u001b[0;34m'C'\u001b[0m\u001b[0;34m,\u001b[0m\u001b[0;34m'D+'\u001b[0m\u001b[0;34m,\u001b[0m\u001b[0;34m'D'\u001b[0m\u001b[0;34m,\u001b[0m\u001b[0;34m'E'\u001b[0m\u001b[0;34m]\u001b[0m\u001b[0;34m)\u001b[0m\u001b[0;34m\u001b[0m\u001b[0m\n\u001b[0m\u001b[1;32m     41\u001b[0m         \u001b[0macc_indx\u001b[0m \u001b[0;34m=\u001b[0m \u001b[0mnp\u001b[0m\u001b[0;34m.\u001b[0m\u001b[0mwhere\u001b[0m\u001b[0;34m(\u001b[0m\u001b[0maccuracy\u001b[0m\u001b[0;34m==\u001b[0m\u001b[0macc\u001b[0m\u001b[0;34m)\u001b[0m\u001b[0;34m[\u001b[0m\u001b[0;36m0\u001b[0m\u001b[0;34m]\u001b[0m\u001b[0;34m[\u001b[0m\u001b[0;36m0\u001b[0m\u001b[0;34m]\u001b[0m\u001b[0;34m\u001b[0m\u001b[0m\n\u001b[1;32m     42\u001b[0m         \u001b[0maccuracy\u001b[0m \u001b[0;34m=\u001b[0m \u001b[0maccuracy\u001b[0m\u001b[0;34m[\u001b[0m\u001b[0;34m:\u001b[0m\u001b[0macc_indx\u001b[0m\u001b[0;34m+\u001b[0m\u001b[0;36m1\u001b[0m\u001b[0;34m]\u001b[0m\u001b[0;34m\u001b[0m\u001b[0m\n",
      "\u001b[0;31mNameError\u001b[0m: name 'np' is not defined"
     ]
    }
   ],
   "source": [
    "atomfile.query_line_from_nist()"
   ]
  },
  {
   "cell_type": "code",
   "execution_count": 744,
   "id": "93c77595-92b0-4c0c-8dd2-65993d06eb75",
   "metadata": {},
   "outputs": [],
   "source": []
  },
  {
   "cell_type": "code",
   "execution_count": 745,
   "id": "db267471-682a-49cc-915c-8c398809f427",
   "metadata": {},
   "outputs": [],
   "source": []
  },
  {
   "cell_type": "code",
   "execution_count": 746,
   "id": "5a38bf22-0ec3-45c3-a306-dfb9196c4c94",
   "metadata": {},
   "outputs": [],
   "source": [
    "# Initialize lists to store extracted data\n",
    "data = []\n",
    "\n",
    "# Iterate through the lines and extract data\n",
    "for line in lines:\n",
    "    # Split the line using whitespace as a delimiter\n",
    "    values = line.replace('|','').split()\n",
    "    if len(values) == 4:\n",
    "        # Check if the line contains data (5 values)\n",
    "        observed, aki, fik, acc = values\n",
    "        data.append([float(observed),\n",
    "            float(aki),\n",
    "            float(fik),\n",
    "             acc])"
   ]
  },
  {
   "cell_type": "code",
   "execution_count": 747,
   "id": "c23b0c8e-ce2f-4df8-b6af-85fd5944bda7",
   "metadata": {},
   "outputs": [
    {
     "data": {
      "text/plain": [
       "array([['1215.6701', '469860000.0', '0.41641', 'AAA'],\n",
       "       ['1215.6699', '626470000.0', '0.2776', 'AAA'],\n",
       "       ['1215.6699', '626480000.0', '0.1388', 'AAA'],\n",
       "       ['1025.728', '55751000.0', '0.079142', 'AAA'],\n",
       "       ['1025.728', '167250000.0', '0.052761', 'AAA'],\n",
       "       ['972.517', '12785000.0', '0.029006', 'AAA'],\n",
       "       ['1025.728', '167250000.0', '0.02638', 'AAA'],\n",
       "       ['4102.892', '973200.0', '0.022105', 'AAA'],\n",
       "       ['972.541', '68185000.0', '0.019337', 'AAA'],\n",
       "       ['949.742', '4125000.0', '0.013945', 'AAA'],\n",
       "       ['3971.198', '438890.0', '0.012711', 'AAA'],\n",
       "       ['972.541', '68185000.0', '0.0096686', 'AAA'],\n",
       "       ['949.742', '34375000.0', '0.0092969', 'AAA'],\n",
       "       ['3890.166', '221480.0', '0.0080397', 'AAA'],\n",
       "       ['937.814', '1644000.0', '0.0078035', 'AAA'],\n",
       "       ['3836.485', '121560.0', '0.0054317', 'AAA'],\n",
       "       ['937.801', '19728000.0', '0.0052022', 'AAA'],\n",
       "       ['930.751', '756840.0', '0.0048164', 'AAA'],\n",
       "       ['949.742', '34375000.0', '0.0046485', 'AAA'],\n",
       "       ['3798.987', '71225.0', '0.0038526', 'AAA'],\n",
       "       ['930.749', '12362000.0', '0.003211', 'AAA'],\n",
       "       ['926.249', '386940.0', '0.003185', 'AAA'],\n",
       "       ['3771.704', '43972.0', '0.0028368', 'AAA'],\n",
       "       ['937.801', '19728000.0', '0.0026011', 'AAA'],\n",
       "       ['923.148', '214250.0', '0.0022172', 'AAA'],\n",
       "       ['3751.217', '28337.0', '0.0021521', 'AAA'],\n",
       "       ['926.229', '8254700.0', '0.0021234', 'AAA'],\n",
       "       ['3735.431', '18927.0', '0.0016728', 'AAA'],\n",
       "       ['920.947', '126310.0', '0.0016062', 'AAA'],\n",
       "       ['930.749', '12362000.0', '0.0016055', 'AAA'],\n",
       "       ['923.151', '5784800.0', '0.0014781', 'AAA'],\n",
       "       ['3723.005', '13032.0', '0.0013269', 'AAA'],\n",
       "       ['919.342', '78340.0', '0.0012011', 'AAA'],\n",
       "       ['3713.034', '9210.2', '0.0010708', 'AAA'],\n",
       "       ['920.97', '4210500.0', '0.0010708', 'AAA'],\n",
       "       ['926.229', '8254500.0', '0.0010617', 'AAA'],\n",
       "       ['918.125', '50659.0', '0.0009219', 'AAA'],\n",
       "       ['3704.913', '6658.3', '0.0008769', 'AAA'],\n",
       "       ['919.349', '3159700.0', '0.00080074', 'AAA'],\n",
       "       ['923.151', '5784700.0', '0.00073906', 'AAA'],\n",
       "       ['3698.209', '4910.1', '0.00072738', 'AAA'],\n",
       "       ['918.13', '2431700.0', '0.00061461', 'AAA'],\n",
       "       ['3692.602', '3685.1', '0.00061017', 'AAA'],\n",
       "       ['920.97', '4210400.0', '0.00053538', 'AAA'],\n",
       "       ['3687.881', '2809.3', '0.00051695', 'AAA'],\n",
       "       ['3683.871', '2171.9', '0.00044187', 'AAA'],\n",
       "       ['919.349', '3159700.0', '0.00040037', 'AAA'],\n",
       "       ['3680.418', '1700.5', '0.0003807', 'AAA'],\n",
       "       ['3677.423', '1346.7', '0.00033036', 'AAA'],\n",
       "       ['918.13', '2431600.0', '0.00030729', 'AAA'],\n",
       "       ['3674.86', '1077.7', '0.00028854', 'AAA'],\n",
       "       ['3672.37', '870.69', '0.00025352', 'AAA'],\n",
       "       ['3670.5', '709.63', '0.00022395', 'AAA'],\n",
       "       ['3668.77', '583.04', '0.00019882', 'AAA'],\n",
       "       ['3667.12', '482.61', '0.00017732', 'AAA'],\n",
       "       ['3665.69', '402.24', '0.00015882', 'AAA'],\n",
       "       ['3664.45', '337.42', '0.00014281', 'AAA'],\n",
       "       ['3663.26', '284.74', '0.00012889', 'AAA'],\n",
       "       ['3662.31', '241.62', '0.00011672', 'AAA'],\n",
       "       ['3661.36', '206.12', '0.00010604', 'AAA'],\n",
       "       ['3660.45', '176.69', '9.6627e-05', 'AAA'],\n",
       "       ['3659.69', '152.16', '8.8297e-05', 'AAA'],\n",
       "       ['3659.08', '131.61', '8.0898e-05', 'AAA'],\n",
       "       ['3658.29', '114.3', '7.4305e-05', 'AAA'],\n",
       "       ['3657.69', '99.657', '6.841e-05', 'AAA']], dtype='<U32')"
      ]
     },
     "execution_count": 747,
     "metadata": {},
     "output_type": "execute_result"
    }
   ],
   "source": []
  },
  {
   "cell_type": "code",
   "execution_count": 591,
   "id": "ee355099-2361-4eba-8792-a85523170a23",
   "metadata": {},
   "outputs": [],
   "source": [
    "payload= {\n",
    "\t\"wavl\": \"\",\n",
    "\t\"wave\": \"Angstrom\",\n",
    "\t\"air\": \"Vacuum\",\n",
    "\t\"wacc\": \"\",\n",
    "\t\"elmion\": \"C II\",\n",
    "\t\"abun\": \"\",\n",
    "\t\"depl\": \"\",\n",
    "\t\"elo\": \"\",\n",
    "\t\"ener\": \"cm^-1\",\n",
    "\t\"ehi\": \"\",\n",
    "\t\"nmax\": \"\",\n",
    "\t\"term\": \"\",\n",
    "\t\"type\": \"All\",\n",
    "\t\"hydr\": \"Suppress\",\n",
    "\t\"auto\": \"Suppress\",\n",
    "\t\"form\": [\n",
    "\t\t\"spec\",\n",
    "\t\t\"type\",\n",
    "\t\t\"term\",\n",
    "\t\t\"angm\",\n",
    "\t\t\"prob\",\n",
    "\t\t\"ener\"\n",
    "\t],\n",
    "\t\"jval\": \"usej\",\n",
    "\t\"tptype\": \"as_f\",\n",
    "\t\"mode\": \"Plain\"\n",
    "}\n",
    "\n",
    "bleh = ascii.read(result_data, data_start=0, delimiter='\\t',\n",
    "                              names=colnames, fast_reader=False)"
   ]
  },
  {
   "cell_type": "code",
   "execution_count": null,
   "id": "3ee8748b-7fef-47b2-83ad-817f5a0ba49f",
   "metadata": {},
   "outputs": [],
   "source": []
  },
  {
   "cell_type": "code",
   "execution_count": 592,
   "id": "5956906f-60b0-4097-ab50-5a0b7281a14b",
   "metadata": {},
   "outputs": [],
   "source": [
    "from astropy.io import ascii"
   ]
  },
  {
   "cell_type": "code",
   "execution_count": 593,
   "id": "5627d6f2-0b8c-411b-b808-bbf3b8f274a0",
   "metadata": {},
   "outputs": [],
   "source": [
    "respon = requests.post(url='https://linelist.pa.uky.edu/atomic/query.cgi',data=payload)"
   ]
  },
  {
   "cell_type": "code",
   "execution_count": 594,
   "id": "42597ec8-699d-4cb5-b2bd-90b3f9ac6684",
   "metadata": {},
   "outputs": [],
   "source": [
    "html_pre = BeautifulSoup(respon.text, features='html5lib').find('pre')\n"
   ]
  },
  {
   "cell_type": "code",
   "execution_count": 595,
   "id": "403f55f3-d8b9-4fb0-bc96-728e1b66ce94",
   "metadata": {},
   "outputs": [],
   "source": [
    "data = StringIO(html_pre.text.strip())"
   ]
  },
  {
   "cell_type": "code",
   "execution_count": 596,
   "id": "a8374d16-aa89-4039-88a9-231a10990380",
   "metadata": {},
   "outputs": [],
   "source": [
    "header = data.readline().strip().strip('|')\n"
   ]
  },
  {
   "cell_type": "code",
   "execution_count": 597,
   "id": "5328236a-773e-4cec-9b00-53f63ff84fe7",
   "metadata": {},
   "outputs": [],
   "source": [
    "colnames = [colname.strip('-').replace('-', ' ')\n",
    "            for colname in header.split('|') if colname.strip()]"
   ]
  },
  {
   "cell_type": "code",
   "execution_count": 598,
   "id": "3d68c106-b5f0-4aed-bf5f-7970db3f90ec",
   "metadata": {},
   "outputs": [],
   "source": [
    "indices = [i for i, c in enumerate(header) if c == '|']\n",
    "result_data = []"
   ]
  },
  {
   "cell_type": "code",
   "execution_count": 599,
   "id": "d421d95d-aee3-445c-afa8-02dc3f31be84",
   "metadata": {},
   "outputs": [],
   "source": [
    "for line in data:\n",
    "    row = []\n",
    "    for start, end in zip([0] + indices, indices + [None]):\n",
    "        # `value` will hold all cell values in the line, so\n",
    "        # `u'1.010799'`, `u'Zn XXX'` etc.\n",
    "        value = line[start:end].strip()\n",
    "        if value:\n",
    "            row.append(value)\n",
    "        else:\n",
    "            # maintain table dimensions when data missing\n",
    "            row.append('None')\n",
    "    if row:\n",
    "        result_data.append('\\t'.join(row))\n"
   ]
  },
  {
   "cell_type": "code",
   "execution_count": 600,
   "id": "f512aea6-56d2-4765-a199-2b9176afacfe",
   "metadata": {},
   "outputs": [],
   "source": [
    "bleh = ascii.read(result_data, data_start=0, delimiter='\\t',\n",
    "                              names=colnames, fast_reader=False)"
   ]
  },
  {
   "cell_type": "code",
   "execution_count": 601,
   "id": "ea3f847e-9d35-4afb-84a6-6b1d5ff557c3",
   "metadata": {},
   "outputs": [
    {
     "data": {
      "text/html": [
       "<i>Table length=500</i>\n",
       "<table id=\"table47115602543056\" class=\"table-striped table-bordered table-condensed\">\n",
       "<thead><tr><th>LAMBDA VAC ANG</th><th>SPECTRUM</th><th>TT</th><th>TERM</th><th>J J</th><th>f_ik</th><th>LEVEL ENERGY  CM 1</th></tr></thead>\n",
       "<thead><tr><th>float64</th><th>str5</th><th>str2</th><th>str6</th><th>str7</th><th>str8</th><th>str23</th></tr></thead>\n",
       "<tr><td>530.27541</td><td>C II</td><td>E1</td><td>2Po-2D</td><td>1/2-3/2</td><td>3.62E-02</td><td>0.00 -   188581.25</td></tr>\n",
       "<tr><td>530.35866</td><td>C II</td><td>E1</td><td>2Po-2D</td><td>3/2-5/2</td><td>3.26E-02</td><td>63.42 -   188615.07</td></tr>\n",
       "<tr><td>530.4538</td><td>C II</td><td>E1</td><td>2Po-2D</td><td>3/2-3/2</td><td>3.62E-03</td><td>63.42 -   188581.25</td></tr>\n",
       "<tr><td>533.7518</td><td>C II</td><td>E1</td><td>2Po-2D</td><td>1/2-*</td><td>2.99E-02</td><td>0.00 -   187353.00</td></tr>\n",
       "<tr><td>533.9325</td><td>C II</td><td>E1</td><td>2Po-2D</td><td>3/2-*</td><td>2.99E-02</td><td>63.42 -   187353.00</td></tr>\n",
       "<tr><td>536.35497</td><td>C II]</td><td>E1</td><td>2Po-4P</td><td>1/2-3/2</td><td>None</td><td>0.00 -   186443.69</td></tr>\n",
       "<tr><td>536.40198</td><td>C II]</td><td>E1</td><td>2Po-4P</td><td>1/2-1/2</td><td>None</td><td>0.00 -   186427.35</td></tr>\n",
       "<tr><td>536.4732</td><td>C II]</td><td>E1</td><td>2Po-4P</td><td>3/2-5/2</td><td>None</td><td>63.42 -   186466.02</td></tr>\n",
       "<tr><td>536.53748</td><td>C II]</td><td>E1</td><td>2Po-4P</td><td>3/2-3/2</td><td>None</td><td>63.42 -   186443.69</td></tr>\n",
       "<tr><td>536.58452</td><td>C II]</td><td>E1</td><td>2Po-4P</td><td>3/2-1/2</td><td>None</td><td>63.42 -   186427.35</td></tr>\n",
       "<tr><td>...</td><td>...</td><td>...</td><td>...</td><td>...</td><td>...</td><td>...</td></tr>\n",
       "<tr><td>4863.939</td><td>C II</td><td>E1</td><td>2S-2Po</td><td>1/2-3/2</td><td>1.66E-02</td><td>157234.07 -   177793.54</td></tr>\n",
       "<tr><td>4868.426</td><td>C II</td><td>E1</td><td>2S-2Po</td><td>1/2-1/2</td><td>8.28E-03</td><td>157234.07 -   177774.59</td></tr>\n",
       "<tr><td>4905.36</td><td>C II]</td><td>E1</td><td>4Po-2D</td><td>1/2-*</td><td>None</td><td>166967.13 -   187353.00</td></tr>\n",
       "<tr><td>4911.04</td><td>C II]</td><td>E1</td><td>4Po-2D</td><td>3/2-*</td><td>None</td><td>166990.73 -   187353.00</td></tr>\n",
       "<tr><td>4921.92</td><td>C II]</td><td>E1</td><td>4Po-2D</td><td>5/2-*</td><td>None</td><td>167035.71 -   187353.00</td></tr>\n",
       "<tr><td>5033.531</td><td>C II</td><td>E1</td><td>2Po-2D</td><td>3/2-5/2</td><td>1.79E-01</td><td>168748.30 -   188615.07</td></tr>\n",
       "<tr><td>5037.347</td><td>C II</td><td>E1</td><td>2Po-2D</td><td>1/2-3/2</td><td>1.99E-01</td><td>168729.53 -   188581.25</td></tr>\n",
       "<tr><td>5042.114</td><td>C II</td><td>E1</td><td>2Po-2D</td><td>3/2-3/2</td><td>1.99E-02</td><td>168748.30 -   188581.25</td></tr>\n",
       "<tr><td>5092.498</td><td>C II</td><td>E1</td><td>2Fo-2D</td><td>5/2-5/2</td><td>3.14E-05</td><td>168978.34 -   188615.07</td></tr>\n",
       "<tr><td>5092.609</td><td>C II</td><td>E1</td><td>2Fo-2D</td><td>7/2-5/2</td><td>4.71E-04</td><td>168978.77 -   188615.07</td></tr>\n",
       "</table>"
      ],
      "text/plain": [
       "<Table length=500>\n",
       "LAMBDA VAC ANG SPECTRUM  TT   TERM    J J     f_ik      LEVEL ENERGY  CM 1  \n",
       "   float64       str5   str2  str6    str7    str8            str23         \n",
       "-------------- -------- ---- ------ ------- -------- -----------------------\n",
       "     530.27541     C II   E1 2Po-2D 1/2-3/2 3.62E-02      0.00 -   188581.25\n",
       "     530.35866     C II   E1 2Po-2D 3/2-5/2 3.26E-02     63.42 -   188615.07\n",
       "      530.4538     C II   E1 2Po-2D 3/2-3/2 3.62E-03     63.42 -   188581.25\n",
       "      533.7518     C II   E1 2Po-2D   1/2-* 2.99E-02      0.00 -   187353.00\n",
       "      533.9325     C II   E1 2Po-2D   3/2-* 2.99E-02     63.42 -   187353.00\n",
       "     536.35497    C II]   E1 2Po-4P 1/2-3/2     None      0.00 -   186443.69\n",
       "     536.40198    C II]   E1 2Po-4P 1/2-1/2     None      0.00 -   186427.35\n",
       "      536.4732    C II]   E1 2Po-4P 3/2-5/2     None     63.42 -   186466.02\n",
       "     536.53748    C II]   E1 2Po-4P 3/2-3/2     None     63.42 -   186443.69\n",
       "     536.58452    C II]   E1 2Po-4P 3/2-1/2     None     63.42 -   186427.35\n",
       "           ...      ...  ...    ...     ...      ...                     ...\n",
       "      4863.939     C II   E1 2S-2Po 1/2-3/2 1.66E-02 157234.07 -   177793.54\n",
       "      4868.426     C II   E1 2S-2Po 1/2-1/2 8.28E-03 157234.07 -   177774.59\n",
       "       4905.36    C II]   E1 4Po-2D   1/2-*     None 166967.13 -   187353.00\n",
       "       4911.04    C II]   E1 4Po-2D   3/2-*     None 166990.73 -   187353.00\n",
       "       4921.92    C II]   E1 4Po-2D   5/2-*     None 167035.71 -   187353.00\n",
       "      5033.531     C II   E1 2Po-2D 3/2-5/2 1.79E-01 168748.30 -   188615.07\n",
       "      5037.347     C II   E1 2Po-2D 1/2-3/2 1.99E-01 168729.53 -   188581.25\n",
       "      5042.114     C II   E1 2Po-2D 3/2-3/2 1.99E-02 168748.30 -   188581.25\n",
       "      5092.498     C II   E1 2Fo-2D 5/2-5/2 3.14E-05 168978.34 -   188615.07\n",
       "      5092.609     C II   E1 2Fo-2D 7/2-5/2 4.71E-04 168978.77 -   188615.07"
      ]
     },
     "execution_count": 601,
     "metadata": {},
     "output_type": "execute_result"
    }
   ],
   "source": [
    "bleh"
   ]
  },
  {
   "cell_type": "code",
   "execution_count": 496,
   "id": "2a993b89-117c-4b73-9790-e35861b223ae",
   "metadata": {},
   "outputs": [
    {
     "data": {
      "text/plain": [
       "'BDA-VAC-ANG-|-SPECTRUM--|TT|--------TERM---------|---J-J---|--f_ik--|----LEVEL ENERGY--CM-1----|\\n    530.27541     C II       E1        2Po-2D          1/2-3/2  3.62E-02         0.00 -   188581.25\\n    530.35866     C II       E1        2Po-2D          3/2-5/2  3.26E-02        63.42 -   188615.07\\n    530.45380     C II       E1        2Po-2D          3/2-3/2  3.62E-03        63.42 -   188581.25\\n    533.7518      C II       E1        2Po-2D          1/2-*    2.99E-02         0.00 -   187353.00\\n    533.9325      C II       E1        2Po-2D          3/2-*    2.99E-02        63.42 -   187353.00\\n    536.35497     C II]      E1        2Po-4P          1/2-3/2                   0.00 -   186443.69\\n    536.40198     C II]      E1        2Po-4P          1/2-1/2                   0.00 -   186427.35\\n    536.47320     C II]      E1        2Po-4P          3/2-5/2                  63.42 -   186466.02\\n    536.53748     C II]      E1        2Po-4P          3/2-3/2                  63.42 -   186443.69\\n    536.58452     C II]      E1        2Po-4P          3/2-1/2                  63.42 -   186427.35\\n    538.40749     C II       E1        2Po-2S          1/2-1/2  6.05E-04         0.00 -   185732.93\\n    538.59139     C II       E1        2Po-2S          3/2-1/2  6.05E-04        63.42 -   185732.93\\n    541.44496     C II]      E1        2Po-4S          1/2-3/2                   0.00 -   184690.98\\n    541.63095     C II]      E1        2Po-4S          3/2-3/2                  63.42 -   184690.98\\n    543.25803     C II       E1        2Po-2D          1/2-3/2  3.49E-02         0.00 -   184074.59\\n    543.44323     C II       E1        2Po-2D          3/2-5/2  3.14E-02        63.42 -   184075.28\\n    543.44527     C II       E1        2Po-2D          3/2-3/2  3.49E-03        63.42 -   184074.59\\n    549.31953     C II       E1        2Po-2P          1/2-3/2  6.06E-03         0.00 -   182043.41\\n    549.37853     C II       E1        2Po-2P          1/2-1/2  1.21E-02         0.00 -   182023.86\\n    549.51097     C II       E1        2Po-2P          3/2-3/2  1.52E-02        63.42 -   182043.41\\n    549.57001     C II       E1        2Po-2P          3/2-1/2  3.03E-03        63.42 -   182023.86\\n    550.32433     C II]      E1        2Po-4D          1/2-3/2                   0.00 -   181711.03\\n    550.36785     C II]      E1        2Po-4D          1/2-1/2                   0.00 -   181696.66\\n    550.44065     C II]      E1        2Po-4D          3/2-5/2                  63.42 -   181736.05\\n    550.51646     C II]      E1        2Po-4D          3/2-3/2                  63.42 -   181711.03\\n    550.56002     C II]      E1        2Po-4D          3/2-1/2                  63.42 -   181696.66\\n    551.68079     C II       E1        2Po-2S          1/2-1/2  1.12E-03         0.00 -   181264.24\\n    551.87388     C II       E1        2Po-2S          3/2-1/2  1.12E-03        63.42 -   181264.24\\n    560.23944     C II       E1        2Po-2D          1/2-3/2  5.71E-02         0.00 -   178495.11\\n    560.43668     C II       E1        2Po-2D          3/2-5/2  5.14E-02        63.42 -   178495.71\\n    560.43856     C II       E1        2Po-2D          3/2-3/2  5.71E-03        63.42 -   178495.11\\n    576.87480     C II       E1        2Po-2S          1/2-1/2  2.34E-03         0.00 -   173347.84\\n    577.08593     C II       E1        2Po-2S          3/2-1/2  2.34E-03        63.42 -   173347.84\\n    594.8000      C II       E1        2Po-2D          1/2-3/2  1.18E-01         0.00 -   168123.74\\n    595.0219      C II       E1        2Po-2D          3/2-5/2  1.06E-01        63.42 -   168124.45\\n    595.0245      C II       E1        2Po-2D          3/2-3/2  1.18E-02        63.42 -   168123.74\\n    635.9945      C II       E1        2Po-2S          1/2-1/2  6.13E-03         0.00 -   157234.07\\n    636.2511      C II       E1        2Po-2S          3/2-1/2  6.13E-03        63.42 -   157234.07\\n    651.2108      C II       E1         4P-4Do         1/2-3/2  2.22E-01     43003.30 -   196563.41\\n    651.2343      C II       E1         4P-4Do         1/2-1/2  2.22E-01     43003.30 -   196557.87\\n    651.2684      C II       E1         4P-4Do         3/2-5/2  2.80E-01     43025.30 -   196571.82\\n    651.3041      C II       E1         4P-4Do         3/2-3/2  1.42E-01     43025.30 -   196563.41\\n    651.3276      C II       E1         4P-4Do         3/2-1/2  2.22E-02     43025.30 -   196557.87\\n    651.3455      C II       E1         4P-4Do         5/2-7/2  3.56E-01     43053.60 -   196581.96\\n    651.3885      C II       E1         4P-4Do         5/2-5/2  8.00E-02     43053.60 -   196571.82\\n    651.4242      C II       E1         4P-4Do         5/2-3/2  8.89E-03     43053.60 -   196563.41\\n    687.0526      C II       E1        2Po-2D          1/2-3/2  3.36E-01         0.00 -   145549.27\\n    687.3453      C II       E1        2Po-2D          3/2-5/2  3.02E-01        63.42 -   145550.70\\n    687.3521      C II       E1        2Po-2D          3/2-3/2  3.36E-02        63.42 -   145549.27\\n    695.686       C II]      E1         4P-2Po         1/2-3/2               43003.30 -   186746.30\\n    695.688       C II]      E1         4P-2Po         1/2-1/2               43003.30 -   186745.90\\n    695.793       C II]      E1         4P-2Po         3/2-3/2               43025.30 -   186746.30\\n    695.794       C II]      E1         4P-2Po         3/2-1/2               43025.30 -   186745.90\\n    695.930       C II]      E1         4P-2Po         5/2-3/2               43053.60 -   186746.30\\n    714.335       C II]      E1         4P-2Po         1/2-3/2               43003.30 -   182993.66\\n    714.337       C II]      E1         4P-2Po         1/2-1/2               43003.30 -   182993.23\\n    714.447       C II]      E1         4P-2Po         3/2-3/2               43025.30 -   182993.66\\n    714.449       C II]      E1         4P-2Po         3/2-1/2               43025.30 -   182993.23\\n    714.592       C II]      E1         4P-2Po         5/2-3/2               43053.60 -   182993.66\\n    741.893       C II]      E1         4P-2Po         1/2-3/2               43003.30 -   177793.54\\n    741.998       C II]      E1         4P-2Po         1/2-1/2               43003.30 -   177774.59\\n    742.015       C II]      E1         4P-2Po         3/2-3/2               43025.30 -   177793.54\\n    742.119       C II]      E1         4P-2Po         3/2-1/2               43025.30 -   177774.59\\n    742.170       C II]      E1         4P-2Po         5/2-3/2               43053.60 -   177793.54\\n    755.907       C II]      E1         4P-2Po         1/2-3/2               43003.30 -   175294.75\\n    755.949       C II]      E1         4P-2Po         1/2-1/2               43003.30 -   175287.39\\n    756.032       C II]      E1         4P-2Po         3/2-3/2               43025.30 -   175294.75\\n    756.075       C II]      E1         4P-2Po         3/2-1/2               43025.30 -   175287.39\\n    756.194       C II]      E1         4P-2Po         5/2-3/2               43053.60 -   175294.75\\n    795.260       C II]      E1         4P-2Po         1/2-3/2               43003.30 -   168748.30\\n    795.379       C II]      E1         4P-2Po         1/2-1/2               43003.30 -   168729.53\\n    795.399       C II]      E1         4P-2Po         3/2-3/2               43025.30 -   168748.30\\n    795.518       C II]      E1         4P-2Po         3/2-1/2               43025.30 -   168729.53\\n    795.578       C II]      E1         4P-2Po         5/2-3/2               43053.60 -   168748.30\\n    806.384       C II       E1         4P-4Po         3/2-5/2  6.06E-02     43025.30 -   167035.71\\n    806.533       C II       E1         4P-4Po         1/2-3/2  1.12E-01     43003.30 -   166990.73\\n    806.568       C II       E1         4P-4Po         5/2-5/2  9.43E-02     43053.60 -   167035.71\\n    806.677       C II       E1         4P-4Po         3/2-3/2  1.80E-02     43025.30 -   166990.73\\n    806.687       C II       E1         4P-4Po         1/2-1/2  2.25E-02     43003.30 -   166967.13\\n    806.830       C II       E1         4P-4Po         3/2-1/2  5.61E-02     43025.30 -   166967.13\\n    806.861       C II       E1         4P-4Po         5/2-3/2  4.04E-02     43053.60 -   166990.73\\n    822.0178      C II]      E1         2D-4Do         5/2-7/2               74930.10 -   196581.96\\n    822.0864      C II]      E1         2D-4Do         5/2-5/2               74930.10 -   196571.82\\n    822.1034      C II]      E1         2D-4Do         3/2-5/2               74932.62 -   196571.82\\n    822.1432      C II]      E1         2D-4Do         5/2-3/2               74930.10 -   196563.41\\n    822.1602      C II]      E1         2D-4Do         3/2-3/2               74932.62 -   196563.41\\n    822.1977      C II]      E1         2D-4Do         3/2-1/2               74932.62 -   196557.87\\n    827.4335      C II]      E1         2D-4Fo         5/2-7/2               74930.10 -   195785.74\\n    827.5697      C II]      E1         2D-4Fo         5/2-5/2               74930.10 -   195765.85\\n    827.5869      C II]      E1         2D-4Fo         3/2-5/2               74932.62 -   195765.85\\n    827.6605      C II]      E1         2D-4Fo         5/2-3/2               74930.10 -   195752.58\\n    827.6778      C II]      E1         2D-4Fo         3/2-3/2               74932.62 -   195752.58\\n    828.952       C II       E1         2D-2Fo         5/2-*                 74930.10 -   195564.30\\n    828.970       C II       E1         2D-2Fo         3/2-*                 74932.62 -   195564.30\\n    829.772       C II       E1         2D-2Fo         5/2-*                 74930.10 -   195445.20\\n    829.789       C II       E1         2D-2Fo         3/2-*                 74932.62 -   195445.20\\n    830.733       C II       E1         2D-2Fo         5/2-*                 74930.10 -   195305.70\\n    830.751       C II       E1         2D-2Fo         3/2-*                 74932.62 -   195305.70\\n    831.872       C II       E1         2D-2Fo         5/2-*                 74930.10 -   195140.90\\n    831.889       C II       E1         2D-2Fo         3/2-*                 74932.62 -   195140.90\\n    833.236       C II       E1         2D-2Fo         5/2-*                 74930.10 -   194944.10\\n    833.254       C II       E1         2D-2Fo         3/2-*                 74932.62 -   194944.10\\n    834.888       C II       E1         2D-2Fo         5/2-*                 74930.10 -   194706.60\\n    834.906       C II       E1         2D-2Fo         3/2-*                 74932.62 -   194706.60\\n    836.671       C II]      E1         4P-2Po         1/2-3/2               43003.30 -   162524.57\\n    836.718       C II]      E1         4P-2Po         1/2-1/2               43003.30 -   162517.89\\n    836.825       C II]      E1         4P-2Po         3/2-3/2               43025.30 -   162524.57\\n    836.872       C II]      E1         4P-2Po         3/2-1/2               43025.30 -   162517.89\\n    836.917       C II       E1         2D-2Fo         5/2-*                 74930.10 -   194416.30\\n    836.934       C II       E1         2D-2Fo         3/2-*                 74932.62 -   194416.30\\n    837.023       C II]      E1         4P-2Po         5/2-3/2               43053.60 -   162524.57\\n    839.445       C II       E1         2D-2Fo         5/2-*                 74930.10 -   194056.40\\n    839.463       C II       E1         2D-2Fo         3/2-*                 74932.62 -   194056.40\\n    842.655       C II       E1         2D-2Fo         5/2-*                 74930.10 -   193602.60\\n    842.673       C II       E1         2D-2Fo         3/2-*                 74932.62 -   193602.60\\n    846.818       C II       E1         2D-2Fo         5/2-*                 74930.10 -   193019.20\\n    846.836       C II       E1         2D-2Fo         3/2-*                 74932.62 -   193019.20\\n    852.357       C II       E1         2D-2Fo         5/2-*    4.41E-04     74930.10 -   192251.80\\n    852.376       C II       E1         2D-2Fo         3/2-*    4.41E-04     74932.62 -   192251.80\\n    858.0918      C II       E1        2Po-2S          1/2-1/2  1.30E-02         0.00 -   116537.65\\n    858.5590      C II       E1        2Po-2S          3/2-1/2  1.30E-02        63.42 -   116537.65\\n    859.964       C II       E1         2D-2Fo         5/2-*    5.82E-04     74930.10 -   191214.00\\n    859.983       C II       E1         2D-2Fo         3/2-*    5.82E-04     74932.62 -   191214.00\\n    870.837       C II       E1         2D-2Fo         5/2-*    7.91E-04     74930.10 -   189762.20\\n    870.856       C II       E1         2D-2Fo         3/2-*    7.91E-04     74932.62 -   189762.20\\n    887.221       C II       E1         2D-2Fo         5/2-*    1.11E-03     74930.10 -   187641.60\\n    887.241       C II       E1         2D-2Fo         3/2-*    1.11E-03     74932.62 -   187641.60\\n    894.325       C II       E1         2D-2Po         5/2-3/2  2.62E-05     74930.10 -   186746.30\\n    894.345       C II       E1         2D-2Po         3/2-3/2  4.37E-06     74932.62 -   186746.30\\n    894.348       C II       E1         2D-2Po         3/2-1/2  2.19E-05     74932.62 -   186745.90\\n    903.6235      C II       E1        2Po-2P          1/2-3/2  1.68E-01         0.00 -   110665.56\\n    903.9616      C II       E1        2Po-2P          1/2-1/2  3.36E-01         0.00 -   110624.17\\n    904.1416      C II       E1        2Po-2P          3/2-3/2  4.19E-01        63.42 -   110665.56\\n    904.4801      C II       E1        2Po-2P          3/2-1/2  8.39E-02        63.42 -   110624.17\\n    913.6929      C II       E1         2D-2Fo         5/2-*    1.63E-03     74930.10 -   184376.06\\n    913.7140      C II       E1         2D-2Fo         3/2-*    1.63E-03     74932.62 -   184376.06\\n    925.3813      C II       E1         2D-2Po         5/2-3/2  2.90E-05     74930.10 -   182993.66\\n    925.4029      C II       E1         2D-2Po         3/2-3/2  4.83E-06     74932.62 -   182993.66\\n    925.4066      C II       E1         2D-2Po         3/2-1/2  2.41E-05     74932.62 -   182993.23\\n    930.549       C II]      E1         4P-2Do         1/2-3/2               43003.30 -   150466.69\\n    930.740       C II]      E1         4P-2Do         3/2-3/2               43025.30 -   150466.69\\n    930.784       C II]      E1         4P-2Do         3/2-5/2               43025.30 -   150461.58\\n    930.985       C II]      E1         4P-2Do         5/2-3/2               43053.60 -   150466.69\\n    931.030       C II]      E1         4P-2Do         5/2-5/2               43053.60 -   150461.58\\n    961.2996      C II       E1         2D-2Fo         5/2-*    2.47E-03     74930.10 -   178955.94\\n    961.3229      C II       E1         2D-2Fo         3/2-*    2.47E-03     74932.62 -   178955.94\\n    972.1627      C II       E1         2D-2Po         5/2-3/2  3.29E-03     74930.10 -   177793.54\\n    972.1865      C II       E1         2D-2Po         3/2-3/2  5.49E-04     74932.62 -   177793.54\\n    972.3657      C II       E1         2D-2Po         3/2-1/2  2.74E-03     74932.62 -   177774.59\\n    996.3667      C II       E1         2D-2Po         5/2-3/2  7.77E-03     74930.10 -   175294.75\\n    996.3918      C II       E1         2D-2Po         3/2-3/2  1.29E-03     74932.62 -   175294.75\\n    996.4648      C II       E1         2D-2Po         3/2-1/2  6.47E-03     74932.62 -   175287.39\\n   1009.858       C II       E1         4P-4So         1/2-3/2  1.75E-01     43003.30 -   142027.10\\n   1010.083       C II       E1         4P-4So         3/2-3/2  1.75E-01     43025.30 -   142027.10\\n   1010.371       C II       E1         4P-4So         5/2-3/2  1.75E-01     43053.60 -   142027.10\\n   1036.3367      C II       E1        2Po-2S          1/2-1/2  1.23E-01         0.00 -    96493.74\\n   1037.0182      C II       E1        2Po-2S          3/2-1/2  1.22E-01        63.42 -    96493.74\\n   1063.2793      C II       E1         2D-2Fo         5/2-7/2  3.53E-03     74930.10 -   168978.77\\n   1063.2841      C II       E1         2D-2Fo         5/2-5/2  1.77E-04     74930.10 -   168978.34\\n   1063.3126      C II       E1         2D-2Fo         3/2-5/2  3.71E-03     74932.62 -   168978.34\\n   1065.8913      C II       E1         2D-2Po         5/2-3/2  1.68E-01     74930.10 -   168748.30\\n   1065.9199      C II       E1         2D-2Po         3/2-3/2  2.79E-02     74932.62 -   168748.30\\n   1066.1332      C II       E1         2D-2Po         3/2-1/2  1.40E-01     74932.62 -   168729.53\\n   1085.7102      C II]      E1         2D-4Po         5/2-5/2               74930.10 -   167035.71\\n   1085.7399      C II]      E1         2D-4Po         3/2-5/2               74932.62 -   167035.71\\n   1086.2407      C II]      E1         2D-4Po         5/2-3/2               74930.10 -   166990.73\\n   1086.2704      C II]      E1         2D-4Po         3/2-3/2               74932.62 -   166990.73\\n   1086.5489      C II]      E1         2D-4Po         3/2-1/2               74932.62 -   166967.13\\n   1108.002       C II       E1         2S-2Po         1/2-3/2  3.79E-04     96493.74 -   186746.30\\n   1108.007       C II       E1         2S-2Po         1/2-1/2  1.89E-04     96493.74 -   186745.90\\n   1126.986       C II]      E1         4P-2Po         1/2-3/2               43003.30 -   131735.52\\n   1127.128       C II]      E1         4P-2Po         1/2-1/2               43003.30 -   131724.37\\n   1127.266       C II]      E1         4P-2Po         3/2-3/2               43025.30 -   131735.52\\n   1127.408       C II]      E1         4P-2Po         3/2-1/2               43025.30 -   131724.37\\n   1127.626       C II]      E1         4P-2Po         5/2-3/2               43053.60 -   131735.52\\n   1141.6246      C II       E1         2D-2Po         5/2-3/2  1.87E-02     74930.10 -   162524.57\\n   1141.6574      C II       E1         2D-2Po         3/2-3/2  3.12E-03     74932.62 -   162524.57\\n   1141.7445      C II       E1         2D-2Po         3/2-1/2  1.56E-02     74932.62 -   162517.89\\n   1156.0704      C II       E1         2S-2Po         1/2-3/2  3.03E-03     96493.74 -   182993.66\\n   1156.0762      C II       E1         2S-2Po         1/2-1/2  1.52E-03     96493.74 -   182993.23\\n   1163.6128      C II]      E1         2P-4Do         1/2-3/2              110624.17 -   196563.41\\n   1163.6878      C II]      E1         2P-4Do         1/2-1/2              110624.17 -   196557.87\\n   1164.0595      C II]      E1         2P-4Do         3/2-5/2              110665.56 -   196571.82\\n   1164.1735      C II]      E1         2P-4Do         3/2-3/2              110665.56 -   196563.41\\n   1164.2486      C II]      E1         2P-4Do         3/2-1/2              110665.56 -   196557.87\\n   1230.0153      C II       E1         2S-2Po         1/2-3/2  8.18E-02     96493.74 -   177793.54\\n   1230.3021      C II       E1         2S-2Po         1/2-1/2  4.09E-02     96493.74 -   177774.59\\n   1269.0193      C II       E1         2S-2Po         1/2-3/2  1.84E-02     96493.74 -   175294.75\\n   1269.1378      C II       E1         2S-2Po         1/2-1/2  9.19E-03     96493.74 -   175287.39\\n   1313.678       C II       E1         2P-2Po         1/2-3/2  1.25E-05    110624.17 -   186746.30\\n   1313.685       C II       E1         2P-2Po         1/2-1/2  2.50E-05    110624.17 -   186745.90\\n   1314.393       C II       E1         2P-2Po         3/2-3/2  3.12E-05    110665.56 -   186746.30\\n   1314.400       C II       E1         2P-2Po         3/2-1/2  6.24E-06    110665.56 -   186745.90\\n   1323.8617      C II       E1         2D-2Do         5/2-3/2  8.45E-03     74930.10 -   150466.69\\n   1323.9059      C II       E1         2D-2Do         3/2-3/2  1.14E-01     74932.62 -   150466.69\\n   1323.9513      C II       E1         2D-2Do         5/2-5/2  1.18E-01     74930.10 -   150461.58\\n   1323.9955      C II       E1         2D-2Do         3/2-5/2  1.27E-02     74932.62 -   150461.58\\n   1334.5323      C II       E1        2Po-2D          1/2-3/2  1.27E-01         0.00 -    74932.62\\n   1335.6627      C II       E1        2Po-2D          3/2-3/2  1.27E-02        63.42 -    74932.62\\n   1335.7077      C II       E1        2Po-2D          3/2-5/2  1.14E-01        63.42 -    74930.10\\n   1381.7978      C II       E1         2P-2Po         1/2-3/2  1.01E-06    110624.17 -   182993.66\\n   1381.8060      C II       E1         2P-2Po         1/2-1/2  2.02E-06    110624.17 -   182993.23\\n   1382.5885      C II       E1         2P-2Po         3/2-3/2  2.52E-06    110665.56 -   182993.66\\n   1382.5967      C II       E1         2P-2Po         3/2-1/2  5.05E-07    110665.56 -   182993.23\\n   1383.9957      C II       E1         2S-2Po         1/2-3/2  6.23E-04     96493.74 -   168748.30\\n   1384.3553      C II       E1         2S-2Po         1/2-1/2  3.12E-04     96493.74 -   168729.53\\n   1418.5003      C II]      E1         2S-4Po         1/2-3/2               96493.74 -   166990.73\\n   1418.9753      C II]      E1         2S-4Po         1/2-1/2               96493.74 -   166967.13\\n   1424.326       C II       E1         2S-2Po         1/2-3/2  3.93E-03    116537.65 -   186746.30\\n   1424.334       C II       E1         2S-2Po         1/2-1/2  1.96E-03    116537.65 -   186745.90\\n   1488.7738      C II       E1         2P-2Po         1/2-3/2  4.14E-03    110624.17 -   177793.54\\n   1489.1940      C II       E1         2P-2Po         1/2-1/2  8.29E-03    110624.17 -   177774.59\\n   1489.6918      C II       E1         2P-2Po         3/2-3/2  1.04E-02    110665.56 -   177793.54\\n   1490.1124      C II       E1         2P-2Po         3/2-1/2  2.07E-03    110665.56 -   177774.59\\n   1504.7548      C II       E1         2S-2Po         1/2-3/2  5.78E-03    116537.65 -   182993.66\\n   1504.7645      C II       E1         2S-2Po         1/2-1/2  2.89E-03    116537.65 -   182993.23\\n   1514.4441      C II       E1         2S-2Po         1/2-3/2  3.34E-04     96493.74 -   162524.57\\n   1514.5973      C II       E1         2S-2Po         1/2-1/2  1.67E-04     96493.74 -   162517.89\\n   1546.2982      C II       E1         2P-2Po         1/2-3/2  6.41E-03    110624.17 -   175294.75\\n   1546.4742      C II       E1         2P-2Po         1/2-1/2  1.28E-02    110624.17 -   175287.39\\n   1547.2885      C II       E1         2P-2Po         3/2-3/2  1.60E-02    110665.56 -   175294.75\\n   1547.4647      C II       E1         2P-2Po         3/2-1/2  3.20E-03    110665.56 -   175287.39\\n   1632.4961      C II       E1         2S-2Po         1/2-3/2  3.38E-04    116537.65 -   177793.54\\n   1633.0013      C II       E1         2S-2Po         1/2-1/2  1.69E-04    116537.65 -   177774.59\\n   1701.9220      C II       E1         2S-2Po         1/2-3/2  8.53E-03    116537.65 -   175294.75\\n   1702.1352      C II       E1         2S-2Po         1/2-1/2  4.26E-03    116537.65 -   175287.39\\n   1720.4559      C II       E1         2P-2Po         1/2-3/2  4.90E-02    110624.17 -   168748.30\\n   1721.0116      C II       E1         2P-2Po         1/2-1/2  9.79E-02    110624.17 -   168729.53\\n   1721.6819      C II       E1         2P-2Po         3/2-3/2  1.22E-01    110665.56 -   168748.30\\n   1722.2384      C II       E1         2P-2Po         3/2-1/2  2.45E-02    110665.56 -   168729.53\\n   1758.1011      C II       E1        2Po-2D          3/2-5/2  2.73E-02    131735.52 -   188615.07\\n   1758.8021      C II       E1        2Po-2D          1/2-3/2  3.04E-02    131724.37 -   188581.25\\n   1759.1471      C II       E1        2Po-2D          3/2-3/2  3.04E-03    131735.52 -   188581.25\\n   1760.3954      C II       E1         2D-2Po         5/2-3/2  1.20E-02     74930.10 -   131735.52\\n   1760.4735      C II       E1         2D-2Po         3/2-3/2  2.00E-03     74932.62 -   131735.52\\n   1760.8191      C II       E1         2D-2Po         3/2-1/2  9.99E-03     74932.62 -   131724.37\\n   1773.9885      C II]      E1         2P-4Po         3/2-5/2              110665.56 -   167035.71\\n   1774.1015      C II]      E1         2P-4Po         1/2-3/2              110624.17 -   166990.73\\n   1774.8446      C II]      E1         2P-4Po         1/2-1/2              110624.17 -   166967.13\\n   1775.4052      C II]      E1         2P-4Po         3/2-3/2              110665.56 -   166990.73\\n   1776.1494      C II]      E1         2P-4Po         3/2-1/2              110665.56 -   166967.13\\n   1797.635       C II       E1        2Po-2D          1/2-*    2.57E-02    131724.37 -   187353.00\\n   1797.996       C II       E1        2Po-2D          3/2-*    2.57E-02    131735.52 -   187353.00\\n   1827.1348      C II]      E1        2Po-4P          3/2-5/2              131735.52 -   186466.02\\n   1827.5081      C II]      E1        2Po-4P          1/2-3/2              131724.37 -   186443.69\\n   1827.8806      C II]      E1        2Po-4P          3/2-3/2              131735.52 -   186443.69\\n   1828.0540      C II]      E1        2Po-4P          1/2-1/2              131724.37 -   186427.35\\n   1828.4267      C II]      E1        2Po-4P          3/2-1/2              131735.52 -   186427.35\\n   1851.558       C II       E1        2Po-2S          1/2-1/2  3.88E-03    131724.37 -   185732.93\\n   1851.941       C II       E1        2Po-2S          3/2-1/2  3.88E-03    131735.52 -   185732.93\\n   1887.982       C II]      E1        2Po-4S          1/2-3/2              131724.37 -   184690.98\\n   1888.379       C II]      E1        2Po-4S          3/2-3/2              131735.52 -   184690.98\\n   1910.212       C II       E1        2Po-2D          1/2-3/2  3.06E-02    131724.37 -   184074.59\\n   1910.593       C II       E1        2Po-2D          3/2-5/2  2.75E-02    131735.52 -   184075.28\\n   1910.619       C II       E1        2Po-2D          3/2-3/2  3.06E-03    131735.52 -   184074.59\\n   1915.318       C II       E1         2S-2Po         1/2-3/2  4.27E-03    116537.65 -   168748.30\\n   1916.007       C II       E1         2S-2Po         1/2-1/2  2.13E-03    116537.65 -   168729.53\\n   1926.767       C II       E1         2P-2Po         1/2-3/2  2.15E-03    110624.17 -   162524.57\\n   1927.015       C II       E1         2P-2Po         1/2-1/2  4.31E-03    110624.17 -   162517.89\\n   1928.305       C II       E1         2P-2Po         3/2-3/2  5.38E-03    110665.56 -   162524.57\\n   1928.554       C II       E1         2P-2Po         3/2-1/2  1.08E-03    110665.56 -   162517.89\\n   1959.583       C II]      E1         2D-4Do         5/2-7/2              145550.70 -   196581.96\\n   1959.918       C II]      E1         2D-4Do         3/2-5/2              145549.27 -   196571.82\\n   1959.973       C II]      E1         2D-4Do         5/2-5/2              145550.70 -   196571.82\\n   1960.241       C II]      E1         2D-4Do         3/2-3/2              145549.27 -   196563.41\\n   1960.296       C II]      E1         2D-4Do         5/2-3/2              145550.70 -   196563.41\\n   1960.454       C II]      E1         2D-4Do         3/2-1/2              145549.27 -   196557.87\\n   1982.040       C II]      E1         2S-4Po         1/2-3/2              116537.65 -   166990.73\\n   1982.967       C II]      E1         2S-4Po         1/2-1/2              116537.65 -   166967.13\\n   1987.319       C II       E1        2Po-2P          1/2-3/2  3.77E-03    131724.37 -   182043.41\\n   1987.760       C II       E1        2Po-2P          3/2-3/2  9.43E-03    131735.52 -   182043.41\\n   1988.092       C II       E1        2Po-2P          1/2-1/2  7.54E-03    131724.37 -   182023.86\\n   1988.533       C II       E1        2Po-2P          3/2-1/2  1.89E-03    131735.52 -   182023.86\\n   1990.642       C II]      E1         2D-4Fo         5/2-7/2              145550.70 -   195785.74\\n   1991.374       C II]      E1         2D-4Fo         3/2-5/2              145549.27 -   195765.85\\n   1991.431       C II]      E1         2D-4Fo         5/2-5/2              145550.70 -   195765.85\\n   1991.901       C II]      E1         2D-4Fo         3/2-3/2              145549.27 -   195752.58\\n   1991.957       C II]      E1         2D-4Fo         5/2-3/2              145550.70 -   195752.58\\n   1999.40        C II       E1         2D-2Fo         3/2-*                145549.27 -   195564.30\\n   1999.46        C II       E1         2D-2Fo         5/2-*                145550.70 -   195564.30\\n   1999.979       C II]      E1        2Po-4D          3/2-5/2              131735.52 -   181736.05\\n   2000.534       C II]      E1        2Po-4D          1/2-3/2              131724.37 -   181711.03\\n   2000.980       C II]      E1        2Po-4D          3/2-3/2              131735.52 -   181711.03\\n   2001.109       C II]      E1        2Po-4D          1/2-1/2              131724.37 -   181696.66\\n   2001.556       C II]      E1        2Po-4D          3/2-1/2              131735.52 -   181696.66\\n   2004.17        C II       E1         2D-2Fo         3/2-*                145549.27 -   195445.20\\n   2004.23        C II       E1         2D-2Fo         5/2-*                145550.70 -   195445.20\\n   2009.79        C II       E1         2D-2Fo         3/2-*                145549.27 -   195305.70\\n   2009.85        C II       E1         2D-2Fo         5/2-*                145550.70 -   195305.70\\n   2016.47        C II       E1         2D-2Fo         3/2-*                145549.27 -   195140.90\\n   2016.53        C II       E1         2D-2Fo         5/2-*                145550.70 -   195140.90\\n   2018.576       C II       E1        2Po-2S          1/2-1/2  8.06E-03    131724.37 -   181264.24\\n   2019.031       C II       E1        2Po-2S          3/2-1/2  8.06E-03    131735.52 -   181264.24\\n   2024.50        C II       E1         2D-2Fo         3/2-*                145549.27 -   194944.10\\n   2024.56        C II       E1         2D-2Fo         5/2-*                145550.70 -   194944.10\\n   2034.28        C II       E1         2D-2Fo         3/2-*                145549.27 -   194706.60\\n   2034.34        C II       E1         2D-2Fo         5/2-*                145550.70 -   194706.60\\n   2046.37        C II       E1         2D-2Fo         3/2-*                145549.27 -   194416.30\\n   2046.43        C II       E1         2D-2Fo         5/2-*                145550.70 -   194416.30\\n   2061.55        C II       E1         2D-2Fo         3/2-*                145549.27 -   194056.40\\n   2061.61        C II       E1         2D-2Fo         5/2-*                145550.70 -   194056.40\\n   2081.02        C II       E1         2D-2Fo         3/2-*                145549.27 -   193602.60\\n   2081.08        C II       E1         2D-2Fo         5/2-*                145550.70 -   193602.60\\n   2106.60        C II       E1         2D-2Fo         3/2-*                145549.27 -   193019.20\\n   2106.66        C II       E1         2D-2Fo         5/2-*                145550.70 -   193019.20\\n   2138.089       C II       E1        2Po-2D          1/2-3/2  5.10E-02    131724.37 -   178495.11\\n   2138.571       C II       E1        2Po-2D          3/2-5/2  4.59E-02    131735.52 -   178495.71\\n   2138.599       C II       E1        2Po-2D          3/2-3/2  5.10E-03    131735.52 -   178495.11\\n   2141.21        C II       E1         2D-2Fo         3/2-*    5.77E-03    145549.27 -   192251.80\\n   2141.28        C II       E1         2D-2Fo         5/2-*    5.77E-03    145550.70 -   192251.80\\n   2174.531       C II       E1         2S-2Po         1/2-3/2  3.27E-02    116537.65 -   162524.57\\n   2174.847       C II       E1         2S-2Po         1/2-1/2  1.63E-02    116537.65 -   162517.89\\n   2189.87        C II       E1         2D-2Fo         3/2-*    8.64E-03    145549.27 -   191214.00\\n   2189.94        C II       E1         2D-2Fo         5/2-*    8.64E-03    145550.70 -   191214.00\\n   2250.28        C II       E1        4So-4P          3/2-5/2  1.09E-06    142027.10 -   186466.02\\n   2251.41        C II       E1        4So-4P          3/2-3/2  7.29E-07    142027.10 -   186443.69\\n   2252.24        C II       E1        4So-4P          3/2-1/2  3.65E-07    142027.10 -   186427.35\\n   2261.78        C II       E1         2D-2Fo         3/2-*    1.39E-02    145549.27 -   189762.20\\n   2261.85        C II       E1         2D-2Fo         5/2-*    1.39E-02    145550.70 -   189762.20\\n   2324.21        C II]      E1        2Po-4P          1/2-3/2                   0.00 -    43025.30\\n   2325.40        C II]      E1        2Po-4P          1/2-1/2                   0.00 -    43003.30\\n   2326.11        C II]      E1        2Po-4P          3/2-5/2                  63.42 -    43053.60\\n   2327.64        C II]      E1        2Po-4P          3/2-3/2                  63.42 -    43025.30\\n   2328.84        C II]      E1        2Po-4P          3/2-1/2                  63.42 -    43003.30\\n   2375.73        C II       E1         2D-2Fo         3/2-*    2.48E-02    145549.27 -   187641.60\\n   2375.81        C II       E1         2D-2Fo         5/2-*    2.48E-02    145550.70 -   187641.60\\n   2402.491       C II       E1        2Po-2S          1/2-1/2  2.22E-02    131724.37 -   173347.84\\n   2403.134       C II       E1        2Po-2S          3/2-1/2  2.22E-02    131735.52 -   173347.84\\n   2427.36        C II       E1         2D-2Po         3/2-3/2  3.05E-04    145549.27 -   186746.30\\n   2427.38        C II       E1         2D-2Po         3/2-1/2  1.52E-03    145549.27 -   186745.90\\n   2427.44        C II       E1         2D-2Po         5/2-3/2  1.83E-03    145550.70 -   186746.30\\n   2498.98        C II]      E1        4So-2P          3/2-3/2              142027.10 -   182043.41\\n   2500.20        C II]      E1        4So-2P          3/2-1/2              142027.10 -   182023.86\\n   2509.881       C II       E1         2P-2Do         1/2-3/2  8.55E-02    110624.17 -   150466.69\\n   2512.491       C II       E1         2P-2Do         3/2-3/2  8.55E-03    110665.56 -   150466.69\\n   2512.814       C II       E1         2P-2Do         3/2-5/2  7.69E-02    110665.56 -   150461.58\\n   2575.541       C II       E1         2D-2Fo         3/2-*    5.27E-02    145549.27 -   184376.06\\n   2575.636       C II       E1         2D-2Fo         5/2-*    5.27E-02    145550.70 -   184376.06\\n   2620.992       C II       E1        2Do-2D          5/2-5/2  5.19E-03    150461.58 -   188615.07\\n   2621.343       C II       E1        2Do-2D          3/2-5/2  5.56E-04    150466.69 -   188615.07\\n   2623.318       C II       E1        2Do-2D          5/2-3/2  3.70E-04    150461.58 -   188581.25\\n   2623.669       C II       E1        2Do-2D          3/2-3/2  5.00E-03    150466.69 -   188581.25\\n   2670.627       C II       E1         2D-2Po         3/2-3/2  5.44E-04    145549.27 -   182993.66\\n   2670.658       C II       E1         2D-2Po         3/2-1/2  2.72E-03    145549.27 -   182993.23\\n   2670.729       C II       E1         2D-2Po         5/2-3/2  3.26E-03    145550.70 -   182993.66\\n   2710.66        C II       E1        2Do-2D          5/2-*    4.02E-04    150461.58 -   187353.00\\n   2711.03        C II       E1        2Do-2D          3/2-*    4.02E-04    150466.69 -   187353.00\\n   2747.300       C II       E1        2Po-2D          1/2-3/2  9.86E-02    131724.37 -   168123.74\\n   2748.088       C II       E1        2Po-2D          3/2-5/2  8.87E-02    131735.52 -   168124.45\\n   2748.142       C II       E1        2Po-2D          3/2-3/2  9.86E-03    131735.52 -   168123.74\\n   2777.435       C II]      E1        2Do-4P          5/2-5/2              150461.58 -   186466.02\\n   2777.829       C II]      E1        2Do-4P          3/2-5/2              150466.69 -   186466.02\\n   2779.159       C II]      E1        2Do-4P          5/2-3/2              150461.58 -   186443.69\\n   2779.554       C II]      E1        2Do-4P          3/2-3/2              150466.69 -   186443.69\\n   2780.817       C II]      E1        2Do-4P          3/2-1/2              150466.69 -   186427.35\\n   2837.541       C II       E1         2S-2Po         1/2-3/2  9.58E-02     96493.74 -   131735.52\\n   2838.439       C II       E1         2S-2Po         1/2-1/2  4.79E-02     96493.74 -   131724.37\\n   2974.977       C II       E1        2Do-2D          5/2-5/2  5.13E-05    150461.58 -   184075.28\\n   2975.039       C II       E1        2Do-2D          5/2-3/2  3.66E-06    150461.58 -   184074.59\\n   2975.430       C II       E1        2Do-2D          3/2-5/2  5.49E-06    150466.69 -   184075.28\\n   2975.491       C II       E1        2Do-2D          3/2-3/2  4.94E-05    150466.69 -   184074.59\\n   2993.414       C II       E1         2D-2Fo         3/2-*    1.52E-01    145549.27 -   178955.94\\n   2993.542       C II       E1         2D-2Fo         5/2-*    1.52E-01    145550.70 -   178955.94\\n   3101.326       C II       E1         2D-2Po         3/2-3/2  1.08E-07    145549.27 -   177793.54\\n   3101.464       C II       E1         2D-2Po         5/2-3/2  6.45E-07    145550.70 -   177793.54\\n   3103.150       C II       E1         2D-2Po         3/2-1/2  5.37E-07    145549.27 -   177774.59\\n   3166.378       C II       E1        2Do-2P          5/2-3/2  2.15E-02    150461.58 -   182043.41\\n   3166.890       C II       E1        2Do-2P          3/2-3/2  3.58E-03    150466.69 -   182043.41\\n   3168.852       C II       E1        2Do-2P          3/2-1/2  1.79E-02    150466.69 -   182023.86\\n   3184.42        C II]      E1         2P-4So         1/2-3/2              110624.17 -   142027.10\\n   3188.62        C II]      E1         2P-4So         3/2-3/2              110665.56 -   142027.10\\n   3193.783       C II]      E1        2Do-4D          5/2-7/2              150461.58 -   181772.41\\n   3197.496       C II]      E1        2Do-4D          5/2-5/2              150461.58 -   181736.05\\n   3198.019       C II]      E1        2Do-4D          3/2-5/2              150466.69 -   181736.05\\n   3200.056       C II]      E1        2Do-4D          5/2-3/2              150461.58 -   181711.03\\n   3200.580       C II]      E1        2Do-4D          3/2-3/2              150466.69 -   181711.03\\n   3202.052       C II]      E1        2Do-4D          3/2-1/2              150466.69 -   181696.66\\n   3361.855       C II       E1         2D-2Po         3/2-3/2  1.93E-03    145549.27 -   175294.75\\n   3362.017       C II       E1         2D-2Po         5/2-3/2  1.16E-02    145550.70 -   175294.75\\n   3362.687       C II       E1         2D-2Po         3/2-1/2  9.63E-03    145549.27 -   175287.39\\n   3388.43        C II       E1         2S-2Po         1/2-3/2  2.31E-03    157234.07 -   186746.30\\n   3388.47        C II       E1         2S-2Po         1/2-1/2  1.15E-03    157234.07 -   186745.90\\n   3514.011       C II]      E1         2D-4Do         5/2-7/2              168124.45 -   196581.96\\n   3515.176       C II]      E1         2D-4Do         3/2-5/2              168123.74 -   196571.82\\n   3515.263       C II]      E1         2D-4Do         5/2-5/2              168124.45 -   196571.82\\n   3516.215       C II]      E1         2D-4Do         3/2-3/2              168123.74 -   196563.41\\n   3516.303       C II]      E1         2D-4Do         5/2-3/2              168124.45 -   196563.41\\n   3516.900       C II]      E1         2D-4Do         3/2-1/2              168123.74 -   196557.87\\n   3567.081       C II       E1        2Do-2D          5/2-5/2  8.36E-06    150461.58 -   178495.71\\n   3567.157       C II       E1        2Do-2D          5/2-3/2  5.97E-07    150461.58 -   178495.11\\n   3567.731       C II       E1        2Do-2D          3/2-5/2  8.96E-07    150466.69 -   178495.71\\n   3567.807       C II       E1        2Do-2D          3/2-3/2  8.06E-06    150466.69 -   178495.11\\n   3615.160       C II]      E1         2D-4Fo         5/2-7/2              168124.45 -   195785.74\\n   3617.669       C II]      E1         2D-4Fo         3/2-5/2              168123.74 -   195765.85\\n   3617.762       C II]      E1         2D-4Fo         5/2-5/2              168124.45 -   195765.85\\n   3619.406       C II]      E1         2D-4Fo         3/2-3/2              168123.74 -   195752.58\\n   3619.499       C II]      E1         2D-4Fo         5/2-3/2              168124.45 -   195752.58\\n   3644.24        C II       E1         2D-2Fo         3/2-*                168123.74 -   195564.30\\n   3644.33        C II       E1         2D-2Fo         5/2-*                168124.45 -   195564.30\\n   3660.13        C II       E1         2D-2Fo         3/2-*                168123.74 -   195445.20\\n   3660.22        C II       E1         2D-2Fo         5/2-*                168124.45 -   195445.20\\n   3678.91        C II       E1         2D-2Fo         3/2-*                168123.74 -   195305.70\\n   3679.01        C II       E1         2D-2Fo         5/2-*                168124.45 -   195305.70\\n   3701.35        C II       E1         2D-2Fo         3/2-*                168123.74 -   195140.90\\n   3701.45        C II       E1         2D-2Fo         5/2-*                168124.45 -   195140.90\\n   3728.51        C II       E1         2D-2Fo         3/2-*                168123.74 -   194944.10\\n   3728.61        C II       E1         2D-2Fo         5/2-*                168124.45 -   194944.10\\n   3761.06        C II       E1        2Fo-2G          5/2-*                168978.34 -   195566.60\\n   3761.12        C II       E1        2Fo-2G          7/2-*                168978.77 -   195566.60\\n   3761.82        C II       E1         2D-2Fo         3/2-*                168123.74 -   194706.60\\n   3761.92        C II       E1         2D-2Fo         5/2-*                168124.45 -   194706.60\\n   3777.91        C II       E1        2Fo-2G          5/2-*                168978.34 -   195448.00\\n   3777.97        C II       E1        2Fo-2G          7/2-*                168978.77 -   195448.00\\n   3797.85        C II       E1        2Fo-2G          5/2-*                168978.34 -   195309.00\\n   3797.92        C II       E1        2Fo-2G          7/2-*                168978.77 -   195309.00\\n   3803.36        C II       E1         2D-2Fo         3/2-*                168123.74 -   194416.30\\n   3803.46        C II       E1         2D-2Fo         5/2-*                168124.45 -   194416.30\\n   3821.70        C II       E1        2Fo-2G          5/2-*                168978.34 -   195144.70\\n   3821.76        C II       E1        2Fo-2G          7/2-*                168978.77 -   195144.70\\n   3832.813       C II       E1        2Po-2D          3/2-5/2  6.74E-02    162524.57 -   188615.07\\n   3836.804       C II       E1        2Po-2D          1/2-3/2  7.48E-02    162517.89 -   188581.25\\n   3837.787       C II       E1        2Po-2D          3/2-3/2  7.47E-03    162524.57 -   188581.25\\n   3850.54        C II       E1        2Fo-2G          5/2-*                168978.34 -   194948.70\\n   3850.61        C II       E1        2Fo-2G          7/2-*                168978.77 -   194948.70\\n   3856.14        C II       E1         2D-2Fo         3/2-*                168123.74 -   194056.40\\n   3856.25        C II       E1         2D-2Fo         5/2-*                168124.45 -   194056.40\\n   3882.049       C II       E1         2S-2Po         1/2-3/2  1.80E-03    157234.07 -   182993.66\\n   3882.114       C II       E1         2S-2Po         1/2-1/2  9.01E-04    157234.07 -   182993.23\\n   3885.93        C II       E1        2Fo-2G          5/2-*                168978.34 -   194712.20\\n   3886.00        C II       E1        2Fo-2G          7/2-*                168978.77 -   194712.20\\n   3920.077       C II       E1        2Po-2S          1/2-1/2  1.46E-01    131724.37 -   157234.07\\n   3921.792       C II       E1        2Po-2S          3/2-1/2  1.46E-01    131735.52 -   157234.07\\n   3924.82        C II       E1         2D-2Fo         3/2-*                168123.74 -   193602.60\\n   3924.93        C II       E1         2D-2Fo         5/2-*                168124.45 -   193602.60\\n   3930.08        C II       E1        2Fo-2G          5/2-*                168978.34 -   194423.10\\n   3930.15        C II       E1        2Fo-2G          7/2-*                168978.77 -   194423.10\\n   3986.20        C II       E1        2Fo-2G          5/2-*                168978.34 -   194064.90\\n   3986.27        C II       E1        2Fo-2G          7/2-*                168978.77 -   194064.90\\n   4016.80        C II       E1         2D-2Fo         3/2-*                168123.74 -   193019.20\\n   4016.91        C II       E1         2D-2Fo         5/2-*                168124.45 -   193019.20\\n   4026.56        C II       E1        2Po-2D          1/2-*    3.23E-02    162517.89 -   187353.00\\n   4027.64        C II       E1        2Po-2D          3/2-*    3.22E-02    162524.57 -   187353.00\\n   4059.27        C II       E1        2Fo-2G          5/2-*                168978.34 -   193613.30\\n   4059.34        C II       E1        2Fo-2G          7/2-*                168978.77 -   193613.30\\n   4144.55        C II       E1         2D-2Fo         3/2-*    1.45E-02    168123.74 -   192251.80\\n   4144.67        C II       E1         2D-2Fo         5/2-*    1.44E-02    168124.45 -   192251.80\\n   4157.22        C II       E1        2Fo-2G          5/2-*                168978.34 -   193032.90\\n   4157.29        C II       E1        2Fo-2G          7/2-*                168978.77 -   193032.90\\n   4176.856       C II]      E1        2Po-4P          3/2-5/2              162524.57 -   186466.02\\n   4179.589       C II]      E1        2Po-4P          1/2-3/2              162517.89 -   186443.69\\n   4180.756       C II]      E1        2Po-4P          3/2-3/2              162524.57 -   186443.69\\n   4182.445       C II]      E1        2Po-4P          1/2-1/2              162517.89 -   186427.35\\n   4183.614       C II]      E1        2Po-4P          3/2-1/2              162524.57 -   186427.35\\n   4268.202       C II       E1         2D-2Fo         3/2-5/2  9.12E-01    145549.27 -   168978.34\\n   4268.384       C II       E1         2D-2Fo         5/2-7/2  8.68E-01    145550.70 -   168978.77\\n   4268.462       C II       E1         2D-2Fo         5/2-5/2  4.34E-02    145550.70 -   168978.34\\n   4293.42        C II       E1        2Fo-2G          5/2-*    9.37E-03    168978.34 -   192269.80\\n   4293.50        C II       E1        2Fo-2G          7/2-*    9.37E-03    168978.77 -   192269.80\\n   4307.552       C II       E1        2Po-2S          1/2-1/2  1.03E-02    162517.89 -   185732.93\\n   4308.792       C II       E1        2Po-2S          3/2-1/2  1.03E-02    162524.57 -   185732.93\\n   4310.525       C II       E1         2D-2Po         3/2-3/2  3.52E-05    145549.27 -   168748.30\\n   4310.791       C II       E1         2D-2Po         5/2-3/2  2.11E-04    145550.70 -   168748.30\\n   4314.015       C II       E1         2D-2Po         3/2-1/2  1.76E-04    145549.27 -   168729.53\\n   4330.83        C II       E1         2D-2Fo         3/2-*    2.22E-02    168123.74 -   191214.00\\n   4330.96        C II       E1         2D-2Fo         5/2-*    2.22E-02    168124.45 -   191214.00\\n   4492.39        C II       E1        2Fo-2G          5/2-*    1.52E-02    168978.34 -   191238.20\\n   4492.48        C II       E1        2Fo-2G          7/2-*    1.52E-02    168978.77 -   191238.20\\n   4509.971       C II]      E1        2Po-4S          1/2-3/2              162517.89 -   184690.98\\n   4511.330       C II]      E1        2Po-4S          3/2-3/2              162524.57 -   184690.98\\n   4621.40        C II       E1         2D-2Fo         3/2-*    3.73E-02    168123.74 -   189762.20\\n   4621.55        C II       E1         2D-2Fo         5/2-*    3.73E-02    168124.45 -   189762.20\\n   4624.419       C II]      E1        4Po-2D          3/2-5/2              166990.73 -   188615.07\\n   4626.605       C II]      E1        4Po-2D          1/2-3/2              166967.13 -   188581.25\\n   4631.662       C II]      E1        4Po-2D          3/2-3/2              166990.73 -   188581.25\\n   4634.058       C II]      E1        4Po-2D          5/2-5/2              167035.71 -   188615.07\\n   4638.929       C II       E1        2Po-2D          1/2-3/2  2.95E-02    162517.89 -   184074.59\\n   4640.218       C II       E1        2Po-2D          3/2-5/2  2.65E-02    162524.57 -   184075.28\\n   4640.367       C II       E1        2Po-2D          3/2-3/2  2.94E-03    162524.57 -   184074.59\\n   4641.332       C II]      E1        4Po-2D          5/2-3/2              167035.71 -   188581.25\\n   4654.098       C II]      E1         2D-4Po         3/2-5/2              145549.27 -   167035.71\\n   4654.408       C II]      E1         2D-4Po         5/2-5/2              145550.70 -   167035.71\\n   4663.862       C II]      E1         2D-4Po         3/2-3/2              145549.27 -   166990.73\\n   4664.173       C II]      E1         2D-4Po         5/2-3/2              145550.70 -   166990.73\\n   4669.001       C II]      E1         2D-4Po         3/2-1/2              145549.27 -   166967.13\\n   4736.789       C II       E1         2P-2Po         1/2-3/2  7.76E-05    110624.17 -   131735.52\\n   4739.292       C II       E1         2P-2Po         1/2-1/2  1.55E-04    110624.17 -   131724.37\\n   4746.093       C II       E1         2P-2Po         3/2-3/2  1.94E-04    110665.56 -   131735.52\\n   4748.606       C II       E1         2P-2Po         3/2-1/2  3.87E-05    110665.56 -   131724.37\\n   4804.03        C II       E1        2Fo-2G          5/2-*    2.76E-02    168978.34 -   189794.20\\n   4804.13        C II       E1        2Fo-2G          7/2-*    2.76E-02    168978.77 -   189794.20\\n   4863.939       C II       E1         2S-2Po         1/2-3/2  1.66E-02    157234.07 -   177793.54\\n   4868.426       C II       E1         2S-2Po         1/2-1/2  8.28E-03    157234.07 -   177774.59\\n   4905.36        C II]      E1        4Po-2D          1/2-*                166967.13 -   187353.00\\n   4911.04        C II]      E1        4Po-2D          3/2-*                166990.73 -   187353.00\\n   4921.92        C II]      E1        4Po-2D          5/2-*                167035.71 -   187353.00\\n   5033.531       C II       E1        2Po-2D          3/2-5/2  1.79E-01    168748.30 -   188615.07\\n   5037.347       C II       E1        2Po-2D          1/2-3/2  1.99E-01    168729.53 -   188581.25\\n   5042.114       C II       E1        2Po-2D          3/2-3/2  1.99E-02    168748.30 -   188581.25\\n   5092.498       C II       E1        2Fo-2D          5/2-5/2  3.14E-05    168978.34 -   188615.07\\n   5092.609       C II       E1        2Fo-2D          7/2-5/2  4.71E-04    168978.77 -   188615.07'"
      ]
     },
     "execution_count": 496,
     "metadata": {},
     "output_type": "execute_result"
    }
   ],
   "source": [
    "\n",
    "\n",
    "        indices = [i for i, c in enumerate(header) if c == '|']\n",
    "        result_data = []\n",
    "        for line in data:\n",
    "            row = []\n",
    "            for start, end in zip([0] + indices, indices + [None]):\n",
    "                # `value` will hold all cell values in the line, so\n",
    "                # `u'1.010799'`, `u'Zn XXX'` etc.\n",
    "                value = line[start:end].strip()\n",
    "                if value:\n",
    "                    row.append(value)\n",
    "                else:\n",
    "                    # maintain table dimensions when data missing\n",
    "                    row.append('None')\n",
    "            if row:\n",
    "                result_data.append('\\t'.join(row))\n",
    "        if result_data:\n",
    "            return ascii.read(result_data, data_start=0, delimiter='\\t',\n",
    "                              names=colnames, fast_reader=False)\n",
    "        else:\n",
    "            # return an empty table if the query yielded no results\n",
    "            return Table()"
   ]
  },
  {
   "cell_type": "code",
   "execution_count": 436,
   "id": "b99223f9-9fa7-4be0-9a75-c99103dcde0b",
   "metadata": {},
   "outputs": [
    {
     "ename": "ValueError",
     "evalue": "Data format not recognized.  The <pre> tag was missing from the response.",
     "output_type": "error",
     "traceback": [
      "\u001b[0;31m---------------------------------------------------------------------------\u001b[0m",
      "\u001b[0;31mValueError\u001b[0m                                Traceback (most recent call last)",
      "\u001b[0;32m<ipython-input-436-dcfe40e44a74>\u001b[0m in \u001b[0;36m<module>\u001b[0;34m()\u001b[0m\n\u001b[1;32m      1\u001b[0m \u001b[0mhtml_pre\u001b[0m \u001b[0;34m=\u001b[0m \u001b[0mBeautifulSoup\u001b[0m\u001b[0;34m(\u001b[0m\u001b[0mresponse\u001b[0m\u001b[0;34m.\u001b[0m\u001b[0mtext\u001b[0m\u001b[0;34m,\u001b[0m \u001b[0mfeatures\u001b[0m\u001b[0;34m=\u001b[0m\u001b[0;34m'html5lib'\u001b[0m\u001b[0;34m)\u001b[0m\u001b[0;34m.\u001b[0m\u001b[0mfind\u001b[0m\u001b[0;34m(\u001b[0m\u001b[0;34m'pre'\u001b[0m\u001b[0;34m)\u001b[0m\u001b[0;34m\u001b[0m\u001b[0m\n\u001b[1;32m      2\u001b[0m \u001b[0;32mif\u001b[0m \u001b[0mhtml_pre\u001b[0m \u001b[0;32mis\u001b[0m \u001b[0;32mNone\u001b[0m\u001b[0;34m:\u001b[0m\u001b[0;34m\u001b[0m\u001b[0m\n\u001b[0;32m----> 3\u001b[0;31m     \u001b[0;32mraise\u001b[0m \u001b[0mValueError\u001b[0m\u001b[0;34m(\u001b[0m\u001b[0;34m\"Data format not recognized.  The <pre> tag was missing from the response.\"\u001b[0m\u001b[0;34m)\u001b[0m\u001b[0;34m\u001b[0m\u001b[0m\n\u001b[0m\u001b[1;32m      4\u001b[0m \u001b[0;34m\u001b[0m\u001b[0m\n\u001b[1;32m      5\u001b[0m \u001b[0mdata\u001b[0m \u001b[0;34m=\u001b[0m \u001b[0mStringIO\u001b[0m\u001b[0;34m(\u001b[0m\u001b[0mhtml_pre\u001b[0m\u001b[0;34m.\u001b[0m\u001b[0mtext\u001b[0m\u001b[0;34m.\u001b[0m\u001b[0mstrip\u001b[0m\u001b[0;34m(\u001b[0m\u001b[0;34m)\u001b[0m\u001b[0;34m)\u001b[0m\u001b[0;34m\u001b[0m\u001b[0m\n",
      "\u001b[0;31mValueError\u001b[0m: Data format not recognized.  The <pre> tag was missing from the response."
     ]
    }
   ],
   "source": [
    "html_pre = BeautifulSoup(response.text, features='html5lib').find('pre')\n",
    "if html_pre is None:\n",
    "    raise ValueError(\"Data format not recognized.  The <pre> tag was missing from the response.\")\n",
    "\n",
    "data = StringIO(html_pre.text.strip())"
   ]
  },
  {
   "cell_type": "code",
   "execution_count": 415,
   "id": "ee162416-61dc-45ce-af87-a92ff5bfe95b",
   "metadata": {},
   "outputs": [],
   "source": [
    "html_pre"
   ]
  },
  {
   "cell_type": "code",
   "execution_count": 284,
   "id": "f846bbd5-df6d-40b5-ab9b-f2c299ed6017",
   "metadata": {},
   "outputs": [],
   "source": [
    "import h5py "
   ]
  },
  {
   "cell_type": "code",
   "execution_count": 281,
   "id": "de3a3be0-dc91-49a1-b48b-5d652d2a141c",
   "metadata": {},
   "outputs": [],
   "source": [
    "zqsr = 3\n",
    "l_min = 945\n",
    "l_max = 8000"
   ]
  },
  {
   "cell_type": "code",
   "execution_count": 387,
   "id": "be76bddd-5024-4a78-ad9d-27e213da9451",
   "metadata": {},
   "outputs": [],
   "source": [
    "atomfile = h5py.File(\"../../atom_dat.hdf5\",'r')"
   ]
  },
  {
   "cell_type": "code",
   "execution_count": 397,
   "id": "00cefa9c-8888-4848-90c6-ca75316dc696",
   "metadata": {},
   "outputs": [],
   "source": [
    "atomfile.close()"
   ]
  },
  {
   "cell_type": "code",
   "execution_count": 334,
   "id": "33e83062-6446-496c-9eac-5fd6a9d0ae60",
   "metadata": {},
   "outputs": [],
   "source": [
    "atomfile = h5py.File(\"../../atom_dat.hdf5\",'r')\n",
    "zqsr = 3\n",
    "l_min = 945\n",
    "l_max = 8000\n",
    "lambda0z = {}\n",
    "for element in atomfile.keys():\n",
    "    \n",
    "    for ion in atomfile[element].keys():\n",
    "        lambda0s = atomfile[element][ion]['lambda0'][...]\n",
    "        fvalues  = atomfile[element][ion]['f-value'][...]\n",
    "        for lambda0,fvalue in zip(lambda0s,fvalues):\n",
    "            lambda0z[lambda0] = {}\n",
    "            lambda0z[lambda0]['fvalue'] = fvalue\n",
    "            lambda0z[lambda0]['ion']    = ion\n",
    "            lambda0z[lambda0]['element'] = element"
   ]
  },
  {
   "cell_type": "code",
   "execution_count": 335,
   "id": "b0811daf-9450-4671-be4f-1cc11ffcda2f",
   "metadata": {},
   "outputs": [],
   "source": [
    "all_lambda0  = np.array(list(lambda0z.keys()))"
   ]
  },
  {
   "cell_type": "code",
   "execution_count": 336,
   "id": "e1f0a80e-360d-454a-86d0-a5c90349ebd7",
   "metadata": {
    "tags": []
   },
   "outputs": [
    {
     "data": {
      "text/plain": [
       "array([4227.918, 2276.169, 2399.289, ...,  491.46 ,  445.7  ,  417.66 ])"
      ]
     },
     "execution_count": 336,
     "metadata": {},
     "output_type": "execute_result"
    }
   ],
   "source": [
    "all_lambda0"
   ]
  },
  {
   "cell_type": "code",
   "execution_count": 337,
   "id": "cd57a9c5-6ec7-4afa-ad1e-15b328388fa2",
   "metadata": {},
   "outputs": [],
   "source": []
  },
  {
   "cell_type": "code",
   "execution_count": 338,
   "id": "b3ca2439-9c1c-4355-b26d-0b3bb0e72093",
   "metadata": {},
   "outputs": [],
   "source": [
    "contamintants = all_lambda0[mask]"
   ]
  },
  {
   "cell_type": "code",
   "execution_count": 340,
   "id": "364fe403-8d90-4ba7-82a9-e42c712a8445",
   "metadata": {},
   "outputs": [
    {
     "ename": "TypeError",
     "evalue": "unhashable type: 'dict'",
     "output_type": "error",
     "traceback": [
      "\u001b[0;31m---------------------------------------------------------------------------\u001b[0m",
      "\u001b[0;31mTypeError\u001b[0m                                 Traceback (most recent call last)",
      "\u001b[0;32m<ipython-input-340-49e023cc66a7>\u001b[0m in \u001b[0;36m<module>\u001b[0;34m\u001b[0m\n\u001b[0;32m----> 1\u001b[0;31m \u001b[0minv_map\u001b[0m \u001b[0;34m=\u001b[0m \u001b[0;34m{\u001b[0m\u001b[0mv\u001b[0m\u001b[0;34m:\u001b[0m \u001b[0mk\u001b[0m \u001b[0;32mfor\u001b[0m \u001b[0mk\u001b[0m\u001b[0;34m,\u001b[0m \u001b[0mv\u001b[0m \u001b[0;32min\u001b[0m \u001b[0mlambda0z\u001b[0m\u001b[0;34m.\u001b[0m\u001b[0mitems\u001b[0m\u001b[0;34m(\u001b[0m\u001b[0;34m)\u001b[0m\u001b[0;34m}\u001b[0m\u001b[0;34m\u001b[0m\u001b[0m\n\u001b[0m",
      "\u001b[0;32m<ipython-input-340-49e023cc66a7>\u001b[0m in \u001b[0;36m<dictcomp>\u001b[0;34m(.0)\u001b[0m\n\u001b[0;32m----> 1\u001b[0;31m \u001b[0minv_map\u001b[0m \u001b[0;34m=\u001b[0m \u001b[0;34m{\u001b[0m\u001b[0mv\u001b[0m\u001b[0;34m:\u001b[0m \u001b[0mk\u001b[0m \u001b[0;32mfor\u001b[0m \u001b[0mk\u001b[0m\u001b[0;34m,\u001b[0m \u001b[0mv\u001b[0m \u001b[0;32min\u001b[0m \u001b[0mlambda0z\u001b[0m\u001b[0;34m.\u001b[0m\u001b[0mitems\u001b[0m\u001b[0;34m(\u001b[0m\u001b[0;34m)\u001b[0m\u001b[0;34m}\u001b[0m\u001b[0;34m\u001b[0m\u001b[0m\n\u001b[0m",
      "\u001b[0;31mTypeError\u001b[0m: unhashable type: 'dict'"
     ]
    }
   ],
   "source": [
    "inv_map = {v: k for k, v in lambda0z.items()}"
   ]
  },
  {
   "cell_type": "code",
   "execution_count": 344,
   "id": "94f619a3-1968-470e-854a-5042b30bd3c5",
   "metadata": {},
   "outputs": [
    {
     "data": {
      "text/plain": [
       "array([357.9692, 403.7201, 296.957 , 409.953 , 273.6997, 301.7472,\n",
       "       304.3376, 262.51  , 274.466 , 304.9133, 256.38  , 262.63  ,\n",
       "       264.7   , 254.48  , 251.98  , 252.57  , 250.06  , 248.34  ,\n",
       "       250.24  , 439.692 , 309.5941, 265.49  , 252.11  , 254.71  ,\n",
       "       490.552 , 250.34  , 264.47  , 258.73  , 258.3   , 258.18  ,\n",
       "       655.998 , 669.696 , 466.24  , 646.534 , 651.531 , 656.745 ,\n",
       "       643.104 , 637.917 , 647.855 , 641.904 , 633.844 , 629.602 ,\n",
       "       624.385 , 639.15  , 630.535 , 630.785 , 640.414 , 640.672 ,\n",
       "       582.845 , 596.935 , 597.858 , 557.765 , 574.01  , 378.39  ,\n",
       "       432.    ])"
      ]
     },
     "execution_count": 344,
     "metadata": {},
     "output_type": "execute_result"
    }
   ],
   "source": [
    "mask1 = [lambda0z[cont]['ion']=='Ca I' for cont in contamintants]\n"
   ]
  },
  {
   "cell_type": "code",
   "execution_count": 349,
   "id": "b6c57949-ed3a-482c-9eae-23e599f2fb03",
   "metadata": {},
   "outputs": [
    {
     "name": "stdout",
     "output_type": "stream",
     "text": [
      "Warning! SightLength NOT found. Setting default value : 1\n"
     ]
    }
   ],
   "source": [
    "BI     = Build_Input()\n",
    "Wizard = BI.read_from_yml(\"Wizard.yml\")"
   ]
  },
  {
   "cell_type": "code",
   "execution_count": 351,
   "id": "52067a5d-d5d5-4448-a3c3-ffbda455a8c6",
   "metadata": {},
   "outputs": [
    {
     "data": {
      "text/plain": [
       "{'table_type': 'ploeckinger',\n",
       " 'iondir': '/cosma7/data/dp004/dc-aram1/pyspecwizard_main/sylviatables//',\n",
       " 'fname': 'UVB_dust1_CR1_G1_shield1.hdf5',\n",
       " 'ions-available': [],\n",
       " 'Ions': [('Hydrogen', 'H I'),\n",
       "  ('Helium', 'He II'),\n",
       "  ('Carbon', 'C III'),\n",
       "  ('Carbon', 'C IV'),\n",
       "  ('Oxygen', 'O II'),\n",
       "  ('Oxygen', 'O III')],\n",
       " 'SFR_properties': {'modify_particle': True,\n",
       "  'ignore_particle': False,\n",
       "  'Temperature [K]': 10000.0},\n",
       " 'atomfile': '../../atom_dat.hdf5',\n",
       " 'IonizationBalance': <SpecWizard_IonTables.IonTables at 0x7fb868f1f278>,\n",
       " 'transitionparams': {'H I': {'Mass': 1.008,\n",
       "   'lambda0': 1215.6701,\n",
       "   'f-value': 0.41641},\n",
       "  'He II': {'Mass': 4.002602,\n",
       "   'lambda0': 303.785814724,\n",
       "   'f-value': 0.416289999999},\n",
       "  'C III': {'Mass': 12.011, 'lambda0': 977.02, 'f-value': 0.7586},\n",
       "  'C IV': {'Mass': 12.011, 'lambda0': 1548.187, 'f-value': 0.19},\n",
       "  'O II': {'Mass': 15.999, 'lambda0': 834.4654, 'f-value': 0.135},\n",
       "  'O III': {'Mass': 15.999, 'lambda0': 599.59, 'f-value': 0.292}}}"
      ]
     },
     "execution_count": 351,
     "metadata": {},
     "output_type": "execute_result"
    }
   ],
   "source": [
    "Wizard['ionparams']"
   ]
  },
  {
   "cell_type": "code",
   "execution_count": 352,
   "id": "1e921b0b-89d4-43e6-b378-c16b5f76c461",
   "metadata": {},
   "outputs": [],
   "source": [
    "sylvtable = h5py.File('/cosma7/data/dp004/dc-aram1/pyspecwizard_main/sylviatables/UVB_dust1_CR1_G1_shield1.hdf5','r')"
   ]
  },
  {
   "cell_type": "code",
   "execution_count": 353,
   "id": "be3e87f9-1fa1-44cd-8cf7-d23e91ebfc76",
   "metadata": {},
   "outputs": [
    {
     "data": {
      "text/plain": [
       "<KeysViewHDF5 ['AbundanceHe', 'ElementMasses', 'ElementNames', 'ElementNamesShort', 'IdentifierCooling', 'IdentifierHeating', 'JMW', 'NumberOfBins', 'NumberOfIons', 'SolarMetallicity', 'TableBins', 'Tdep', 'ThermEq', 'TotalAbundances', 'TotalExactMetallicity', 'TotalMassFractions', 'Udep']>"
      ]
     },
     "execution_count": 353,
     "metadata": {},
     "output_type": "execute_result"
    }
   ],
   "source": [
    "sylvtable.keys()"
   ]
  },
  {
   "cell_type": "code",
   "execution_count": 364,
   "id": "6ef1adde-8e4e-4176-b5d7-67765ecb2563",
   "metadata": {},
   "outputs": [
    {
     "data": {
      "text/plain": [
       "<KeysViewHDF5 ['00hydrogen', '01helium', '02carbon', '03nitrogen', '04oxygen', '05neon', '06magnesium', '07silicon', '08sulphur', '09calcium', '10iron']>"
      ]
     },
     "execution_count": 364,
     "metadata": {},
     "output_type": "execute_result"
    }
   ],
   "source": [
    "sylvtable['Tdep']['IonFractions'].keys()"
   ]
  },
  {
   "cell_type": "code",
   "execution_count": 369,
   "id": "6607eb6a-0e56-4039-8cac-7105a361603d",
   "metadata": {},
   "outputs": [
    {
     "data": {
      "text/plain": [
       "<HDF5 dataset \"02carbon\": shape (46, 86, 11, 71, 7), type \"<f4\">"
      ]
     },
     "execution_count": 369,
     "metadata": {},
     "output_type": "execute_result"
    }
   ],
   "source": [
    "sylvtable['Tdep']['IonFractions']['02carbon']"
   ]
  },
  {
   "cell_type": "code",
   "execution_count": 371,
   "id": "ef550dc2-d6c6-446b-9fe9-c48926e3abe3",
   "metadata": {},
   "outputs": [
    {
     "data": {
      "text/plain": [
       "array([ 2,  3,  7,  8,  9, 11, 13, 15, 17, 21, 27], dtype=int8)"
      ]
     },
     "execution_count": 371,
     "metadata": {},
     "output_type": "execute_result"
    }
   ],
   "source": [
    "sylvtable['NumberOfIons'][...]"
   ]
  },
  {
   "cell_type": "code",
   "execution_count": null,
   "id": "d49a210b-841f-43ed-9563-6536a2f64216",
   "metadata": {},
   "outputs": [],
   "source": [
    "['I', 'II', 'III', 'IV', 'V', 'VI', 'VII', 'VIII', 'IX', \n",
    "                    'X', 'XI', 'XII', 'XIII', 'XIV', 'XV', 'XVI', 'XVII',\n",
    "                'XVIII', 'XIX', 'XX', 'XXI', 'XXII', 'XXIII', 'XXIV', 'XXV', 'XXVI']"
   ]
  },
  {
   "cell_type": "code",
   "execution_count": 1,
   "id": "984223dc-e843-43fc-9623-71d552e68c23",
   "metadata": {},
   "outputs": [],
   "source": [
    "import pyread_eagle as read_eagle"
   ]
  },
  {
   "cell_type": "code",
   "execution_count": 2,
   "id": "e935d33f-10c9-4ecf-bb6d-f5f5749fe19c",
   "metadata": {},
   "outputs": [],
   "source": [
    "fname = '/madfs/data/dc-syke1/Urchin/Runs/ScienceRuns/Planck1/L0050N1504/RECAL/data/snapshot_010_z003p984/Combine/urchin_snap_010_z003p984.0.hdf5'\n",
    "snap = read_eagle.EagleSnapshot(fname, verbose=False)"
   ]
  },
  {
   "cell_type": "code",
   "execution_count": 3,
   "id": "8be4fd20-049e-4e22-8534-20f923a8920e",
   "metadata": {},
   "outputs": [],
   "source": [
    "snap.select_region(15,17, 20, 23, 40, 50)"
   ]
  },
  {
   "cell_type": "code",
   "execution_count": null,
   "id": "86a6eae2-d7ff-4973-bf12-a395a3e47038",
   "metadata": {},
   "outputs": [],
   "source": [
    "data = snap.read_dataset(0, \"HydrogenOneFraction\")"
   ]
  },
  {
   "cell_type": "code",
   "execution_count": null,
   "id": "44babbbe-fd62-440e-8bb7-1b07fe94c288",
   "metadata": {},
   "outputs": [],
   "source": []
  }
 ],
 "metadata": {
  "kernelspec": {
   "display_name": "Python 3",
   "language": "python",
   "name": "python3"
  },
  "language_info": {
   "codemirror_mode": {
    "name": "ipython",
    "version": 3
   },
   "file_extension": ".py",
   "mimetype": "text/x-python",
   "name": "python",
   "nbconvert_exporter": "python",
   "pygments_lexer": "ipython3",
   "version": "3.6.5"
  }
 },
 "nbformat": 4,
 "nbformat_minor": 5
}
