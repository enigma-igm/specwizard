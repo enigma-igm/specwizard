{
 "cells": [
  {
   "cell_type": "markdown",
   "id": "recreational-position",
   "metadata": {},
   "source": [
    "# SpecWizard BuildInput. "
   ]
  },
  {
   "cell_type": "markdown",
   "id": "egyptian-associate",
   "metadata": {},
   "source": [
    "The following class. Creates the input for SpecWizard. The input consist in different stages that will check if the inputs are consistent with the available options. The different stages, are represented by different functions: \n",
    "- **FileType**: This will indicate SW what type of simulation are you using and what type of simulation data output are you providing.  \n",
    "\n",
    "- **SnapshotParams**: Will take as input the path where the simulation file is stored and the file name. Will check if the direcory exist and if the file provided is a valid ```hdf5``` file.\n",
    "\n",
    "- **Sightline**: This will build the required properties of the sightline i,e orientation, position, lenght.\n",
    "\n",
    "- **SetIonTableParams**: Will set the information related to the calculations of the ionization fractions and to what elements and ions will calculate the spectra. \n",
    "\n",
    "- **ExtraParams**: Parameters that are ment for advance users.  \n",
    "\n",
    "\n",
    "In the section of [Example](#Example) will show how to use the functions and their different options. "
   ]
  },
  {
   "cell_type": "markdown",
   "id": "million-norman",
   "metadata": {},
   "source": [
    "## Code"
   ]
  },
  {
   "cell_type": "markdown",
   "id": "heavy-determination",
   "metadata": {},
   "source": [
    "The following cell contains the class code. If you run it it will generate the library ```SpecWizard_BuildInput.py```"
   ]
  },
  {
   "cell_type": "code",
   "execution_count": 3,
   "id": "computational-klein",
   "metadata": {},
   "outputs": [],
   "source": [
    "ProjectionAxes   = (Projx,Projy,Projz) = ('simy','simz','simx')\n",
    "SimDict          = {'simx':0 , 'simy':1, 'simz':2}\n",
    "ProjectionStart  = (0.1 , 0.5, 0 )\n",
    "ProjectionLength = 1"
   ]
  },
  {
   "cell_type": "code",
   "execution_count": 4,
   "id": "effective-mining",
   "metadata": {},
   "outputs": [],
   "source": [
    "xpos,ypos,zpos = ProjectionStart\n"
   ]
  },
  {
   "cell_type": "code",
   "execution_count": 2,
   "id": "prospective-scheduling",
   "metadata": {},
   "outputs": [
    {
     "name": "stdout",
     "output_type": "stream",
     "text": [
      "Overwriting SpecWizard_BuildInput.py\n"
     ]
    }
   ],
   "source": [
    "%%writefile SpecWizard_BuildInput.py \n",
    "\n",
    "import os\n",
    "import h5py\n",
    "import sys\n",
    "import numpy as np\n",
    "from SpecWizard_Elements import Elements\n",
    "from SpecWizard_IonTables_test import IonTables\n",
    "\n",
    "\n",
    "class Build_Input:\n",
    "    '''\n",
    "    This class contains the relevant functions that assign and shape all the input that SpecWizard \n",
    "    need to work properly. This will be done by running the functions and making consistency checks. \n",
    "    If the checks are sucesesfull the inputparameter will be formated into the dictionary 'specparams'\n",
    "    this dictionary will be use in the rest of the program.\n",
    "    '''\n",
    "    \n",
    "    def __init__(self):\n",
    "    \n",
    "        self.sym_types  = ['eagle','swift','hydrangea','colibre','illustries']\n",
    "        self.snap_types = [\"snapshot\",\"los\"]\n",
    "        \n",
    "        self.specparams = {}\n",
    "        \n",
    "        ReadIonFrac = {'ReadIonFrac':True,\n",
    "                       'ReadHydrogen':True,\n",
    "                       'HI':\"NeutralHydrogenAbundance\",\n",
    "                       'ReadHelium':False,\n",
    "                       'He':\"\"}\n",
    "        \n",
    "        #we set extra parameters as default. This can be change by running the function self.extra_params().\n",
    "        self.specparams['file_type']              = {}\n",
    "        self.specparams['snapshot_params']        = {}\n",
    "        self.specparams['ionparams']              = {}\n",
    "        self.specparams['sightline']              = {}\n",
    "        self.specparams['ODParams']  = {'ThermalEffectsOff' : False,\n",
    "                                        'PecVelEffectsOff'  : False, \n",
    "                                        'Veloffset'         : 0,\n",
    "                                        'VoigtOff'          : False}\n",
    "        \n",
    "        self.specparams['extra_parameters']       = {   'periodic': True,\n",
    "                                                        'Kernel': \"Bspline\",\n",
    "                                                        'pixkms': 1,\n",
    "                                                        'Veloffset': 0,\n",
    "                                                        'ReadIonFrac':ReadIonFrac}\n",
    "\n",
    "\n",
    "    \n",
    "    def FileType(self, sim_type ='EAGLE', snap_type = 'LOS'):\n",
    "        '''\n",
    "        This function will check if the simulation type and/or the simulation file is supported. \\n If this is the case will format this values into specparams. The format is not case-sensitive.  \n",
    "        Input: sim_type: String, simulation type, supported options ['Eagle','Swift','Hydrangea'] \n",
    "               snap_type: String, type of output format full snapshots or line of sight  figths, valid options ['Snapshot','LOS']\n",
    "               \n",
    "       '''\n",
    "\n",
    "        snap = snap_type.lower()\n",
    "        sym = sim_type.lower()\n",
    "        sym_check = sym in self.sym_types\n",
    "        snap_check = snap in self.snap_types\n",
    "\n",
    "        if not sym_check:\n",
    "            sys.exit(\"Simulation not supported\")\n",
    "        if not snap_check:\n",
    "            sys.exit(\"snap_type must be a snapshot file or a line of sight (LOS) file.\") \n",
    "            \n",
    "        \n",
    "        self.specparams['file_type']['sim_type']  = sym \n",
    "        self.specparams['file_type']['snap_type'] = snap \n",
    "    \n",
    "#        return self.specparams \n",
    "    def SnapshotParams(self,path = '/cosma7/data/Eagle/ScienceRuns/Planck1/L0100N1504/PE/REFERENCE/data/los/', file = 'part_los_z3.275.hdf5'):\n",
    "        \n",
    "        '''\n",
    "        Will check if the path and file are valid. If so will be formated into the specparams.\n",
    "        Inputs:\n",
    "        path: String, /path/to/simulation/files\n",
    "        file: String, simulationfile.hdf5\n",
    "        '''\n",
    "        \n",
    "        self.check_for_directory(path)\n",
    "        \n",
    "        self.check_hdf5(path+\"/\"+file)\n",
    "        \n",
    "        self.specparams['snapshot_params']['directory'] = path \n",
    "        self.specparams['snapshot_params']['file']      = file \n",
    "        \n",
    "    ProjectionAxes   = (Projx,Projy,Projz) = ('simy','simz','simx')\n",
    "    ProjectionStart  = (0.1 , 0.5, 0 )\n",
    "    ProjectionLength = 1\n",
    "    def Sightline(self,nsight  = None, ProjectionAxes = None ,ProjectionStart = None, ProjectionLength=None,SightLength=None,ProjectionExtend=None,):\n",
    "\n",
    "        '''\n",
    "        This generate the sightline characteristics:\n",
    "        xwiz: Int, default=0, set which coordinate of the simulation data will be set as the x-axis.\n",
    "        ywiz: Int, default=1, set which coordinate of the simulation data will be set as the y-axis.\n",
    "        zwiz: Int, default=2, set which coordinate of the simulation data will be set as the z-axis.\n",
    "        xpos : Float, default=0.5, set as a fraction of the box size the x-position of the sightline.\n",
    "        ypos : Float, default=0.5, set as a fraction of the box size the y-position of the sightline.\n",
    "        zpos : Float, default=0, set as a fraction of the box size where in the z coordinate the sightline starts.\n",
    "        los-light: Float, default=1, set as a fraction of the box size the lenght of the sightline.\n",
    "        nsight: Int, default=0, If using LOS simulation, corresponds to the number of sightline in the file to read, is used for labeling the sightline.\n",
    "\n",
    "        '''\n",
    "        SimDict          = {'simx':0 , 'simy':1, 'simz':2}\n",
    "        if ProjectionAxes == None:\n",
    "            xaxis = yaxis = zaxis = None\n",
    "        else:\n",
    "            xaxis = SimDict[ProjectionAxes[0]]\n",
    "            yaxis = SimDict[ProjectionAxes[1]]\n",
    "            zaxis = SimDict[ProjectionAxes[2]]\n",
    "        if ProjectionStart == None:\n",
    "            xpos = ypos = zpos = None\n",
    "        else:\n",
    "            xpos,ypos,zpos = ProjectionStart\n",
    "            \n",
    "        sightline = {'ProjectionAxes':ProjectionAxes,\n",
    "                     'x-axis': xaxis,\n",
    "                     'y-axis': yaxis,\n",
    "                     'z-axis': zaxis,\n",
    "                     'ProjectionStart':ProjectionStart,\n",
    "                     'x-position' :xpos,\n",
    "                     'y-position' :ypos,\n",
    "                     'z-position' :zpos,\n",
    "                     'ProjectionLength': ProjectionLength,\n",
    "                     'SightLength':SightLength,\n",
    "                     'ProjectionExtend':ProjectionExtend,\n",
    "                     'nsight':     nsight}\n",
    "        \n",
    "        if self.specparams['file_type']['snap_type'] == 'snapshot':\n",
    "            sightline_default = {\n",
    "                     'ProjectionAxes':('simx','simy','simz'),\n",
    "                     'x-axis': 0,\n",
    "                     'y-axis': 1,\n",
    "                     'z-axis': 2,\n",
    "                     'ProjectionStart':(0.5,0.5,0),\n",
    "                     'x-position' :0.5,\n",
    "                     'y-position' :0.5,\n",
    "                     'z-position' :0,\n",
    "                     'ProjectionLength': 1,\n",
    "                     'SightLength':1,\n",
    "                     'ProjectionExtend': {\"extend\":False,\"extendfactor\":3},\n",
    "                     'nsight':     0}\n",
    "                        \n",
    "            default_keys = sightline_default.keys()\n",
    "\n",
    "            for dkey in default_keys:\n",
    "                if sightline[dkey]==None:\n",
    "                    print(\"Warning! \"+ dkey +\" NOT found. Setting default value : \"+str(sightline_default[dkey]))\n",
    "                    sightline[dkey] = sightline_default[dkey]            \n",
    "                    \n",
    "        elif self.specparams['file_type']['snap_type'] == 'los': \n",
    "            if sightline['nsight']==None:\n",
    "                print(\"Error! number of sightline (nsight) has not been assigned. \\n This is necessary to select the LOS for the LOS file\")\n",
    "        \n",
    "        self.specparams['sightline'] = sightline\n",
    "        self.non_sense_checks(self.specparams)\n",
    "        return self.specparams\n",
    "        \n",
    "    \n",
    "    def SetIonTableParams(self,  table_type='specwizard_cloudy', iondir = '/cosma7/data/Eagle/SpecWizardCloudytables/HM12/', fname='', ions =  [('Hydrogen', 'H I') ],SFR_properties = {'modify_particle':True,'ignore_particle': True,'Temperature [K]':1e4},atomfile='./VpFit/atom.dat'):\n",
    "        '''\n",
    "        Set the ion to use to calculate the spectra, the ionization tables to use for the calculation of the ion fractions and how to deal with star forming particles.\n",
    "        Input:\n",
    "        table_type: String, default='specwizard_cloud', name of the ionizations tables to use current options 'specwizard_cloudy' and 'ploeckinger'. The former corresponds to the Cloudy tables created from the Cloudy notebook based in HM2012, and the latter correspond to the tables described in Ploeckinger et al. (2020).\n",
    "        iondir: String, default='HM12 table path in cosma', path for the ionization table.\n",
    "        fname: String, default='',name of ionization tabel, only needed for ploeckinger tables. \n",
    "        ions: List of tuples, default=[('Hydrogen', 'H I') ], List of elements and Ions to do e,g [(Element1, Ion1, Ion2),(Element2, Ion1,...),...]\n",
    "        SFR_properties, Dictionary, default={'modify_particle':True,'ignore_particle': True,'Temperature [K]':1e4}, if modiy_particle: True we will deal with Star forming particles in one of two ways. If ignore particle = True, will set to zero the IonizationFraction of SFR particles. If False we will set the Temperature of SFR by the indicated temperature value.   \n",
    "        '''\n",
    "        ions_available = []\n",
    "        table_types = ['specwizard_cloudy', 'ploeckinger']\n",
    "        \n",
    "        table_type = table_type.lower()\n",
    "        if not table_type in table_types:\n",
    "            print(\"Error: that is not a valid table type\")\n",
    "            sys.exit(-1)\n",
    "\n",
    "        if table_type == 'specwizard_cloudy':\n",
    "            try:\n",
    "                iondir = iondir + '/'\n",
    "                files  = os.listdir(iondir)\n",
    "                ions_available   = []\n",
    "                for file in files:\n",
    "                    ions_available.append(file.split('.')[0])\n",
    "            except:\n",
    "                print(\"No files ionization tables found in directory {}\".format(iondir))\n",
    "                ions_available = []\n",
    "        if table_type == 'Ploeckinger':\n",
    "            try:\n",
    "                file = iondir + '/' + fname\n",
    "                files  = os.listdir(iondir)\n",
    "                if not fname in files:\n",
    "                    sys.exit(-1)\n",
    "                hf       = h5py.File(file,  \"r\")\n",
    "                elements = np.array(hf['ElementNamesShort'][...], dtype='str')\n",
    "                hf.close()\n",
    "            except:\n",
    "                print(\"iondir = \", iondir)\n",
    "                print(\"fname = \", fname)\n",
    "                print(\"Doh!\")\n",
    "                sys.exit(-1)\n",
    "\n",
    "\n",
    "        ion_properties = {'table_type':table_type, \n",
    "                          'iondir':iondir+'/', \n",
    "                          'fname':fname,\n",
    "                          'ions-available':ions_available,\n",
    "                          'Ions': ions,\n",
    "                          'SFR_properties':SFR_properties,\n",
    "                          'atomfile':atomfile}\n",
    "        self.specparams['ionparams'] = ion_properties\n",
    "    \n",
    "        #set Ions and elements\n",
    "        elements         = Elements(atomfile=atomfile)\n",
    "        transitionparams = {}\n",
    "\n",
    "        self.specparams[\"ionparams\"]['IonizationBalance'] = IonTables(specparams  = self.specparams)\n",
    "\n",
    "        #We always need hydrogen to be read since the ion fractions are calculated based on the hydrogen density \n",
    "        elements_check = [ions[i][0] for i in range(len(ions))]\n",
    "        if \"Hydrogen\" not in elements_check:\n",
    "            ions.insert(0,('Hydrogen','H I'))    \n",
    "        \n",
    "        for element, ion in ions:\n",
    "            pars = elements.ElementParameters(ElementNames=[element])\n",
    "            transitionparams[ion] = {}\n",
    "            transitionparams[ion][\"Mass\"]    = pars[element][\"Weight\"]\n",
    "\n",
    "            try:\n",
    "                transitionparams[ion][\"lambda0\"] = pars[element][\"States\"][ion][\"Lines\"][\"Lambda0\"][0]\n",
    "                transitionparams[ion][\"f-value\"] = pars[element][\"States\"][ion][\"Lines\"][\"f-value\"][0]\n",
    "                \n",
    "            except:\n",
    "                print(\"Warning: Default values for transition parameters are in use.\")\n",
    "                transitionparams[ion][\"lambda0\"] = 1000\n",
    "                transitionparams[ion][\"f-value\"] = 1e-5\n",
    "                \n",
    "        self.specparams[\"ionparams\"][\"transitionparams\"] = transitionparams    \n",
    "\n",
    "        # Unique list of elemens\n",
    "        ElementNames = []\n",
    "        for (element, name) in ions:\n",
    "            ElementNames.append(element)\n",
    "        ElementNames    = np.unique(ElementNames)  # unique list of desired elements\n",
    "        elementparams   = {}\n",
    "        elementparams[\"ElementNames\"] = ElementNames\n",
    "        for element, ion in ions:\n",
    "            pars = elements.ElementParameters(ElementNames=[element])\n",
    "            elementparams[element] = {}\n",
    "            elementparams[element][\"Mass\"] = pars[element][\"Weight\"]\n",
    "        \n",
    "        self.specparams[\"elementparams\"]  = elementparams\n",
    "    \n",
    "    \n",
    "    \n",
    "\n",
    "        \n",
    "    def SetODParams(self,VelOffset_kms = 0., PecVelEffectsOff = False, ThermalEffectsOff = False,VoigtOff = False):\n",
    "        '''\n",
    "            User options that affect the calculation of the Optical Dept. \n",
    "            Input:\n",
    "            ThermalEffectsOff: Bolean, default='False', Turn Off the thermal effecs in the calculation of OD's.\n",
    "            PecVelEffectsOff: Bolean, default='False',  Turn off the effects of peculiar velocities .\n",
    "            VelOffset: Float, default='0.0',Impose a shift in . \n",
    "            VoigtOff: Bolean, default='False', If True, will turn off the voigt profile for hydrogen\n",
    "\n",
    "        '''\n",
    "        \n",
    "        \n",
    "        self.specparams['ODParams']  = {'ThermalEffectsOff' : ThermalEffectsOff,\n",
    "                                        'PecVelEffectsOff'  : PecVelEffectsOff, \n",
    "                                        'Veloffset'         : VelOffset_kms,\n",
    "                                        'VoigtOff'          : VoigtOff}\n",
    "        \n",
    "#    def LongSpectraParams(self,lambda_min,lambda_max,delta_lambda,zqsr,delta_z):\n",
    "        \n",
    "    def ExtraParams(self,periodic= True, kernel=\"Gauss\",pixkms=1,atomfile='./VpFit/atom.dat',veloff=0,\n",
    "                    ReadIonFrac = {'ReadIonFrac':True,\n",
    "                       'ReadHydrogen':True,\n",
    "                       'HI':\"NeutralHydrogenAbundance\",\n",
    "                       'ReadHelium':False,\n",
    "                       'He':\"\"} ):\n",
    "        '''\n",
    "        This are parameters that are thought for specific or more advance users. \n",
    "        Inputs:\n",
    "            periodic: Bolean, default=True. Turn on/off periodic boundary condition effects. \n",
    "            Kernel  : string, default=Bspline. Selection of the SPH kernel for the interpolation in the line projection. \n",
    "            Veloff  : Float[kms],  default=0. Will add this value to all the peculiar velocities. Units km/s. \n",
    "        '''\n",
    "        \n",
    "        \n",
    "            \n",
    "        \n",
    "        self.specparams['extra_parameters'] = { 'periodic': periodic,\n",
    "                                                'Kernel': kernel ,\n",
    "                                                'pixkms':  pixkms,\n",
    "                                                'atomfile': atomfile,\n",
    "                                                'Veloffset': veloff,\n",
    "                                                'ReadIonFrac':ReadIonFrac}\n",
    "       # self.non_sense_checks(self.specparams)\n",
    "\n",
    "    def non_sense_checks(self,specparams):\n",
    "        sightline = specparams['sightline']\n",
    "        extra_params = specparams['extra_parameters']\n",
    "        \n",
    "        if (self.specparams['file_type']['snap_type'] == 'snapshot') and (sightline['x-axis']+sightline['y-axis']+sightline['z-axis'] != 3):\n",
    "            print(\"ERROR! Invalid values for axis!\")\n",
    "\n",
    "        if (self.specparams['file_type']['snap_type'] == 'snapshot') and (extra_params['periodic']==True) and (sightline['ProjectionLength']<1):\n",
    "            print(\"Warning! You are calculating a los shorter than the box-size \\n and using periodic boundary conditions\")\n",
    "\n",
    "    def check_for_directory(self,path):\n",
    "        bol_dir = os.path.isdir(path)\n",
    "        if not bol_dir:\n",
    "            sys.exit(\"Path: \"+path +\"\\n is not a valid directory\")\n",
    "        return bol_dir\n",
    "    \n",
    "    def check_hdf5(self,fname):\n",
    "        if not h5py.is_hdf5(fname):\n",
    "            sys.exit(\"Not a valid hdf5 file\")\n",
    "            \n",
    "            \n",
    "    def check_param(self,dic,param):\n",
    "        try:\n",
    "            dic[param]\n",
    "            return True\n",
    "        except:\n",
    "            return False"
   ]
  },
  {
   "cell_type": "markdown",
   "id": "accepted-chapel",
   "metadata": {},
   "source": [
    "<a id='examples'></a>"
   ]
  },
  {
   "cell_type": "markdown",
   "id": "chief-alias",
   "metadata": {},
   "source": [
    "## Example"
   ]
  },
  {
   "cell_type": "markdown",
   "id": "ceramic-manor",
   "metadata": {},
   "source": [
    "We import and initialize the class ``Build_Input()``"
   ]
  },
  {
   "cell_type": "code",
   "execution_count": 41,
   "id": "cheap-pacific",
   "metadata": {},
   "outputs": [],
   "source": [
    "import importlib\n",
    "\n",
    "import SpecWizard_BuildInput\n",
    "SpecWizard_BuildInput = importlib.reload(SpecWizard_BuildInput)\n",
    "from SpecWizard_BuildInput import Build_Input\n"
   ]
  },
  {
   "cell_type": "code",
   "execution_count": 42,
   "id": "intense-companion",
   "metadata": {},
   "outputs": [],
   "source": [
    "from SpecWizard_BuildInput import Build_Input\n",
    "\n"
   ]
  },
  {
   "cell_type": "code",
   "execution_count": 43,
   "id": "residential-third",
   "metadata": {},
   "outputs": [],
   "source": [
    "BuildInput = Build_Input()"
   ]
  },
  {
   "cell_type": "markdown",
   "id": "upset-effect",
   "metadata": {},
   "source": [
    "- [FileType](#FileType)\n",
    "- [SnapshotParams](#SnapshotParams)\n",
    "- [Sightline](#Sightline)\n",
    "- [SetIonTableParams](#SetIonTableParams)\n"
   ]
  },
  {
   "cell_type": "markdown",
   "id": "turned-session",
   "metadata": {},
   "source": [
    "### FileType "
   ]
  },
  {
   "cell_type": "markdown",
   "id": "impossible-floating",
   "metadata": {},
   "source": [
    "Next we use the function ``FileType`` to define the type of simulation ``sim_type`` and the type of simulation output ``snap_type`` .\n",
    "The available inputs are:\n",
    "- ``sim_type``: ``eagle``, ``swift``, ``hydrangea``\n",
    "- ``snap_type``: ``snapshot``, ``los``"
   ]
  },
  {
   "cell_type": "code",
   "execution_count": 44,
   "id": "statistical-plastic",
   "metadata": {},
   "outputs": [],
   "source": [
    "BuildInput.FileType(sim_type='SWIFT',snap_type='snapshot')\n",
    "BuildInput.FileType(sim_type='swift',snap_type='LoS')\n",
    "BuildInput.FileType(sim_type='Eagle',snap_type='LOS')\n",
    "BuildInput.FileType(sim_type='eaGLE',snap_type='Snapshot')\n",
    "BuildInput.FileType(sim_type='Hydrangea',snap_type='snapshot')\n",
    "BuildInput.FileType(sim_type='Colibre',snap_type='snapshot')"
   ]
  },
  {
   "cell_type": "markdown",
   "id": "characteristic-sarah",
   "metadata": {},
   "source": [
    "It's important to note that the input is not case sensitive. And will let you know if any of the input is not available. "
   ]
  },
  {
   "cell_type": "code",
   "execution_count": 45,
   "id": "different-sally",
   "metadata": {},
   "outputs": [
    {
     "ename": "SystemExit",
     "evalue": "Simulation not supported",
     "output_type": "error",
     "traceback": [
      "An exception has occurred, use %tb to see the full traceback.\n",
      "\u001b[0;31mSystemExit\u001b[0m\u001b[0;31m:\u001b[0m Simulation not supported\n"
     ]
    },
    {
     "name": "stderr",
     "output_type": "stream",
     "text": [
      "/cosma/local/Python/3.6.5/lib/python3.6/site-packages/IPython/core/interactiveshell.py:2971: UserWarning: To exit: use 'exit', 'quit', or Ctrl-D.\n",
      "  warn(\"To exit: use 'exit', 'quit', or Ctrl-D.\", stacklevel=1)\n"
     ]
    }
   ],
   "source": [
    "BuildInput.FileType(sim_type='owls',snap_type='los')"
   ]
  },
  {
   "cell_type": "code",
   "execution_count": 46,
   "id": "social-iceland",
   "metadata": {},
   "outputs": [
    {
     "ename": "SystemExit",
     "evalue": "snap_type must be a snapshot file or a line of sight (LOS) file.",
     "output_type": "error",
     "traceback": [
      "An exception has occurred, use %tb to see the full traceback.\n",
      "\u001b[0;31mSystemExit\u001b[0m\u001b[0;31m:\u001b[0m snap_type must be a snapshot file or a line of sight (LOS) file.\n"
     ]
    },
    {
     "name": "stderr",
     "output_type": "stream",
     "text": [
      "/cosma/local/Python/3.6.5/lib/python3.6/site-packages/IPython/core/interactiveshell.py:2971: UserWarning: To exit: use 'exit', 'quit', or Ctrl-D.\n",
      "  warn(\"To exit: use 'exit', 'quit', or Ctrl-D.\", stacklevel=1)\n"
     ]
    }
   ],
   "source": [
    "BuildInput.FileType(sim_type='eagle',snap_type='lightcone')"
   ]
  },
  {
   "cell_type": "markdown",
   "id": "noted-minute",
   "metadata": {},
   "source": [
    "### SnapshotParams "
   ]
  },
  {
   "cell_type": "markdown",
   "id": "colonial-overall",
   "metadata": {},
   "source": [
    "Now we use ``SnapshotParams`` to provide the information of where is the simulation file and the name of the file. The routine will check if the directory exist and if the file is a valid ``hdf5`` file "
   ]
  },
  {
   "cell_type": "code",
   "execution_count": 47,
   "id": "thrown-withdrawal",
   "metadata": {},
   "outputs": [],
   "source": [
    "snap_dir = '/cosma6/data/dp004/dc-aram1/VariableIMF/QLA_runs/L0025N0752_SWFT/'\n",
    "snap_file     = 'qla_0018.hdf5'\n"
   ]
  },
  {
   "cell_type": "code",
   "execution_count": 48,
   "id": "heated-bulgaria",
   "metadata": {},
   "outputs": [],
   "source": [
    "BuildInput.SnapshotParams(path=snap_dir,file=snap_file)"
   ]
  },
  {
   "cell_type": "markdown",
   "id": "mighty-perfume",
   "metadata": {},
   "source": [
    "### SetIonTableParams"
   ]
  },
  {
   "cell_type": "markdown",
   "id": "systematic-duncan",
   "metadata": {},
   "source": [
    "Here we set all the parameters related with the elements and ions that are going to be taken into account for the Spectra. If needed the ionization fraction will be calculated through the interpolation of the ionization table given by ``table_type``.\n",
    "\n",
    "Star forming particles in some simulations are treated using an equation of state, if requested star forming particles will be treated as described below.\n",
    "        :\n",
    " - ``table_type``: **String**, ```default='specwizard_cloudy'```, name of the ionizations tables to use current options ```'specwizard_cloudy'``` and ``'ploeckinger'``. The former corresponds to the Cloudy tables created from the Cloudy notebook based in [Haardt & Madau 2012](https://ui.adsabs.harvard.edu/abs/2012ApJ...746..125H/abstract), and the latter correspond to the tables described in [Ploeckinger & Schaye 2020](https://ui.adsabs.harvard.edu/abs/2020MNRAS.497.4857P/abstract).\n",
    " \n",
    " - ``iondir``: String, ``default='HM12 table path in cosma'``, path for the ionization table.\n",
    "\n",
    "\n",
    "- ``fname``: **String**, ``default=''``,name of ionization table, only needed for ploeckinger tables. \n",
    "\n",
    "\n",
    "- ``ions``: **List of tuples**, ``default=[('Hydrogen', 'H I') ]``, List of elements and Ions to do e,g ``[(Element1, Ion1, Ion2),(Element2, Ion1,...),...]``\n",
    "\n",
    "\n",
    "- ``SFR_properties``, **Dictionary**, ``default={'modify_particle':True,'ignore_particle': True,'Temperature [K]':1e4}``, if ``modiy_particle: True`` we will deal with Star forming particles in one of two ways:\n",
    " - If ``ignore_particle = True``, will set to zero the IonizationFraction of SFR particles. \n",
    " - If ``ignore_particle = False`` we will set the Temperature of SFR by the indicated in ``'Temperature [K]'``. \n",
    " \n",
    "It is important to note that if we don't provide one or any inputs, the default values will be taken.\n"
   ]
  },
  {
   "cell_type": "code",
   "execution_count": 49,
   "id": "improved-candidate",
   "metadata": {},
   "outputs": [],
   "source": [
    "BuildInput.SetIonTableParams()"
   ]
  },
  {
   "cell_type": "code",
   "execution_count": 50,
   "id": "southwest-skirt",
   "metadata": {},
   "outputs": [],
   "source": [
    "table_type     = 'Ploeckinger'\n",
    "iondir         = '/cosma6/data/dp004/dc-aram1/VariableIMF/pyspecwizard_main/sylviatables/'\n",
    "fname          = 'UVB_dust1_CR1_G1_shield1.hdf5' \n",
    "SFR_properties = {'modify_particle':True,'ignore_particle': False,'Temperature [K]':1e4}\n",
    "ions=[('Helium','HeII')]"
   ]
  },
  {
   "cell_type": "code",
   "execution_count": 51,
   "id": "specific-organ",
   "metadata": {},
   "outputs": [],
   "source": [
    "BuildInput.SetIonTableParams(table_type=table_type, iondir = iondir,SFR_properties=SFR_properties , fname=fname, ions=ions)\n"
   ]
  },
  {
   "cell_type": "code",
   "execution_count": 35,
   "id": "bc311dff-b1f3-49ca-b3ce-8024cfe5e6c0",
   "metadata": {},
   "outputs": [],
   "source": [
    "ions=[('Helium','HeII')]\n"
   ]
  },
  {
   "cell_type": "markdown",
   "id": "genuine-protection",
   "metadata": {},
   "source": [
    "### SetODParams"
   ]
  },
  {
   "cell_type": "markdown",
   "id": "d094fb7c-47a6-432b-9f80-ba9b67ad43ef",
   "metadata": {},
   "source": [
    "```BuildInput.SetODParams```  allows the user to deactivate broadening effects in the calculation of the optical depth. The peculiar velocities and the temperature have direct effect in the optical depth. One might one to turn these effects off for different. \n",
    "\n",
    "Inputs:\n",
    "\n",
    "- ``VelOffset_kms``: Float,``default=0``. It will impose  a velocity offeset to the peculiar velocity array (in km/s)\n",
    "- ``PecVelEffectsOff`` Boolean,``default=False``. If ``True`` will turn off the peculiar velocities effect in the calculation of the optical depth. \n",
    "- ``ThermalEffectsOff`` Boolean,``default=False``. If ``True`` will turn off the thermal velocities effect in the calculation of the optical depth. \n",
    "- ``VoigtOff`` Boolean, ``default=False``. If ``True`` will turn off the voigt profile for hydrogen.  \n"
   ]
  },
  {
   "cell_type": "code",
   "execution_count": null,
   "id": "22a4afae-e7f1-4115-9cad-14542e67df71",
   "metadata": {},
   "outputs": [],
   "source": [
    "VelOffset_kms = 0., PecVelEffectsOff = False, ThermalEffectsOff = False,VoigtOff = False"
   ]
  },
  {
   "cell_type": "markdown",
   "id": "former-lodge",
   "metadata": {},
   "source": [
    "### Sightline"
   ]
  },
  {
   "cell_type": "markdown",
   "id": "helpful-grain",
   "metadata": {},
   "source": [
    "This function  will contain all the information that is needed to set-up the sightline. In the case of a full using a  full snapshot we have to define which axis will correspond to the axis of the line of sight. This function will return a dictionary containing all the input generated in the other functions. \n",
    "\n",
    "The tuple of strings  ```ProjectionAxes```, creates the correspondance between the simulaiton axes and the axes of the spectra line.\n",
    "For example, for``ProjectionAxes=('simz','simy','simz')``, the sight line will - in the coordinates of the simulation, be along the $x-axis$, and go through the point with $(z,y)$.\n",
    "The tuple of flots ```ProjectionStart``` are the starting positions for each coordinate as a fraction of the box size, e.g ```x-position = 0.5``` corresponds to half of the boxsize. \n",
    "\n",
    "```'nsight'``` it will be used if we use the saving routine to label the line of sight e,g ```nsight=4```-> LOS_4\n",
    "\n",
    "```'ProjectionLength'``` this is an optional parameter that establish the length of the sightline. If not provided the default value will be the length of the box. \n",
    "\n",
    "In case of using a LOS file. The only necesary parameter is ```nsight```. Which will provide the number of LOS that will be read from the LOS file. And will optain the rest of parameters from the file.\n",
    "\n",
    "#### Inputs:\n",
    "\n",
    "- ``ProjectionAxes`` : Tuple of strings, ``default=('simx','simy','simz')``, this create the relation between the projection axis and the simulation axis. The default case is when the projection axis is aligned with the simulation axis ``ProjectionAxes = ('projx','projy','projz') = ('simx','simy','simz') ``. But if for example we want to do the projection along the $y-axis$ of the simulation then ``ProjectionAxes=('simx','simz','simy')``\n",
    "- ``ProjectionStart``: Tuple of floats, ``default=(0.5,0.5,0)``. The starting position as a fraction of the box-length of the sightline. If we take the example from above and the default value, means that our sighline  will be centered in the simulation point $(x,z)=(0.5*\\mathrm{boxsize},0.5*\\mathrm{boxsize})$ and will start at the coordinate $y=0$.\n",
    "- ``ProjectionLength``: Float, default=1, set as a fraction of the box size the lenght of the sightline.\n",
    "- ``nsight``: Int, default=0, If using LOS simulation, corresponds to the number of sightline in the file to read, is used for labeling the sightline.\n",
    "\n",
    "\n",
    "It is important to note that if we don't provide one or any inputs, the default values will be taken.\n"
   ]
  },
  {
   "cell_type": "code",
   "execution_count": 52,
   "id": "direct-allah",
   "metadata": {},
   "outputs": [
    {
     "name": "stdout",
     "output_type": "stream",
     "text": [
      "Warning! ProjectionAxes NOT found. Setting default value : ('simx', 'simy', 'simz')\n",
      "Warning! x-axis NOT found. Setting default value : 0\n",
      "Warning! y-axis NOT found. Setting default value : 1\n",
      "Warning! z-axis NOT found. Setting default value : 2\n",
      "Warning! ProjectionStart NOT found. Setting default value : (0.5, 0.5, 0)\n",
      "Warning! x-position NOT found. Setting default value : 0.5\n",
      "Warning! y-position NOT found. Setting default value : 0.5\n",
      "Warning! z-position NOT found. Setting default value : 0\n",
      "Warning! ProjectionLength NOT found. Setting default value : 1\n",
      "Warning! nsight NOT found. Setting default value : 0\n"
     ]
    }
   ],
   "source": [
    "Wizard = BuildInput.Sightline()"
   ]
  },
  {
   "cell_type": "code",
   "execution_count": 2,
   "id": "boxed-commerce",
   "metadata": {},
   "outputs": [
    {
     "ename": "NameError",
     "evalue": "name 'BuildInput' is not defined",
     "output_type": "error",
     "traceback": [
      "\u001b[0;31m---------------------------------------------------------------------------\u001b[0m",
      "\u001b[0;31mNameError\u001b[0m                                 Traceback (most recent call last)",
      "\u001b[0;32m<ipython-input-2-f675095cbcb4>\u001b[0m in \u001b[0;36m<module>\u001b[0;34m()\u001b[0m\n\u001b[0;32m----> 1\u001b[0;31m \u001b[0mWizard\u001b[0m \u001b[0;34m=\u001b[0m \u001b[0mBuildInput\u001b[0m\u001b[0;34m.\u001b[0m\u001b[0mSightline\u001b[0m\u001b[0;34m(\u001b[0m\u001b[0mProjectionAxes\u001b[0m\u001b[0;34m=\u001b[0m\u001b[0;34m(\u001b[0m\u001b[0;34m'simy'\u001b[0m\u001b[0;34m,\u001b[0m\u001b[0;34m'simx'\u001b[0m\u001b[0;34m,\u001b[0m\u001b[0;34m'simz'\u001b[0m\u001b[0;34m)\u001b[0m\u001b[0;34m,\u001b[0m\u001b[0mProjectionStart\u001b[0m\u001b[0;34m=\u001b[0m\u001b[0;34m(\u001b[0m\u001b[0;36m0.25\u001b[0m\u001b[0;34m,\u001b[0m\u001b[0;36m0.5\u001b[0m\u001b[0;34m,\u001b[0m\u001b[0;36m0\u001b[0m\u001b[0;34m)\u001b[0m\u001b[0;34m,\u001b[0m\u001b[0mProjectionLength\u001b[0m\u001b[0;34m=\u001b[0m\u001b[0;36m1\u001b[0m\u001b[0;34m,\u001b[0m\u001b[0mnsight\u001b[0m\u001b[0;34m=\u001b[0m\u001b[0;36m0\u001b[0m\u001b[0;34m)\u001b[0m\u001b[0;34m\u001b[0m\u001b[0m\n\u001b[0m",
      "\u001b[0;31mNameError\u001b[0m: name 'BuildInput' is not defined"
     ]
    }
   ],
   "source": [
    "Wizard = BuildInput.Sightline(ProjectionAxes=('simy','simx','simz'),ProjectionStart=(0.25,0.5,0),ProjectionLength=1,nsight=0)"
   ]
  },
  {
   "cell_type": "code",
   "execution_count": 37,
   "id": "charged-bottle",
   "metadata": {},
   "outputs": [
    {
     "data": {
      "text/plain": [
       "{'file_type': {'sim_type': 'colibre', 'snap_type': 'snapshot'},\n",
       " 'snapshot_params': {'directory': '/cosma6/data/dp004/dc-aram1/VariableIMF/QLA_runs/L0025N0752_SWFT/',\n",
       "  'file': 'qla_0018.hdf5'},\n",
       " 'ionparams': {'table_type': 'ploeckinger',\n",
       "  'iondir': '/cosma6/data/dp004/dc-aram1/VariableIMF/pyspecwizard_main/sylviatables//',\n",
       "  'fname': 'UVB_dust1_CR1_G1_shield1.hdf5',\n",
       "  'ions-available': [],\n",
       "  'Ions': [('Helium', 'HeII')],\n",
       "  'SFR_properties': {'modify_particle': True,\n",
       "   'ignore_particle': False,\n",
       "   'Temperature [K]': 10000.0},\n",
       "  'atomfile': './VpFit/atom.dat',\n",
       "  'IonizationBalance': <SpecWizard_IonTables_test.IonTables at 0x2b2557db6518>,\n",
       "  'transitionparams': {'HeII': {'Mass': 4.002602,\n",
       "    'lambda0': 303.7822,\n",
       "    'f-value': 0.416}}},\n",
       " 'sightline': {'ProjectionAxes': ('simx', 'simy', 'simz'),\n",
       "  'x-axis': 0,\n",
       "  'y-axis': 1,\n",
       "  'z-axis': 2,\n",
       "  'ProjectionStart': (0.5, 0.5, 0),\n",
       "  'x-position': 0.5,\n",
       "  'y-position': 0.5,\n",
       "  'z-position': 0,\n",
       "  'ProjectionLength': 1,\n",
       "  'nsight': 0},\n",
       " 'extra_parameters': {'periodic': True,\n",
       "  'Kernel': 'Bspline',\n",
       "  'pixkms': 1,\n",
       "  'Veloffset': 0,\n",
       "  'ReadIonFrac': {'ReadIonFrac': True,\n",
       "   'ReadHydrogen': True,\n",
       "   'HI': 'NeutralHydrogenAbundance',\n",
       "   'ReadHelium': False,\n",
       "   'He': ''}},\n",
       " 'elementparams': {'ElementNames': array(['Helium'], dtype='<U6'),\n",
       "  'Helium': {'Mass': 4.002602}}}"
      ]
     },
     "execution_count": 37,
     "metadata": {},
     "output_type": "execute_result"
    }
   ],
   "source": [
    "Wizard"
   ]
  },
  {
   "cell_type": "code",
   "execution_count": 23,
   "id": "reasonable-sister",
   "metadata": {},
   "outputs": [
    {
     "data": {
      "text/plain": [
       "'qla_0018.hdf5'"
      ]
     },
     "execution_count": 23,
     "metadata": {},
     "output_type": "execute_result"
    }
   ],
   "source": [
    "Wizard['snapshot_params']['file']"
   ]
  },
  {
   "cell_type": "code",
   "execution_count": null,
   "id": "ce46758c-8e42-4171-ba1d-b155a2cbe336",
   "metadata": {},
   "outputs": [],
   "source": []
  }
 ],
 "metadata": {
  "kernelspec": {
   "display_name": "Python 3",
   "language": "python",
   "name": "python3"
  },
  "language_info": {
   "codemirror_mode": {
    "name": "ipython",
    "version": 3
   },
   "file_extension": ".py",
   "mimetype": "text/x-python",
   "name": "python",
   "nbconvert_exporter": "python",
   "pygments_lexer": "ipython3",
   "version": "3.6.5"
  }
 },
 "nbformat": 4,
 "nbformat_minor": 5
}
