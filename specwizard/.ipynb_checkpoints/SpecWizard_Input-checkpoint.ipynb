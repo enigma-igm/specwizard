{
 "cells": [
  {
   "cell_type": "markdown",
   "id": "996b914c",
   "metadata": {},
   "source": [
    "# Read SPH particle data from simulation outputs"
   ]
  },
  {
   "cell_type": "code",
   "execution_count": 1,
   "id": "77bee340",
   "metadata": {},
   "outputs": [],
   "source": [
    "%matplotlib inline\n",
    "# Import default settings and physical constants\n",
    "import importlib\n",
    "import Phys\n",
    "Phys = importlib.reload(Phys)\n",
    "# physical constants in cgs units\n",
    "constants = Phys.ReadPhys()\n",
    "\n",
    "# some default python routines\n",
    "import h5py\n",
    "import numpy as np\n",
    "import matplotlib.pyplot as plt"
   ]
  },
  {
   "cell_type": "markdown",
   "id": "19491572",
   "metadata": {},
   "source": [
    "## Class to read particles that contribute to a given sight line from a  ``snapshot``"
   ]
  },
  {
   "cell_type": "markdown",
   "id": "f482e4a1",
   "metadata": {},
   "source": [
    "The following class reads particle data from Eagle, Hydrangea (C-Eagle) and Swift.\n",
    "The Line Of Sight``LOS`` output in these simulation output all the particles for which a sphere with radius the smoothing length and center the particle's location, is punctured by a sight line. These particles contribute to this sight line, using ``SPH`` interpolation. The running simulation outputs such ``LOS`` output files, with many, randomly chosen, sight lines per file. A given sight line is characterized by the projectin direction - which is along one of the 3 Cartesian simulation axes (for example, the $z$-axis), and the coordinates of point that the sight line goes through (for example, the $x$ and $y$ position of the point with $z=0$). The ``axis`` property of the sight line determine which axes the sight line is parallel to.\n",
    "\n",
    "For the full ``snapshot`` output. Depending on the case, [swiftsimIO](https://swiftsimio.readthedocs.io/en/latest/), [readeagle](https://github.com/kyleaoman/pyread_eagle) or [hydrangea](https://hydrangea.readthedocs.io/) libraries will be used in order to read and mask the simulation data efficiently and build the line of sight with the characteristics given by the input. \n",
    "\n",
    "The two main parts of this notebook, is the section that contains and generate the class and a set of examples illustrating the different inputs,configuration and plots. \n",
    "1. [Code](#Code) \n",
    "2. [Examples](#Example)"
   ]
  },
  {
   "cell_type": "markdown",
   "id": "photographic-education",
   "metadata": {},
   "source": [
    "## Code"
   ]
  },
  {
   "cell_type": "markdown",
   "id": "spare-lounge",
   "metadata": {},
   "source": [
    "The following cell contains the class code. If you run it it will generate the library ```SpecWizard_Input.py```"
   ]
  },
  {
   "cell_type": "code",
   "execution_count": 49,
   "id": "particular-crest",
   "metadata": {},
   "outputs": [
    {
     "name": "stdout",
     "output_type": "stream",
     "text": [
      "Overwriting SpecWizard_Input.py\n"
     ]
    }
   ],
   "source": [
    "%%writefile SpecWizard_Input.py\n",
    "\n",
    "import numpy as np\n",
    "import Phys\n",
    "import importlib\n",
    "import pyread_eagle as read_eagle\n",
    "import swiftsimio as sw\n",
    "import hydrangea as hy\n",
    "from SpecWizard_Elements import Elements\n",
    "import h5py\n",
    "Phys = importlib.reload(Phys)\n",
    "from SimulationInputKeys import get_simkeys\n",
    "\n",
    "# physical constants in cgs units\n",
    "constants  = Phys.ReadPhys()\n",
    "\n",
    "\n",
    "\n",
    "# Eagle runs\n",
    "Eagle = True\n",
    "if Eagle:\n",
    "    filetype = {'simtype':'Eagle', 'snaptype':'LOS'}  \n",
    "\n",
    "    # location of snapshot\n",
    "    snapdir = '/cosma7/data/Eagle/ScienceRuns/Planck1/L0050N1504/PE/RECALIBRATED/data/los/'\n",
    "\n",
    "    # name of snapshot file\n",
    "    snapfile = 'part_los_z3.275.hdf5'\n",
    "\n",
    "else:\n",
    "    filetype = {'simtype':'Swift', 'snaptype':'LOS'}  \n",
    "\n",
    "    # location of snapshot\n",
    "    snapdir = '/cosma6/data/dp004/dc-elbe1/qla_nu/runs/QLANU_M060_L020N0256/'\n",
    "\n",
    "    # name of snapshot file\n",
    "    snapfile = 'los_0019.hdf5'\n",
    "\n",
    "\n",
    "fileparams = {'file_type'   : {'sim_type' : 'Eagle', 'snap_type' : 'LOS'},\n",
    "              'snapshot_params':{'directory':snapdir, 'file':snapfile}}\n",
    "\n",
    "\n",
    "# sightline parameters: \n",
    "sightline  = {'x-axis': 0, 'y-axis':1, 'z-axis': 2, 'x-position':0.0, 'y-position':0.0, 'nsight' : 0}\n",
    "\n",
    "class ReadSnap:\n",
    "    '''\n",
    "    Read SPH particles from Eagle (Gadget), Hydrangea(C-Eagle) or Swift output\n",
    "    input: Wizardparamas(output from running SpecWizard_BuildInput)\n",
    "    '''\n",
    "    def __init__(self, fileparams=fileparams):\n",
    "        #\n",
    "        self.fileparams = fileparams\n",
    "        self.fname      = fileparams[\"snapshot_params\"][\"directory\"] + '/' + fileparams[\"snapshot_params\"][\"file\"]\n",
    "        self.simtype    = fileparams[\"file_type\"][\"sim_type\"]\n",
    "        self.snaptype   = fileparams[\"file_type\"][\"snap_type\"]\n",
    "        self.readIonFrac = fileparams['extra_parameters']['ReadIonFrac']['ReadIonFrac'] \n",
    "        \n",
    "        # read default simulation parameters \n",
    "        self.header   = self.ReadHeader()\n",
    "    \n",
    "        self.fileparams[\"Header\"] = self.header\n",
    "    def ReadHeader(self):\n",
    "        ''' Read header and cosmology information from file '''\n",
    "        \n",
    "        # store default data\n",
    "        if self.simtype == 'eagle':\n",
    "            # read header information and store in default format\n",
    "            header = self.ReadGroup()\n",
    "        \n",
    "            # the unit and h-dependence of Eagle is not stated; We assume it is in cMpc/h\n",
    "            boxsize  = np.array([1., 1.0, 1.0 ]) * header['BoxSize']\n",
    "            boxunit  = self.SetUnit(vardescription=\"Extent of simulation volume\", \n",
    "                                    Lunit=constants['Mpc'], \n",
    "                                    aFact=1.0, \n",
    "                                    hFact=-1.0)\n",
    "            box      = {'Value':boxsize, 'Info':boxunit}\n",
    "            h        = header['HubbleParam']\n",
    "            #\n",
    "            cosmo    = {'Redshift'    : header['Redshift'], \n",
    "                        'HubbleParam' : h,\n",
    "                        'OmegaMatter' : header['Omega0'],\n",
    "                        'OmegaBaryon' : header['OmegaBaryon'],\n",
    "                        'OmegaLambda' : header['OmegaLambda']}\n",
    "            \n",
    "            numpartval   = header['NumPart_Total'][0]\n",
    "            numpartunit  = self.SetUnit(vardescription=\"Total number of gas particles in the simulation\", \n",
    "                                    Lunit=1, \n",
    "                                    aFact=0, \n",
    "                                    hFact=0)\n",
    "            numpart      = {'Value':numpartval,'Info':numpartunit}\n",
    "            \n",
    "            initMassTable = header['MassTable']\n",
    "            \n",
    "            DMmass        = initMassTable[1]\n",
    "            OmegaDM       = (cosmo['OmegaMatter']-cosmo['OmegaBaryon'])\n",
    "            Gasmass       = DMmass * (cosmo['OmegaBaryon']/OmegaDM)\n",
    "            \n",
    "            Dmunit        = self.SetUnit(vardescription=\"Initial Dark Matter mass\", \n",
    "                                    Lunit=1.989e43,                                     \n",
    "                                    aFact=0, \n",
    "                                    hFact=-1)\n",
    "            Gmunit        = self.SetUnit(vardescription=\"Initial Gass particle mass\", \n",
    "                                    Lunit=1.989e43,                                     \n",
    "                                    aFact=0, \n",
    "                                    hFact=-1)\n",
    "            DMmass        = {'Value':DMmass,'Info':Dmunit}\n",
    "            Gasmass       = {'Value':Gasmass,'Info':Gmunit}\n",
    "            MassTable     = {'DarkMatterMass':DMmass,'GasMass':Gasmass}\n",
    "            \n",
    "        if (self.simtype == 'swift') or (self.simtype == 'colibre'):\n",
    "            header    = self.ReadGroup()\n",
    "            cosmology = self.ReadGroup('Cosmology')\n",
    "            units     = self.ReadGroup('Units')\n",
    "            boxsize   = np.array(header['BoxSize'])\n",
    "            boxunit   = self.SetUnit(vardescription=\"Extent of simulation volume\", Lunit=units['Unit length in cgs (U_L)'][0], aFact=1.0, hFact=0.0) # co-moving, no-h\n",
    "            box       = {'Value':boxsize, 'Info':boxunit}\n",
    "            #\n",
    "            H0        = cosmology['H0 [internal units]'][0] / units['Unit time in cgs (U_t)'][0] # in 1/s\n",
    "            H0        = H0 * constants['Mpc'] / 1e5     # in km/s/Mpc\n",
    "            h         = H0 / 100                        # in units 100km/s/Mpc\n",
    "            \n",
    "            cosmo     = {'Redshift'   : cosmology['Redshift'][0], \n",
    "                        'HubbleParam' : h,\n",
    "                        'OmegaMatter' : cosmology['Omega_m'][0],\n",
    "                        'OmegaBaryon' : cosmology['Omega_b'][0],\n",
    "                        'OmegaLambda' : cosmology['Omega_lambda'][0]}\n",
    "            \n",
    "            numpartval   = header['NumPart_Total'][0]\n",
    "            numpartunit  = self.SetUnit(vardescription=\"Total number of gas particles in the simulation\", \n",
    "                                    Lunit=1, \n",
    "                                    aFact=0, \n",
    "                                    hFact=0)\n",
    "            numpart      = {'Value':numpartval,'Info':numpartunit}  \n",
    "            \n",
    "            \n",
    "            initMassTable = header['InitialMassTable']\n",
    "            \n",
    "            DMmass        = initMassTable[1]\n",
    "            Gasmass       = initMassTable[0]\n",
    "            \n",
    "            Dmunit        = self.SetUnit(vardescription=\"Initial Dark Matter mass\", \n",
    "                                    Lunit=1.98841e43,                                     \n",
    "                                    aFact=0, \n",
    "                                    hFact=0)\n",
    "            Gmunit        = self.SetUnit(vardescription=\"Initial Gass particle mass\", \n",
    "                                    Lunit=1.98841e43,                                     \n",
    "                                    aFact=0, \n",
    "                                    hFact=0)\n",
    "            DMmass        = {'Value':DMmass,'Info':Dmunit}\n",
    "            Gasmass       = {'Value':Gasmass,'Info':Gmunit}\n",
    "            MassTable     = {'DarkMatterMass':DMmass,'GasMass':Gasmass}\n",
    "            \n",
    "        if self.simtype == 'hydrangea':\n",
    "            # read header information and store in default format\n",
    "            header = self.ReadGroup()\n",
    "        \n",
    "            # the unit and h-dependence of Eagle is not stated; We assume it is in cMpc/h\n",
    "            boxsize  = np.array([1., 1.0, 1.0 ]) * header['BoxSize']\n",
    "            boxunit  = self.SetUnit(vardescription=\"Extent of simulation volume\", \n",
    "                                    Lunit=constants['Mpc'], \n",
    "                                    aFact=1.0, \n",
    "                                    hFact=-1.0)\n",
    "            box      = {'Value':boxsize, 'Info':boxunit}\n",
    "\n",
    "            h        = header['HubbleParam']\n",
    "            #\n",
    "            cosmo    = {'Redshift'    : header['Redshift'], \n",
    "                        'HubbleParam' : h,\n",
    "                        'OmegaMatter' : header['Omega0'],\n",
    "                        'OmegaBaryon' : header['OmegaBaryon'],\n",
    "                        'OmegaLambda' : header['OmegaLambda']}            \n",
    "            \n",
    "            numpartval   = header['NumPart_Total'][0]\n",
    "            numpartunit  = self.SetUnit(vardescription=\"Total number of gas particles in the simulation\", \n",
    "                                    Lunit=1, \n",
    "                                    aFact=0, \n",
    "                                    hFact=0)\n",
    "            numpart      = {'Value':numpartval,'Info':numpartunit}\n",
    "            \n",
    "            \n",
    "            initMassTable = header['MassTable']\n",
    "            \n",
    "            DMmass        = initMassTable[1]\n",
    "            OmegaDM       = (cosmo['OmegaMatter']-cosmo['OmegaBaryon'])\n",
    "            Gasmass       = DMmass * (cosmo['OmegaBaryon']/OmegaDM)\n",
    "            \n",
    "            Dmunit        = self.SetUnit(vardescription=\"Initial Dark Matter mass\", \n",
    "                                    Lunit=1.989e43,                                     \n",
    "                                    aFact=0, \n",
    "                                    hFact=-1)\n",
    "            Gmunit        = self.SetUnit(vardescription=\"Initial Gass particle mass\", \n",
    "                                    Lunit=1.989e43,                                     \n",
    "                                    aFact=0, \n",
    "                                    hFact=-1)\n",
    "            DMmass        = {'Value':DMmass,'Info':Dmunit}\n",
    "            Gasmass       = {'Value':Gasmass,'Info':Gmunit}\n",
    "            MassTable     = {'DarkMatterMass':DMmass,'GasMass':Gasmass}\n",
    "                            \n",
    "        # compute some extra variables\n",
    "        H0            = h * 100 * 1e5 / constants[\"Mpc\"]      # H0 in 1/s\n",
    "        rhoc          = 3*H0**2 / (8*np.pi*constants[\"Grav\"]) # critical density in g/cm^3\n",
    "        cosmo[\"H0\"]   = H0\n",
    "        cosmo[\"rhoc\"] = rhoc\n",
    "        cosmo[\"rhob\"] = rhoc * cosmo[\"OmegaBaryon\"]\n",
    "            \n",
    "        Header = {'BoxSize':box, 'Cosmo' : cosmo, 'NumPartTot':numpart, 'MassTable':MassTable}\n",
    "        \n",
    "        return Header\n",
    "    \n",
    "    def ReadParticles(self, specparams = None):\n",
    "        \n",
    "        \n",
    "        ''' Read particles along a given sight line\n",
    "        \n",
    "        input: Wizardparams (output from Specwizard_BuildInput)\n",
    "        sightline  = {'x-axis': 0, 'y-axis':1, 'z-axis': 2, 'x-position':0.0, 'y-position':0.0, 'nsight' : 0}\n",
    "        \n",
    "        For LOS output we will simply read sight line number nsight from the file\n",
    "        \n",
    "        If snaptype is not LOS, we read a full snapshot. Which sight line to extract is set as follows:\n",
    "        \n",
    "        The sightline is parallel to the z-axis, and goes through the pt with (x,y) coordinates (x-position, y-position)\n",
    "        (with units the same as those of the simulation)\n",
    "        The integers x-axis, y-axis, z-axis decide which of the coordinates of the particle, correspond to this new set of axes.\n",
    "\n",
    "        For example, for (x-axis=2, y-axis=1, z-axis=0), the sight line will - in the coordinates of the simulation,\n",
    "        be along the x-axis, and go through the point with (y,z) = (x-position, y-position)\n",
    "        \n",
    "        \n",
    "        Output:\n",
    "           This routine outputs a dictionary\n",
    "           'Particles' are the proerties of the SPH particles read in\n",
    "           'SightInfo' is extra information on this sight line\n",
    "        \n",
    "        '''\n",
    "        sightline = specparams['sightline']\n",
    "        sightline['short-LOS'] = False\n",
    "        sim_keys  = get_simkeys(self.simtype)\n",
    "        groupdic  = sim_keys[self.snaptype]\n",
    "        self.groupdic = groupdic\n",
    "        # If we are using a los output we read the spacial information regarding the sightline.\n",
    "        if self.snaptype == 'los':\n",
    "            groupname    = groupdic['groupname'].format(sightline['nsight'])\n",
    "            sightline_s  = self.ReadGroup(groupname = groupname)\n",
    "            try:\n",
    "                num_particles = sightline_s[groupdic['Number_of_part_this_los']]\n",
    "            except: \n",
    "                num_particles = 0\n",
    "            box_size = self.header[\"BoxSize\"]['Value'][0]\n",
    "            xaxis  = sightline_s[groupdic['x-axis']]\n",
    "            yaxis  = sightline_s[groupdic['y-axis']]\n",
    "            zaxis  = sightline_s[groupdic['z-axis']]\n",
    "            xpos   = sightline_s[groupdic['x-position']] / box_size\n",
    "            ypos   = sightline_s[groupdic['y-position']] / box_size\n",
    "            zpos   = 0 \n",
    "\n",
    "            sightline    = { 'nsight': sightline['nsight'], \n",
    "                            'Number_of_part_this_los': num_particles,\n",
    "                             'x-axis': xaxis,\n",
    "                             'x-position': xpos,\n",
    "                             'y-axis': yaxis,\n",
    "                             'y-position': ypos,\n",
    "                             'z-axis': zaxis,\n",
    "                             'z-position': zpos}\n",
    "            if self.simtype == 'swift':\n",
    "                sightline['z-position'] = 0.\n",
    "                sightline['x-axis']     = xaxis[0]\n",
    "                sightline['y-axis']     = yaxis[0]\n",
    "                sightline['z-axis']     = zaxis[0]  \n",
    "            sightline['short-LOS'] = False\n",
    "            sightline['ProjectionLength'] = 1\n",
    "\n",
    "        #if snapshot output is used then we will construct the LOS using the BuildLOS function. \n",
    "        else:\n",
    "            groupname  = groupdic['groupname']\n",
    "            self.BuildLOS(sightline)\n",
    "\n",
    "\n",
    "\n",
    "        particles = {'Densities'        : self.ReadVariable(varname = groupname + '/' + groupdic['Densities']),\n",
    "                     'SmoothingLengths' : self.ReadVariable(varname = groupname + '/' + groupdic['SmoothingLengths']),\n",
    "                     'Masses'           : self.ReadVariable(varname = groupname + '/' + groupdic['Masses']),\n",
    "                     'Positions'        : self.ReadVariable(varname = groupname + '/' + groupdic['Positions']),\n",
    "                     'Velocities'       : self.ReadVariable(varname = groupname + '/' + groupdic['Velocities']),\n",
    "                     'Temperatures'     : self.ReadVariable(varname = groupname + '/' + groupdic['Temperatures']),\n",
    "                     'Elements'         : None, \n",
    "                     'Abundances'       : None  }\n",
    "\n",
    "        #We read the element fractions to do, if not found primordial quantities are used. \n",
    "        abundances = {}\n",
    "        unit       = self.SetUnit(vardescription = 'mass fraction of element', \n",
    "                                            Lunit=1.0, aFact=0.0, hFact=0.0)\n",
    "\n",
    "        elementnames     = groupdic['elementnames']\n",
    "        userions         = self.fileparams['ionparams']['Ions']\n",
    "        elements_we_want = np.array([userions[i][0] for i in range(len(userions))])\n",
    "        elements2do      = np.intersect1d(elements_we_want,elementnames)\n",
    "        \n",
    "        try:    \n",
    "            if len(elements2do) == 0:\n",
    "                print(\"ERROR! No valid element or element name!\")\n",
    "\n",
    "            for elementname in elements2do:\n",
    "\n",
    "                values  = self.ReadVariable(varname = groupname +'/'+ groupdic['ElementAbundance']+'/'+ elementname)['Value']\n",
    "                info    = unit\n",
    "                abundances[elementname] = {'Value':values, 'Info': unit}\n",
    "            particles['Elements']   = elements2do\n",
    "            particles['Abundances'] = abundances\n",
    "        except:\n",
    "            print(\"Element fraction not found using primordial quantities...\")\n",
    "            hydrogen    = np.zeros_like(particles['Densities']['Value']) + 1. - constants['Y']\n",
    "            abundances['Hydrogen'] = {'Value':hydrogen, 'Info':unit}\n",
    "            helium      = np.zeros_like(particles['Densities']['Value']) + constants['Y']\n",
    "            abundances['Helium']  = {'Value':helium, 'Info':unit}\n",
    "            particles['Elements']   = elements2do\n",
    "            particles['Abundances'] = abundances\n",
    "\n",
    "        #Check if metallicities are available. \n",
    "        try: \n",
    "            metallicities  = self.ReadVariable(varname = groupname + '/' + groupdic['Metallicities'])\n",
    "            particles['Metallicities'] = metallicities\n",
    "        except:\n",
    "            print(\"Warning! Metallicities not found. Setting them to zero.\")\n",
    "            metallicity = np.zeros_like(particles['Densities']['Value'])\n",
    "            unit        = self.SetUnit(vardescription = 'mass fraction of metals', \n",
    "                                       Lunit=1.0, aFact=0, hFact=0)\n",
    "            particles['Metallicities'] = {'Value':metallicity, 'Info':unit} \n",
    "\n",
    "        #Will modify the star formation rate particles if requested\n",
    "\n",
    "        if specparams['ionparams']['SFR_properties']['modify_particle']:\n",
    "            try:\n",
    "                \n",
    "                SFR    = self.ReadVariable(varname = groupname + '/' + groupdic['StarFormationRate'])\n",
    "                particles['StarFormationRate'] = SFR\n",
    "            except:\n",
    "                print('Warning! Not able to read Star formation Rate properties...setting SFR to zero!')\n",
    "                SFR    = np.zeros_like(particles['Masses']['Value']) \n",
    "                unit        = self.SetUnit(vardescription = 'Star Formation Rate', \n",
    "                               Lunit=1.0, aFact=0, hFact=0)\n",
    "                particles['StarFormationRate'] = {'Value':SFR, 'Info':unit}   \n",
    "\n",
    "        if (self.simtype == 'swift') or (self.simtype == 'colibre'):        \n",
    "            FWHM = 0.362\n",
    "            particles['SmoothingLengths'][\"Value\"] /= FWHM\n",
    "            print(\"We divide Swift's smoothing length by {0:1.3f} to convert from FWHM to extent of finite support\".format(FWHM))\n",
    "#super uglY need to imporve!!\n",
    "\n",
    "\n",
    "        if (self.simtype == 'colibre'):\n",
    "            \n",
    "            particles['SimulationIonFractions'] = self.ReadAndShapeIonFrac(particles,userions,groupname,groupdic)\n",
    "        \n",
    "        \n",
    "        particles['Positions']['Value'] = self.flip_los(particles['Positions']['Value'],sightline)\n",
    "        particles['Velocities']['Value'] = self.flip_los(particles['Velocities']['Value'],sightline)\n",
    "\n",
    "\n",
    "        # compute the velocity extent of the simulation volume in the sightline direction\n",
    "        z_axis  = sightline[\"z-axis\"]        \n",
    "        box_cgs = self.ToCGS(self.header[\"BoxSize\"])[z_axis]       # in proper cm\n",
    "        box_kms = box_cgs * self.Hubble() / 1e5                    # in km/s\n",
    "        unit    = self.SetUnit(vardescription='Extent of simulation volume in direction of projection in terms of Hubble velocity',\n",
    "                        Lunit  = 1e5,\n",
    "                        aFact  = 0.,\n",
    "                        hFact  = 0.)\n",
    "        \n",
    "        sightline[\"Boxkms\"] = {'Value': box_kms, 'Info': unit}\n",
    "        #\n",
    "        box      = self.header[\"BoxSize\"][\"Value\"][z_axis]\n",
    "        unit     = self.SetUnit(vardescription=self.header[\"BoxSize\"][\"Info\"][\"VarDescription\"],\n",
    "                        Lunit  = self.header[\"BoxSize\"][\"Info\"]['CGSConversionFactor'],\n",
    "                        aFact  = self.header[\"BoxSize\"][\"Info\"]['aexp-scale-exponent'],\n",
    "                        hFact  = self.header[\"BoxSize\"][\"Info\"]['h-scale-exponent'])\n",
    "        box      = {'Value':box, 'Info': unit}\n",
    "        sightline[\"Box\"] = box\n",
    "        \n",
    "        self.fileparams['sightline'] = sightline\n",
    "        return {'SightInfo': sightline, 'Particles' : particles, 'Header': self.header}\n",
    "                \n",
    "    def Hubble(self):\n",
    "        ''' Hubble constant at redshift z, in units 1/s'''\n",
    "        Hz  = self.header[\"Cosmo\"][\"H0\"]\n",
    "        z   = self.header[\"Cosmo\"][\"Redshift\"]\n",
    "        Hz *= np.sqrt(self.header[\"Cosmo\"][\"OmegaMatter\"] * (1.+z)**3 + self.header[\"Cosmo\"][\"OmegaLambda\"])\n",
    "        return Hz\n",
    "    \n",
    "    def FormatTxt(self,text):\n",
    "        return text.lower().replace(\" \",\"\")\n",
    "        \n",
    "    def SetUnit(self, vardescription = 'text describing variable', Lunit=constants['Mpc'], aFact=1.0, hFact=1.0):\n",
    "        return {'VarDescription': vardescription, 'CGSConversionFactor':Lunit, 'aexp-scale-exponent' :aFact, 'h-scale-exponent': hFact}\n",
    "  \n",
    "    def ReadAndShapeIonFrac(self,particles,userions,groupname,groupdic):\n",
    "        \n",
    "        if self.simtype == 'colibre':\n",
    "            \n",
    "            atomfile = self.fileparams['ionparams']['atomfile']\n",
    "            elements = Elements(atomfile)\n",
    "            elementnames = [name[0] for name in userions] \n",
    "            elements_info = elements.ElementParameters(ElementNames=elementnames)\n",
    "\n",
    "            IonFracs = {}\n",
    "            colfile    = h5py.File(self.fname,'r')\n",
    "            col_ions   = colfile['SubgridScheme']['NamedColumns']['SpeciesFractions'][...].astype('str')\n",
    "            Abundances = particles['Abundances']\n",
    "            dens_cgs   = self.ToCGS(particles['Densities'])\n",
    "            nH         = dens_cgs * Abundances['Hydrogen']['Value'] / constants['mH']\n",
    "            \n",
    "            for elements, ion in userions:\n",
    "                mass_e   =  elements_info[elements]['Weight'] * constants['amu']\n",
    "                ne       = dens_cgs * Abundances[elements]['Value'] / mass_e\n",
    "                ion_formated = self.FormatTxt(ion)\n",
    "                col_ions_formated = np.array([self.FormatTxt(col_ion) for col_ion in col_ions])\n",
    "                ions_indx = np.where(col_ions_formated==ion_formated)[0]\n",
    "                if len(ions_indx) ==0:\n",
    "                    continue\n",
    "                ionname   = str(col_ions[ions_indx][0])\n",
    "                IonFrac = self.ReadVariable(varname = groupname + '/' + groupdic['IonFractions'] + '/'+ ionname)\n",
    "                IonFrac['Value'] = IonFrac['Value'] * (nH/ne)\n",
    "                \n",
    "                IonFracs[ion] = {'Value': IonFrac['Value'],'Info': IonFrac['Info']}\n",
    "            return IonFracs\n",
    "        \n",
    "    def ReadVariable(self, varname = 'LOS1/Density'):\n",
    "        if self.simtype == 'eagle':\n",
    "            info   = self.ReadGroup(groupname = varname)\n",
    "            # The meta data of the velocities is incorrect in gadget los files\n",
    "            # The output in the file is the internal velocity unit, a^2 dx/dt.\n",
    "            # To correct this to proper peculiar velocity, we need to divide by the expansion factor\n",
    "            if self.snaptype == 'los':\n",
    "                if self.IsVelocity(varname):\n",
    "                    info[\"VarDescription\"]      = 'Co-moving velocities. Physical v_p = a dx/dt  = Velocities a^(-1) U_V [cm/s]'\n",
    "                    info['aexp-scale-exponent'] = -1\n",
    "\n",
    "                hfile  = h5py.File(self.fname, \"r\")\n",
    "                values = np.array(hfile[varname][...])\n",
    "                hfile.close()\n",
    "                \n",
    "            elif self.snaptype == 'snapshot':\n",
    "                varname_frmtd = varname.replace(\"PartType0/\",\"\")\n",
    "                values = self.RE_snap.read_dataset(0,varname_frmtd)[self.los_mask]\n",
    "                \n",
    "        if (self.simtype == 'swift') or (self.simtype =='colibre'):\n",
    "            check_for_elmt = varname.split('/')\n",
    "            \n",
    "            if check_for_elmt[1]==self.groupdic['ElementAbundance']:\n",
    "                varname_aux = 'PartType0/ElementMassFractions'\n",
    "                info_s  = self.ReadGroup(groupname = varname_aux)\n",
    "                \n",
    "            elif check_for_elmt[1]==self.groupdic['Metallicities']:\n",
    "                varname_aux = 'PartType0/MetalMassFractions'\n",
    "                info_s  = self.ReadGroup(groupname = varname_aux)\n",
    "\n",
    "            elif check_for_elmt[1]==self.groupdic['StarFormationRate']:\n",
    "                varname_aux = 'PartType0/StarFormationRates'\n",
    "                info_s  = self.ReadGroup(groupname = varname_aux)\n",
    "            \n",
    "            \n",
    "            elif self.simtype == 'colibre':\n",
    "                if check_for_elmt[1]==self.groupdic['IonFractions']:\n",
    "                    varname_aux = 'PartType0/SpeciesFractions'\n",
    "                    info_s  = self.ReadGroup(groupname = varname_aux)\n",
    "                else:\n",
    "                    info_s  = self.ReadGroup(groupname = varname)\n",
    "\n",
    "            else:\n",
    "                info_s  = self.ReadGroup(groupname = varname)\n",
    "                    \n",
    "                    \n",
    "            info    = {'VarDescription': info_s['Description'] + info_s['Expression for physical CGS units'],\n",
    "                       'CGSConversionFactor': info_s['Conversion factor to CGS (not including cosmological corrections)'][0],\n",
    "                       'h-scale-exponent': info_s['h-scale exponent'][0],\n",
    "                       'aexp-scale-exponent': info_s['a-scale exponent'][0]}\n",
    "                \n",
    "            if self.snaptype == 'los':\n",
    "                hfile  = h5py.File(self.fname, \"r\")\n",
    "                values = np.array(hfile[varname][...])\n",
    "                hfile.close()\n",
    "            \n",
    "            elif self.snaptype == 'snapshot':\n",
    "                varname_frmtd = varname.replace(\"PartType0/\",\"\")\n",
    "                varname_frmtd = varname_frmtd.split(\"/\")\n",
    "                if varname_frmtd[0] == 'SmoothingLengths':\n",
    "                    varname_frmtd = 'smoothing_lengths'\n",
    "                    values = (getattr(self.SW_snap.gas,varname_frmtd).value)[self.los_mask]\n",
    "\n",
    "                elif varname_frmtd[0] == self.groupdic['ElementAbundance']:\n",
    "                    varname_frmtd[0] = 'element_mass_fractions'\n",
    "                    varname_frmtd[1] =varname_frmtd[1].lower()\n",
    "                    values = (getattr(getattr(self.SW_snap.gas,varname_frmtd[0]),varname_frmtd[1]).value)[self.los_mask]\n",
    "                \n",
    "                \n",
    "                elif self.simtype == 'colibre':\n",
    "                    if varname_frmtd[0] == self.groupdic['IonFractions']:\n",
    "                        values = (getattr(getattr(self.SW_snap.gas,'species_fractions'),varname_frmtd[1]).value)[self.los_mask]\n",
    "\n",
    "                    else:\n",
    "                        varname_frmtd = varname_frmtd[0].lower()\n",
    "                        values = (getattr(self.SW_snap.gas,varname_frmtd).value)[self.los_mask]\n",
    "\n",
    "                else:\n",
    "                    varname_frmtd = varname_frmtd[0].lower()\n",
    "                    values = (getattr(self.SW_snap.gas,varname_frmtd).value)[self.los_mask]\n",
    "                    \n",
    "        if self.simtype == 'hydrangea':\n",
    "            info   = self.ReadGroup(groupname = varname)\n",
    "            if self.snaptype == 'los':\n",
    "                hfile  = h5py.File(self.fname, \"r\")\n",
    "                values = np.array(hfile[varname][...])\n",
    "                hfile.close()\n",
    "            elif self.snaptype == 'snapshot':\n",
    "                varname_frmtd = varname.replace(\"PartType0/\",\"\")\n",
    "                values = self.HY_snap.read_data(varname_frmtd)[self.los_mask]\n",
    "\n",
    "                \n",
    "        return {'Value': values, 'Info': info}\n",
    "        \n",
    "    def CGSunit(self, variable):\n",
    "        ''' \n",
    "        Use the information in the variable to compute the factor needed to convert\n",
    "        simulation values to proper, h-free cgs units.\n",
    "        This is of the form\n",
    "        proper value = simulation value * CGSunit, where\n",
    "        CGSunit = CGSConversionFactor * h**hexpo * a**aexpo\n",
    "        '''\n",
    "        #dependence on expansion factor\n",
    "        ascale     = (1./(1+self.header[\"Cosmo\"][\"Redshift\"]))**variable[\"Info\"][\"aexp-scale-exponent\"]\n",
    "\n",
    "        # dependence on hubble parameter\n",
    "        hscale     = (self.header[\"Cosmo\"][\"HubbleParam\"])**variable[\"Info\"][\"h-scale-exponent\"]\n",
    "        \n",
    "        #\n",
    "        return variable[\"Info\"][\"CGSConversionFactor\"] * ascale * hscale\n",
    "        \n",
    "        \n",
    "    def ToCGS(self, variable):\n",
    "        ''' \n",
    "        return simulations values for this variable in proper cgs units (no h)\n",
    "        '''\n",
    "        return variable[\"Value\"] * self.CGSunit(variable)\n",
    "    \n",
    "    \n",
    "    def flip_los(self,data,sightinfo):\n",
    "        '''\n",
    "        This function will put the long projected axis as the third column in the output.\n",
    "        '''\n",
    "        \n",
    "        temp = data.copy()\n",
    "        temp[:,0] = data[:,sightinfo['x-axis']]\n",
    "        temp[:,1] = data[:,sightinfo['y-axis']]\n",
    "        temp[:,2] = data[:,sightinfo['z-axis']]\n",
    "\n",
    "        return temp \n",
    "    def BuildLOS(self,sightline):\n",
    "        '''\n",
    "        Build LOS from full snapshot, for eagle uses ReadEagle and for swift swiftsim io. We define a region and later an additional mask.\n",
    "        ouput: Will calculate self.snap and self.los_mask. The former contains a region defined by the simulation reading functions e,g ReadEagle.\n",
    "        and the latter is a more fine mask to only include particles that are within their smoothing length to sightline. \n",
    "        '''\n",
    "        \n",
    "        def MeanSeparationLenght(N,V):\n",
    "            ninv = V/N\n",
    "            return pow(ninv,1/3)\n",
    "                    \n",
    "        # We calculate the mean separation length to define the region that will be masked by the simulation reading function. \n",
    "        N = self.header['NumPartTot']['Value']\n",
    "        V = np.prod(self.header['BoxSize']['Value'])\n",
    "        msl_x3 = 3*MeanSeparationLenght(N,V)\n",
    "        # We get the los_lenght as a fraction and multiply by the box size so we can extract particles from \n",
    "        # z-position to z-position+los_length \n",
    "        \n",
    "        if sightline['ProjectionLength'] < 1:\n",
    "            sightline['short-LOS'] = True\n",
    "\n",
    "        los_length  = sightline['ProjectionLength']        \n",
    "        xpos        = sightline['x-position']\n",
    "        ypos        = sightline['y-position']\n",
    "        zpos        = sightline['z-position']\n",
    "        \n",
    "        box         = self.header['BoxSize']['Value'][0]\n",
    "    \n",
    "        los_length  *= box\n",
    "        xpos        *= box\n",
    "        ypos        *= box\n",
    "        zpos        *= box\n",
    "        \n",
    "        xmin,xmax = [xpos-msl_x3,xpos+msl_x3]\n",
    "        ymin,ymax = [ypos-msl_x3,ypos+msl_x3]\n",
    "        zmin,zmax = [zpos,zpos+los_length]\n",
    "        axis_dic = {sightline['x-axis']:[xmin,xmax],\n",
    "                    sightline['y-axis']:[ymin,ymax],\n",
    "                    sightline['z-axis']:[zmin,zmax]}\n",
    "\n",
    "        #Since the simulation reading functions use the simulation convention of axis we adjust them.\n",
    "        sim_xmin,sim_xmax = axis_dic[0]\n",
    "        sim_ymin,sim_ymax = axis_dic[1]\n",
    "        sim_zmin,sim_zmax = axis_dic[2]\n",
    "        \n",
    "\n",
    "        # The functions do not return a very narrow region, so we use the smoothing lengths to mask further the LOS.\n",
    "        if self.simtype == 'eagle':\n",
    "            \n",
    "            self.RE_snap = read_eagle.EagleSnapshot(self.fname)\n",
    "            self.RE_snap.select_region(sim_xmin,sim_xmax,sim_ymin,sim_ymax,sim_zmin,sim_zmax)            \n",
    "            SmoothingL = self.RE_snap.read_dataset(0,'SmoothingLength')\n",
    "            Positions  = self.RE_snap.read_dataset(0,'Coordinates')\n",
    "\n",
    "    \n",
    "        elif (self.simtype == 'swift') or (self.simtype == 'colibre'):\n",
    "\n",
    "            swif_mask = sw.mask(self.fname)\n",
    "            Sboxsize = swif_mask.metadata.boxsize[0]\n",
    "            oneMpc =  Sboxsize/Sboxsize.value                   #Since swiftsimIO uses units we have to \n",
    "            load_region = [[sim_xmin*oneMpc,sim_xmax*oneMpc],[sim_ymin*oneMpc,sim_ymax*oneMpc],[sim_zmin*oneMpc,sim_zmax*oneMpc]]\n",
    "            swif_mask.constrain_spatial(load_region)\n",
    "\n",
    "            self.SW_snap = sw.load(self.fname, mask=swif_mask)\n",
    "            SmoothingL = self.SW_snap.gas.smoothing_lengths.value\n",
    "            Positions  = self.SW_snap.gas.coordinates.value\n",
    "                        \n",
    "        elif self.simtype == 'hydrangea':\n",
    "            # To read a region in hydrangea you have to define it as a rectangle, \n",
    "            # and you have to define where it is centered stp and it's  length given\n",
    "            # by half of the sides.\n",
    "            axis_2lenght = los_length * 0.5            \n",
    "            stp = np.array([sim_xmin+msl_x3,sim_ymin+msl_x3,sim_zmin+axis_2lenght])\n",
    "\n",
    "            if sightline['z-axis']==0:\n",
    "                stp = np.array([sim_xmin+axis_2lenght,sim_ymin+msl_x3,sim_zmin+msl_x3])\n",
    "                otp = np.array([axis_2lenght,msl_x3,msl_x3])             \n",
    "            elif sightline['z-axis']==1:\n",
    "                stp = np.array([sim_xmin+msl_x3,sim_ymin+axis_2lenght,sim_zmin+msl_x3])\n",
    "                otp = np.array([msl_x3,axis_2lenght,msl_x3])\n",
    "            else:\n",
    "                otp = np.array([msl_x3,msl_x3,axis_2lenght])\n",
    "                \n",
    "            self.HY_snap = hy.ReadRegion(self.fname, part_type=0,anchor=stp,size= otp,shape='box',units='data')\n",
    "            SmoothingL   =  self.HY_snap.read_data('SmoothingLength') \n",
    "\n",
    "            Positions    = self.HY_snap.read_data(\"Coordinates\")\n",
    "        \n",
    "        self.los_mask = np.where((Positions[:,sightline['x-axis']]>(xpos-SmoothingL)) & (Positions[:,sightline['x-axis']]<(xpos+SmoothingL))\n",
    "                               & (Positions[:,sightline['y-axis']]>(ypos-SmoothingL)) & (Positions[:,sightline['y-axis']]<((ypos+SmoothingL)))\n",
    "                               & (Positions[:,sightline['z-axis']]>zpos) & (Positions[:,sightline['z-axis']]<((zpos+los_length))))[0]\n",
    "\n",
    "\n",
    "            \n",
    "    def ReadGroup(self, groupname ='Header'):\n",
    "        # read all entries for this particular hdf5 group\n",
    "        hfile = h5py.File(self.fname, \"r\")\n",
    "        group    = hfile[groupname]\n",
    "        grp_dict = {}\n",
    "        for k in group.attrs.keys():\n",
    "            grp_dict[k]= group.attrs[k]\n",
    "        \n",
    "        hfile.close()\n",
    "    \n",
    "        return dict(grp_dict)\n",
    "    \n",
    "    def IsVelocity(self, name):\n",
    "        # Check whether we are reading the velocity variable\n",
    "        words    = name.split('/')\n",
    "        Velocity = False\n",
    "        for word in words:\n",
    "                if (word == 'Velocity') or (word == 'Velocities'):\n",
    "                    Velocity = True\n",
    "        return Velocity    "
   ]
  },
  {
   "cell_type": "markdown",
   "id": "artificial-sweet",
   "metadata": {},
   "source": [
    "## Example\n",
    "-   [Input$\\;$Examples](#Input$\\;$Examples)\n",
    "    -   [Eagle LOS](#Eagle$\\;$LOS$\\;$example) \n",
    "    -   [Eagle snapshot](#Eagle$\\;$snapshot$\\;$example)\n",
    "    -   [Swift LOS](#Swift$\\;$LOS$\\;$example)\n",
    "    -   [Swift snapshot](#Swift$\\;$snapshot$\\;$example)\n",
    "    -   [Hydrangea snapshot](#Hydrangea$\\;$snapshot$\\;$example)\n",
    "    -   [Colibre_snapshot](#Colibre)\n",
    "-   [Output$\\;$Examples](#Output$\\;$Examples)\n",
    "    - [Data$\\;$structure](#Data$\\;$structure)"
   ]
  },
  {
   "cell_type": "markdown",
   "id": "geological-stand",
   "metadata": {},
   "source": [
    "## Input$\\;$Examples"
   ]
  },
  {
   "cell_type": "markdown",
   "id": "a786e333-8158-44f9-b57e-4ddcef9c1b7d",
   "metadata": {},
   "source": [
    "We first load the class"
   ]
  },
  {
   "cell_type": "code",
   "execution_count": 50,
   "id": "de3c5a4f-f0d3-4309-bcb5-b8bd1f014869",
   "metadata": {},
   "outputs": [],
   "source": [
    "import SpecWizard_Input\n",
    "Alternative_SpecWizard_Input = importlib.reload(SpecWizard_Input)\n",
    "from SpecWizard_Input import ReadSnap"
   ]
  },
  {
   "cell_type": "markdown",
   "id": "16f71fb7",
   "metadata": {},
   "source": [
    "Here we illustrate the usage of this class. For this we will use the class ``SpecWizard_BuildInput`` (For further explanation of this class look at ``SpecWizard_BuildInput.ipynb`` notebook) \n"
   ]
  },
  {
   "cell_type": "code",
   "execution_count": 29,
   "id": "persistent-homework",
   "metadata": {},
   "outputs": [],
   "source": [
    "from SpecWizard_BuildInput import Build_Input"
   ]
  },
  {
   "cell_type": "code",
   "execution_count": 30,
   "id": "eligible-rolling",
   "metadata": {},
   "outputs": [],
   "source": [
    "BuildInput = Build_Input()"
   ]
  },
  {
   "cell_type": "markdown",
   "id": "patent-bobby",
   "metadata": {},
   "source": [
    "### Eagle$\\;$LOS$\\;$example "
   ]
  },
  {
   "cell_type": "code",
   "execution_count": 31,
   "id": "musical-warning",
   "metadata": {},
   "outputs": [],
   "source": [
    "BuildInput.FileType(sim_type='Eagle',snap_type='los')\n"
   ]
  },
  {
   "cell_type": "markdown",
   "id": "electric-seven",
   "metadata": {},
   "source": [
    "We will indicate the path and name of the file using ``BuildInput.SnapshotParams``"
   ]
  },
  {
   "cell_type": "code",
   "execution_count": 32,
   "id": "subtle-apartment",
   "metadata": {},
   "outputs": [],
   "source": [
    "snapdir = '/cosma7/data/Eagle/ScienceRuns/Planck1/L0100N1504/PE/REFERENCE/data/los/'\n",
    "snapfile = 'part_los_z3.275.hdf5'"
   ]
  },
  {
   "cell_type": "code",
   "execution_count": 33,
   "id": "auburn-proposal",
   "metadata": {},
   "outputs": [],
   "source": [
    "BuildInput.SnapshotParams(path=snapdir,file=snapfile)"
   ]
  },
  {
   "cell_type": "markdown",
   "id": "closed-father",
   "metadata": {},
   "source": [
    "In this case we will use the ionization tables generated by ``SpecWizardCloudy``. And the elements Hydrogen and Helium"
   ]
  },
  {
   "cell_type": "code",
   "execution_count": 34,
   "id": "separated-accessory",
   "metadata": {},
   "outputs": [],
   "source": [
    "table_type     = 'specwizard_cloudy'\n",
    "iondir         = '/cosma7/data/Eagle/SpecWizardCloudytables/HM12/'\n",
    "fname          = '' \n",
    "SFR_properties = {'modify_particle':True,'ignore_particle': False,\n",
    "                  'Temperature [K]':1e4}\n",
    "ElementIons    = [('Hydrogen','H I'),('Helium','HeII')]"
   ]
  },
  {
   "cell_type": "code",
   "execution_count": 35,
   "id": "valuable-recruitment",
   "metadata": {},
   "outputs": [],
   "source": [
    "BuildInput.SetIonTableParams(table_type=table_type,iondir=iondir,ions=ElementIons,fname=fname,SFR_properties=SFR_properties)"
   ]
  },
  {
   "cell_type": "markdown",
   "id": "given-provincial",
   "metadata": {},
   "source": [
    " Finally we provide the information for the spatial specifics of the sightline. Using ``BuildInput.Sightline()``. Since we are dealing with a ``LOS`` output, the only needed parameter is ``nsight``. Which will indicate the corresponding sightline in the file. For exmaple ``nsight=3`` -> ``LOS3`` in the eagle ``.hdf5`` file. "
   ]
  },
  {
   "cell_type": "code",
   "execution_count": 36,
   "id": "threaded-korean",
   "metadata": {},
   "outputs": [],
   "source": [
    "Wizard = BuildInput.Sightline(nsight=3)"
   ]
  },
  {
   "cell_type": "markdown",
   "id": "latter-boulder",
   "metadata": {},
   "source": [
    "We initialize the ``RedSnap`` class "
   ]
  },
  {
   "cell_type": "code",
   "execution_count": 37,
   "id": "abstract-daily",
   "metadata": {},
   "outputs": [],
   "source": [
    "snapshot  = ReadSnap(fileparams = Wizard)"
   ]
  },
  {
   "cell_type": "markdown",
   "id": "unusual-consumer",
   "metadata": {},
   "source": [
    "And we use the function ``ReadSnap.ReadParticles`` to obtain the necesarry particle information for the later processing of the spectra, that will be return as a dictionary."
   ]
  },
  {
   "cell_type": "code",
   "execution_count": 38,
   "id": "antique-monitoring",
   "metadata": {},
   "outputs": [],
   "source": [
    "particles = snapshot.ReadParticles(specparams = Wizard)"
   ]
  },
  {
   "cell_type": "markdown",
   "id": "knowing-romantic",
   "metadata": {},
   "source": [
    "This output shape is indendent of the type of simulation. You can expect the same fields and structure for the other simulation types and output files. "
   ]
  },
  {
   "cell_type": "markdown",
   "id": "talented-toolbox",
   "metadata": {},
   "source": [
    "### Eagle$\\;$snapshot$\\;$example "
   ]
  },
  {
   "cell_type": "markdown",
   "id": "alert-trinidad",
   "metadata": {},
   "source": [
    "For the case of a ``snapshot`` output, letting the same ionization table and elements. We can use the same input as above except for using ``snap_type='snapshot'``, the location and the name of the file. And more importantly the sightline parameters. "
   ]
  },
  {
   "cell_type": "code",
   "execution_count": 51,
   "id": "monthly-kansas",
   "metadata": {},
   "outputs": [],
   "source": [
    "BuildInput.FileType(sim_type='EAGLE',snap_type='snapshot')\n"
   ]
  },
  {
   "cell_type": "code",
   "execution_count": 52,
   "id": "unnecessary-biotechnology",
   "metadata": {},
   "outputs": [],
   "source": [
    "snapdir = '/cosma7/data/Eagle/ScienceRuns/Planck1/L0100N1504/PE/REFERENCE/data/snapshot_019_z001p004'\n",
    "snapfile = 'snap_019_z001p004.0.hdf5'"
   ]
  },
  {
   "cell_type": "code",
   "execution_count": 53,
   "id": "romance-brooklyn",
   "metadata": {},
   "outputs": [],
   "source": [
    "BuildInput.SnapshotParams(path=snapdir,file=snapfile)"
   ]
  },
  {
   "cell_type": "code",
   "execution_count": 54,
   "id": "understood-arrangement",
   "metadata": {},
   "outputs": [],
   "source": [
    "table_type     = 'specwizard_cloudy'\n",
    "iondir         = '/cosma7/data/Eagle/SpecWizardCloudytables/HM12/'\n",
    "fname          = '' \n",
    "SFR_properties = {'modify_particle':True,'ignore_particle': False,\n",
    "                  'Temperature [K]':1e4}\n",
    "ElementIons    = [('Hydrogen','H I'),('Helium','HeII')]"
   ]
  },
  {
   "cell_type": "code",
   "execution_count": 55,
   "id": "dying-integrity",
   "metadata": {},
   "outputs": [],
   "source": [
    "BuildInput.SetIonTableParams(table_type=table_type,iondir=iondir,ions=ElementIons,fname=fname,SFR_properties=SFR_properties)"
   ]
  },
  {
   "cell_type": "markdown",
   "id": "behind-badge",
   "metadata": {},
   "source": [
    "Since we are building the sightline from the snapthot. We need to provide the specifics of where in the simulation box the sightline will be. First we need define what are the correspondence between the projection and the simulation axes. For this we will use the ``ProjectionAxes`` input from ``BuildInput.Sightline``. Let's do the following case:\n",
    "\n",
    "``ProjectionAxes  = ('ysim','zsim','xsim')``\n",
    "\n",
    "This means that the long-projected axis (``zaxis``) of our sightline will be parallel to the ``x-axis(xsim)`` of the simulation, and that the sightline will pearse through a point in the $(y,z)$ plane of the simulation. \n",
    "\n",
    "We make use of ``ProjectionStart`` to set the points, in the simulation in which the sightline will start, this as a fraction of the boxsize. For example:\n",
    "\n",
    "``ProjectionStart = (0.30,0.5,0)`` \n",
    "This means, taking into account the previous ``ProjectionAxes`` configuration, that the sightline will start at $x_{sim}=0$ and go through the points $(y,z)=(0.30,0.5)*boxsize$\n",
    "\n",
    "Finally we just have to use ``ProjectionLength`` as a fraction of the boxsize, to indicate length of the sightline. The default value is 1, meaning that the sightline will have lenght equal to the boxsize."
   ]
  },
  {
   "cell_type": "code",
   "execution_count": 56,
   "id": "expected-hayes",
   "metadata": {},
   "outputs": [
    {
     "name": "stdout",
     "output_type": "stream",
     "text": [
      "Warning! nsight NOT found. Setting default value : 0\n"
     ]
    }
   ],
   "source": [
    "Wizard = BuildInput.Sightline(ProjectionAxes=('simy','simz','simx'),ProjectionStart=(0.30,0.5,0),ProjectionLength=1)"
   ]
  },
  {
   "cell_type": "markdown",
   "id": "attractive-commitment",
   "metadata": {},
   "source": [
    "As before we initilize ``ReadSnap`` with ``Wizard``"
   ]
  },
  {
   "cell_type": "code",
   "execution_count": 57,
   "id": "9c4b5b2e",
   "metadata": {},
   "outputs": [],
   "source": [
    "snapshot  = ReadSnap(fileparams = Wizard)"
   ]
  },
  {
   "cell_type": "markdown",
   "id": "reserved-secret",
   "metadata": {},
   "source": [
    "Since we are creating the sightline from the snapshot, the loading of the data will take sometime. This depends on the resolution of the simulation. Is important to note that the first time it runs will take longer, since the program has no information cached. But in the calculation of further sightlines the process will take less time. "
   ]
  },
  {
   "cell_type": "code",
   "execution_count": 58,
   "id": "national-christmas",
   "metadata": {},
   "outputs": [],
   "source": [
    "particles = snapshot.ReadParticles(specparams = Wizard)"
   ]
  },
  {
   "cell_type": "markdown",
   "id": "theoretical-aluminum",
   "metadata": {},
   "source": [
    "### Swift$\\;$LOS$\\;$example "
   ]
  },
  {
   "cell_type": "markdown",
   "id": "breathing-balance",
   "metadata": {},
   "source": [
    "\n",
    "For the case of for the swift and los output, is exactly the same configuration of [Eagle$\\;$LOS$\\;$example](#Eagle$\\;$LOS$\\;$example ). With the exception for ``snap_type=swift`` and in this example we will use a different IonizationTable"
   ]
  },
  {
   "cell_type": "code",
   "execution_count": 51,
   "id": "unsigned-threshold",
   "metadata": {},
   "outputs": [],
   "source": [
    "BuildInput.FileType(sim_type='swift',snap_type='los')"
   ]
  },
  {
   "cell_type": "code",
   "execution_count": 52,
   "id": "experimental-combination",
   "metadata": {},
   "outputs": [],
   "source": [
    "snapdir = '/cosma6/data/dp004/dc-aram1/VariableIMF/QLA_runs/L0025N2048/los/'\n",
    "snapfile = 'los_0048.hdf5'"
   ]
  },
  {
   "cell_type": "code",
   "execution_count": 53,
   "id": "white-course",
   "metadata": {},
   "outputs": [],
   "source": [
    "BuildInput.SnapshotParams(path=snapdir,file=snapfile)"
   ]
  },
  {
   "cell_type": "code",
   "execution_count": 54,
   "id": "greenhouse-month",
   "metadata": {},
   "outputs": [],
   "source": [
    "table_type     = 'Ploeckinger'\n",
    "iondir         = '/cosma6/data/dp004/dc-aram1/VariableIMF/pyspecwizard_main/sylviatables/'\n",
    "fname          = 'UVB_dust1_CR1_G1_shield1.hdf5' \n",
    "SFR_properties = {'modify_particle':True,'ignore_particle': False,\n",
    "                  'Temperature [K]':1e4}\n",
    "ElementIons    = [('Hydrogen','H I'),('Helium','HeII')]"
   ]
  },
  {
   "cell_type": "code",
   "execution_count": 55,
   "id": "sufficient-fifth",
   "metadata": {},
   "outputs": [],
   "source": [
    "BuildInput.SetIonTableParams(table_type=table_type,iondir=iondir,ions=ElementIons,fname=fname,SFR_properties=SFR_properties)"
   ]
  },
  {
   "cell_type": "code",
   "execution_count": 56,
   "id": "circular-breeding",
   "metadata": {},
   "outputs": [],
   "source": [
    "Wizard = BuildInput.Sightline(nsight=5)"
   ]
  },
  {
   "cell_type": "code",
   "execution_count": 57,
   "id": "seasonal-liberty",
   "metadata": {},
   "outputs": [],
   "source": [
    "snapshot  = ReadSnap(fileparams = Wizard)"
   ]
  },
  {
   "cell_type": "code",
   "execution_count": 58,
   "id": "corrected-animation",
   "metadata": {},
   "outputs": [
    {
     "name": "stdout",
     "output_type": "stream",
     "text": [
      "Element fraction not found using primordial quantities...\n",
      "Warning! Metallicities not found. Setting them to zero.\n",
      "Warning! Not able to read Star formation Rate properties...setting SFR to zero!\n",
      "We divide Swift's smoothing length by 0.362 to convert from FWHM to extent of finite support\n"
     ]
    }
   ],
   "source": [
    "particles = snapshot.ReadParticles(specparams = Wizard)"
   ]
  },
  {
   "cell_type": "markdown",
   "id": "4c391996-ecc6-44cb-bc05-8447ab6d7704",
   "metadata": {},
   "source": [
    "### Swift$\\;$snapshot$\\;$example "
   ]
  },
  {
   "cell_type": "code",
   "execution_count": 6,
   "id": "bcfc65d6-05d8-4b24-96d8-3f96a4212ab4",
   "metadata": {},
   "outputs": [],
   "source": [
    "BuildInput.FileType(sim_type='swift',snap_type='snapshot')"
   ]
  },
  {
   "cell_type": "code",
   "execution_count": 7,
   "id": "9b573eac-19c9-4f53-87e0-44d54135c35e",
   "metadata": {},
   "outputs": [],
   "source": [
    "snapdir = '/cosma6/data/dp004/dc-aram1/VariableIMF/QLA_runs/L0025N0752_SWFT/'\n",
    "snapfile = 'qla_0018.hdf5'"
   ]
  },
  {
   "cell_type": "code",
   "execution_count": 8,
   "id": "ab268543-cb49-434e-9188-2dd7a75cc46c",
   "metadata": {},
   "outputs": [],
   "source": [
    "BuildInput.SnapshotParams(path=snapdir,file=snapfile)"
   ]
  },
  {
   "cell_type": "code",
   "execution_count": 9,
   "id": "1551cb4e-e177-4d59-8639-4f398b1a4176",
   "metadata": {},
   "outputs": [],
   "source": [
    "table_type     = 'specwizard_cloudy'\n",
    "iondir         = '/cosma7/data/Eagle/SpecWizardCloudytables/HM12/'\n",
    "SFR_properties = {'modify_particle':True,'ignore_particle': False,\n",
    "                  'Temperature [K]':1e4}\n",
    "ElementIons    = [('Hydrogen','H I'),('Helium','HeII')]"
   ]
  },
  {
   "cell_type": "code",
   "execution_count": 11,
   "id": "f48988d6-27e1-4acc-be0d-0eecc280a807",
   "metadata": {},
   "outputs": [],
   "source": [
    "BuildInput.SetIonTableParams(table_type=table_type,iondir=iondir,ions=ElementIons,SFR_properties=SFR_properties)"
   ]
  },
  {
   "cell_type": "code",
   "execution_count": 12,
   "id": "505a35e6-0e23-4501-afe1-a25ffbae0b97",
   "metadata": {
    "tags": []
   },
   "outputs": [
    {
     "name": "stdout",
     "output_type": "stream",
     "text": [
      "Warning! nsight NOT found. Setting default value : 0\n"
     ]
    }
   ],
   "source": [
    "Wizard = BuildInput.Sightline(ProjectionAxes=('simy','simz','simx'),ProjectionStart=(0.30,0.5,0),ProjectionLength=1)"
   ]
  },
  {
   "cell_type": "code",
   "execution_count": 13,
   "id": "2c1c1e79-a452-4c93-864c-6cef5eddfc04",
   "metadata": {},
   "outputs": [],
   "source": [
    "snapshot  = ReadSnap(fileparams = Wizard)"
   ]
  },
  {
   "cell_type": "code",
   "execution_count": 14,
   "id": "c55a1923-121c-4b92-8282-a168197a8d0b",
   "metadata": {},
   "outputs": [
    {
     "name": "stdout",
     "output_type": "stream",
     "text": [
      "Element fraction not found using primordial quantities...\n",
      "Warning! Metallicities not found. Setting them to zero.\n",
      "Warning! Not able to read Star formation Rate properties...setting SFR to zero!\n",
      "We divide Swift's smoothing length by 0.362 to convert from FWHM to extent of finite support\n"
     ]
    }
   ],
   "source": [
    "particles = snapshot.ReadParticles(specparams = Wizard)"
   ]
  },
  {
   "cell_type": "code",
   "execution_count": 91,
   "id": "9b008e49-f353-4a3f-bc7a-6aed61291994",
   "metadata": {},
   "outputs": [
    {
     "data": {
      "text/plain": [
       "3.566394566536407e+39"
      ]
     },
     "execution_count": 91,
     "metadata": {},
     "output_type": "execute_result"
    }
   ],
   "source": [
    "snapshot.ToCGS(particles['Header']['MassTable']['GasMass'])"
   ]
  },
  {
   "cell_type": "markdown",
   "id": "b2519ba8-d60d-4df4-960a-6e401a6f18f4",
   "metadata": {
    "tags": []
   },
   "source": [
    "### Hydrangea$\\;$snapshot$\\;$example "
   ]
  },
  {
   "cell_type": "markdown",
   "id": "ccdaa8a4-82c8-47e4-b57f-88c483b9ff4f",
   "metadata": {},
   "source": [
    "The case of [Hydrangea (Bahé et al 2017)](https://arxiv.org/abs/1703.10610) simulation is a specific one. The simulation is a zoom-in simulation. Meaning that, we have a very big simulation box $\\sim 3 \\mathrm{cGpc}$, and we have a set of cluster regions that are re-calculated in a high resolution. Those clusters are saved in a their own set of ```.hdf5``` files, and set roughly in the center of the simulation.  \n",
    "Since the ```los``` files are not provided in the Hydrangea data we only offer snapshot support. "
   ]
  },
  {
   "cell_type": "markdown",
   "id": "24349276-115f-4560-8791-18b799d96113",
   "metadata": {},
   "source": [
    "We set up our input in a similar fashion as other snapshots. "
   ]
  },
  {
   "cell_type": "code",
   "execution_count": 79,
   "id": "6d81393c-2645-44d5-ba37-b77c541a00a9",
   "metadata": {},
   "outputs": [],
   "source": [
    "BuildInput.FileType(sim_type='hydrangea',snap_type='snapshot')"
   ]
  },
  {
   "cell_type": "code",
   "execution_count": 80,
   "id": "c1c9dcea-566e-4bd6-b16e-64b4a939c9dc",
   "metadata": {},
   "outputs": [],
   "source": [
    "snapdir = '/cosma5/data/dp004/C-EAGLE/Hydrangea/CE-0/HYDRO/data/snapshot_011_z001p017/'\n",
    "snapfile = 'snap_011_z001p017.0.hdf5'"
   ]
  },
  {
   "cell_type": "code",
   "execution_count": 81,
   "id": "ce1b5e1c-798b-425a-a192-6d8c56b0caa1",
   "metadata": {},
   "outputs": [],
   "source": [
    "BuildInput.SnapshotParams(path=snapdir,file=snapfile)"
   ]
  },
  {
   "cell_type": "code",
   "execution_count": 82,
   "id": "6d7738c4-b8ce-4c06-a8c2-e9ee5df47fe3",
   "metadata": {},
   "outputs": [],
   "source": [
    "table_type     = 'specwizard_cloudy'\n",
    "iondir         = '/cosma7/data/Eagle/SpecWizardCloudytables/HM12/'\n",
    "SFR_properties = {'modify_particle':True,'ignore_particle': False,\n",
    "                  'Temperature [K]':1e4}\n",
    "ElementIons    = [('Hydrogen','H I'),('Helium','HeII')]"
   ]
  },
  {
   "cell_type": "code",
   "execution_count": 83,
   "id": "60b1e233-f458-432b-bd4b-41bd271e6c4b",
   "metadata": {},
   "outputs": [],
   "source": [
    "BuildInput.SetIonTableParams(table_type=table_type,iondir=iondir,ions=ElementIons,SFR_properties=SFR_properties)"
   ]
  },
  {
   "cell_type": "markdown",
   "id": "bb53e5f2-7fad-442e-bee9-afa8f56a0830",
   "metadata": {},
   "source": [
    "For setting up the sightline for Hydrangea, we have to take special care. Since we are dealing with a very big simulation box, and we keep constant our input as a fraction of the boxsize. We have to be carefule with the decimal places, since this can be a difference of Mpc. Regarding the ```ProjectionLength``` now must be *way* smaller than 1. We recomend caution while calculating those quantites. "
   ]
  },
  {
   "cell_type": "code",
   "execution_count": 84,
   "id": "464707ad-1668-4447-b382-b85e57bdb0ac",
   "metadata": {},
   "outputs": [],
   "source": [
    "boxsize_cMpc = 3200.0\n",
    "ProjectionLength = 13/boxsize_cMpc\n",
    "linestart_x      = 1606.0056072008265/boxsize_cMpc\n",
    "linestart_y      = 1598.8195366681423/boxsize_cMpc\n",
    "linestart_z      = 1597.934189169249/boxsize_cMpc"
   ]
  },
  {
   "cell_type": "code",
   "execution_count": 85,
   "id": "26f7ada8-3fe9-49f7-8150-b3a3f8dc0b5e",
   "metadata": {},
   "outputs": [
    {
     "name": "stdout",
     "output_type": "stream",
     "text": [
      "Warning! nsight NOT found. Setting default value : 0\n",
      "Warning! You are calculating a los shorter than the box-size \n",
      " and using periodic boundary conditions\n"
     ]
    }
   ],
   "source": [
    "Wizard = BuildInput.Sightline(ProjectionAxes=('simx','simy','simz'),ProjectionStart=(linestart_x,linestart_y,linestart_z),ProjectionLength=ProjectionLength)"
   ]
  },
  {
   "cell_type": "code",
   "execution_count": 86,
   "id": "75c542f8-4b9d-4ae3-9c48-4c5985c34c8f",
   "metadata": {},
   "outputs": [],
   "source": [
    "snapshot  = ReadSnap(fileparams = Wizard)"
   ]
  },
  {
   "cell_type": "code",
   "execution_count": 87,
   "id": "86319159-fb8e-4933-8c44-99f684514f84",
   "metadata": {},
   "outputs": [
    {
     "name": "stdout",
     "output_type": "stream",
     "text": [
      "Checking 266288 cells...\n",
      "Retained 3369 segments (1.27%...)\n",
      "Retained 638 segments (18.94%...)\n",
      "Region setup took 6.573 sec.\n",
      "Selection region contains 266288 cells, 638 segments, 76839766 particles, 16 files\n",
      "Reading 'SmoothingLength' took 1.502 sec.\n",
      "Reading 'Coordinates' took 5.155 sec.\n",
      "Reading 'Density' took 1.354 sec.\n",
      "Reading 'SmoothingLength' took 1.358 sec.\n",
      "Reading 'Mass' took 1.696 sec.\n",
      "Reading 'Coordinates' took 4.680 sec.\n",
      "Reading 'Velocity' took 3.598 sec.\n",
      "Reading 'Temperature' took 1.408 sec.\n",
      "Reading 'ElementAbundance/Helium' took 1.631 sec.\n",
      "Reading 'ElementAbundance/Hydrogen' took 1.652 sec.\n",
      "Reading 'Metallicity' took 1.855 sec.\n",
      "Reading 'StarFormationRate' took 1.180 sec.\n"
     ]
    }
   ],
   "source": [
    "particles = snapshot.ReadParticles(specparams = Wizard)"
   ]
  },
  {
   "cell_type": "markdown",
   "id": "a7b5f1b0-c369-460c-95eb-cabcccce77c5",
   "metadata": {
    "tags": []
   },
   "source": [
    "### Colibre"
   ]
  },
  {
   "cell_type": "markdown",
   "id": "09b65d88-b07f-40d4-9cd7-cc377a146dea",
   "metadata": {},
   "source": [
    "With ```Colibre``` we can use the same pipeline as before."
   ]
  },
  {
   "cell_type": "code",
   "execution_count": 69,
   "id": "2a8c4574-8b5a-4e53-b939-aa53284376c8",
   "metadata": {},
   "outputs": [],
   "source": [
    "BuildInput.FileType(sim_type='colibre',snap_type='snapshot')"
   ]
  },
  {
   "cell_type": "code",
   "execution_count": 70,
   "id": "b766e2db-6bfb-4289-8c57-1250c6db63df",
   "metadata": {},
   "outputs": [],
   "source": [
    "snapdir = '/cosma7/data/dp004/dc-chai1/nearly_final_model/I214_L12N188_npivot0p4_seed1e4_dTmin6p0_dTmax8p0/'\n",
    "snapfile = 'colibre_2729.hdf5'"
   ]
  },
  {
   "cell_type": "code",
   "execution_count": 71,
   "id": "ee613168-5579-4128-b4b8-d2d236063299",
   "metadata": {},
   "outputs": [],
   "source": [
    "BuildInput.SnapshotParams(path=snapdir,file=snapfile)"
   ]
  },
  {
   "cell_type": "code",
   "execution_count": 72,
   "id": "65db98b3-4f01-4fa0-8e13-df6391fa9d07",
   "metadata": {},
   "outputs": [],
   "source": [
    "table_type     = 'Ploeckinger'\n",
    "iondir         = '/cosma6/data/dp004/dc-aram1/VariableIMF/pyspecwizard_main/sylviatables/'\n",
    "fname          = 'UVB_dust1_CR1_G1_shield1.hdf5' \n",
    "SFR_properties = {'modify_particle':True,'ignore_particle': False,\n",
    "                  'Temperature [K]':1e4}\n",
    "ElementIons    = [('Hydrogen','H I'),('Helium','HeII')]"
   ]
  },
  {
   "cell_type": "code",
   "execution_count": 73,
   "id": "ea2271ab-b254-452b-a3cd-6d85f21648f9",
   "metadata": {},
   "outputs": [],
   "source": [
    "BuildInput.SetIonTableParams(table_type=table_type,iondir=iondir,ions=ElementIons,SFR_properties=SFR_properties)"
   ]
  },
  {
   "cell_type": "code",
   "execution_count": 74,
   "id": "fdb5a1bc-24eb-462e-a619-6b4ca4b42bc7",
   "metadata": {},
   "outputs": [
    {
     "name": "stdout",
     "output_type": "stream",
     "text": [
      "Warning! nsight NOT found. Setting default value : 0\n"
     ]
    }
   ],
   "source": [
    "Wizard = BuildInput.Sightline(ProjectionAxes=('simz','simy','simx'),ProjectionStart=(0.30,0.5,0),ProjectionLength=1)"
   ]
  },
  {
   "cell_type": "code",
   "execution_count": 75,
   "id": "6787ec05-b473-4e17-950d-db4cb96333da",
   "metadata": {},
   "outputs": [],
   "source": [
    "snapshot  = ReadSnap(fileparams = Wizard)"
   ]
  },
  {
   "cell_type": "code",
   "execution_count": 76,
   "id": "d3b53692-1576-46f1-8657-4472eff4dac5",
   "metadata": {},
   "outputs": [
    {
     "name": "stdout",
     "output_type": "stream",
     "text": [
      "We divide Swift's smoothing length by 0.362 to convert from FWHM to extent of finite support\n"
     ]
    }
   ],
   "source": [
    "particles = snapshot.ReadParticles(specparams = Wizard)"
   ]
  },
  {
   "cell_type": "markdown",
   "id": "75b19a4a-ec0d-41e7-ac5f-fb107271b0ef",
   "metadata": {},
   "source": [
    "An important aspect for working with Colibre, is that this simulation provides the IonFractions for HI and He2II. In this case in ```particles``` we will have the extra key '''SimulationIonFractions"
   ]
  },
  {
   "cell_type": "code",
   "execution_count": 15,
   "id": "0a275d22-b204-467c-ba00-24d59466f04e",
   "metadata": {},
   "outputs": [
    {
     "data": {
      "text/plain": [
       "dict_keys(['Densities', 'SmoothingLengths', 'Masses', 'Positions', 'Velocities', 'Temperatures', 'Elements', 'Abundances', 'Metallicities', 'StarFormationRate', 'SimulationIonFractions'])"
      ]
     },
     "execution_count": 15,
     "metadata": {},
     "output_type": "execute_result"
    }
   ],
   "source": [
    "particles['Particles'].keys()"
   ]
  },
  {
   "cell_type": "markdown",
   "id": "hollow-development",
   "metadata": {},
   "source": [
    "## Output$\\;$Examples"
   ]
  },
  {
   "cell_type": "markdown",
   "id": "successful-independence",
   "metadata": {},
   "source": [
    "### Data$\\;$structure$\\;$and$\\;$CGS$\\;$conversion"
   ]
  },
  {
   "cell_type": "markdown",
   "id": "corrected-engineering",
   "metadata": {},
   "source": [
    "The output of ReadSnap.ReadParticles(), in this case named ``particles``  is in the form of dictionary. We can explore it's structure easily."
   ]
  },
  {
   "cell_type": "code",
   "execution_count": 53,
   "id": "pursuant-figure",
   "metadata": {},
   "outputs": [
    {
     "name": "stdout",
     "output_type": "stream",
     "text": [
      "SightInfo\n",
      "Particles\n",
      "Header\n",
      "Particle data\n",
      "   -> name =  Densities\n",
      "   -> name =  SmoothingLengths\n",
      "   -> name =  Masses\n",
      "   -> name =  Positions\n",
      "   -> name =  Velocities\n",
      "   -> name =  Temperatures\n",
      "   -> name =  Elements\n",
      "   -> name =  Abundances\n",
      "   -> name =  Metallicities\n",
      "   -> name =  StarFormationRate\n",
      "Sight line information\n",
      "   -> name =  nsight ; value =  3\n",
      "   -> name =  Number_of_part_this_los ; value =  20507\n",
      "   -> name =  x-axis ; value =  0\n",
      "   -> name =  x-position ; value =  0.841396505503873\n",
      "   -> name =  y-axis ; value =  1\n",
      "   -> name =  y-position ; value =  0.6241927794604472\n",
      "   -> name =  z-axis ; value =  2\n",
      "   -> name =  z-position ; value =  0\n",
      "   -> name =  short-LOS ; value =  False\n",
      "   -> name =  los-length ; value =  1\n",
      "   -> name =  Boxkms ; value =  {'Value': 7874.911506995901, 'Info': {'VarDescription': 'Extent of simulation volume in direction of projection in terms of Hubble velocity', 'CGSConversionFactor': 100000.0, 'aexp-scale-exponent': 0.0, 'h-scale-exponent': 0.0}}\n",
      "   -> name =  Box ; value =  {'Value': 67.77, 'Info': {'VarDescription': 'Extent of simulation volume', 'CGSConversionFactor': 3.0856775814913676e+24, 'aexp-scale-exponent': 1.0, 'h-scale-exponent': -1.0}}\n"
     ]
    }
   ],
   "source": [
    "for key in particles:\n",
    "    print(key)\n",
    "    \n",
    "print(\"Particle data\")\n",
    "for key in particles[\"Particles\"]:\n",
    "    print(\"   -> name = \", key)\n",
    "print(\"Sight line information\")\n",
    "for key in particles[\"SightInfo\"]:\n",
    "    print(\"   -> name = \",key,\"; value = \",particles[\"SightInfo\"][key] )"
   ]
  },
  {
   "cell_type": "markdown",
   "id": "bottom-decade",
   "metadata": {},
   "source": [
    "An important aspect of this output is that, any physical element of the output, has description of what it is, and how to convert it into CGS units. For example with ``Densities``:"
   ]
  },
  {
   "cell_type": "code",
   "execution_count": 55,
   "id": "viral-defense",
   "metadata": {},
   "outputs": [
    {
     "data": {
      "text/plain": [
       "{'Value': array([0.46036152, 3.04549526, 1.78696641, ..., 0.49877249, 0.33249853,\n",
       "        0.26534899]),\n",
       " 'Info': {'CGSConversionFactor': 6.769911178294543e-31,\n",
       "  'VarDescription': b'Co-moving mass densities. Physical rho = Densities h^2 a^-3 U_M U_L^-3 [g/cm^3]',\n",
       "  'aexp-scale-exponent': -3.0,\n",
       "  'h-scale-exponent': 2.0}}"
      ]
     },
     "execution_count": 55,
     "metadata": {},
     "output_type": "execute_result"
    }
   ],
   "source": [
    "particles['Particles']['Densities']"
   ]
  },
  {
   "cell_type": "markdown",
   "id": "manual-opinion",
   "metadata": {},
   "source": [
    "The dictionary key ``'Value'`` contains the raw simulation value of the quantity. Under the key ``'Info'`` the variable description 'VarDesription', the 'CGSConversionFactor' and the expansion factor and hubble constant exponent in order to convert from co-moving to physical quantities. \n",
    "\n",
    "Under ``ReadSnap`` there is a CGS conversion function ``ReadSnap.ToCGS``. That do the conversion."
   ]
  },
  {
   "cell_type": "code",
   "execution_count": 56,
   "id": "thorough-sydney",
   "metadata": {},
   "outputs": [
    {
     "data": {
      "text/plain": [
       "array([1.11808062e-29, 7.39659833e-29, 4.34000766e-29, ...,\n",
       "       1.21136940e-29, 8.07539620e-30, 6.44453429e-30])"
      ]
     },
     "execution_count": 56,
     "metadata": {},
     "output_type": "execute_result"
    }
   ],
   "source": [
    "snapshot.ToCGS(particles['Particles']['Densities'])"
   ]
  },
  {
   "cell_type": "markdown",
   "id": "sound-palmer",
   "metadata": {},
   "source": [
    "It's important to note that information about the simulation box and the cosmolgy can be found at the dictionary key ``particles['Header']``:"
   ]
  },
  {
   "cell_type": "markdown",
   "id": "valid-occurrence",
   "metadata": {},
   "source": [
    "### Scatter$\\;$plot$\\;$of$\\;$particles$\\;$a$\\;$long$\\;$the$\\;$sightline"
   ]
  },
  {
   "cell_type": "code",
   "execution_count": 129,
   "id": "4c514d8c-e125-4001-941a-4b64389223b5",
   "metadata": {},
   "outputs": [
    {
     "name": "stdout",
     "output_type": "stream",
     "text": [
      "792.3780066069103 798.8244010552606\n"
     ]
    },
    {
     "data": {
      "text/plain": [
       "[<matplotlib.lines.Line2D at 0x2b192c728080>]"
      ]
     },
     "execution_count": 129,
     "metadata": {},
     "output_type": "execute_result"
    },
    {
     "data": {
      "image/png": "[encoded data removed]",
      "text/plain": [
       "<Figure size 1440x504 with 3 Axes>"
      ]
     },
     "metadata": {
      "needs_background": "light"
     },
     "output_type": "display_data"
    }
   ],
   "source": [
    "fontsize = 20\n",
    "fig, ax  = plt.subplots(1, 3, figsize = (20, 7))\n",
    "LOS_length = Wizard['sightline']['ProjectionLength']\n",
    "\n",
    "box     = snapshot.ToCGS(snapshot.header['BoxSize']) / constants[\"Mpc\"]\n",
    "proj_length   = LOS_length*box\n",
    "sim_axis = ['x_{sim}','y_{sim}','z_{sim}']\n",
    "\n",
    "data  = particles\n",
    "sightline = Wizard['sightline']\n",
    "# get properties of the sight line\n",
    "sight  = data[\"SightInfo\"]\n",
    "indx_sim  = [sight[\"x-axis\"], sight[\"y-axis\"], sight[\"z-axis\"]]\n",
    "\n",
    "xlabel  = r\"$x/\"+sim_axis[indx_sim[0]]+\"\\,  [{0:1.0f}\\ $ pMpc]\".format(proj_length[0] * unit, expo)\n",
    "ylabel  = r\"$y/\"+sim_axis[indx_sim[1]]+\"\\,  [{0:1.0f}\\ $ pMpc]\".format(proj_length[1] * unit, expo)\n",
    "zlabel  = r\"$z/\"+sim_axis[indx_sim[2]]+\"\\,  [{0:1.0f}\\ $ pMpc]\".format(proj_length[2] * unit, expo)\n",
    "\n",
    "# xy\n",
    "ax[0].set_title(\"{}\".format(simtype), fontsize=fontsize)\n",
    "ax[0].set_xlabel(xlabel, fontsize=fontsize)\n",
    "ax[0].set_ylabel(ylabel, fontsize=fontsize)\n",
    "# xz\n",
    "ax[1].set_title(\"sightline = {}\".format(sightline[\"nsight\"]), fontsize=fontsize)\n",
    "ax[1].set_xlabel(zlabel, fontsize=fontsize)\n",
    "ax[1].set_ylabel(xlabel, fontsize=fontsize)\n",
    "# yz\n",
    "ax[2].set_xlabel(zlabel, fontsize=fontsize)\n",
    "ax[2].set_ylabel(ylabel, fontsize=fontsize)\n",
    "\n",
    "ax[0].set_aspect('equal',adjustable='box')\n",
    "ax[0].set_xlim(0,box[0])\n",
    "ax[0].set_ylim(0,box[0])\n",
    "\n",
    "los_start = Wizard['sightline']['z-position'] * box[0]\n",
    "los_end   = los_start + proj_length[0]\n",
    "print(los_start,los_end)\n",
    "for i in np.arange(1,3):\n",
    "    ax[i].set_aspect('equal', adjustable='box')\n",
    "    ax[i].set_xlim(los_start, los_end)\n",
    "    ax[i].set_ylim(los_start, los_end)\n",
    "    \n",
    "    \n",
    "positions = snapshot.ToCGS(data[\"Particles\"][\"Positions\"])/constants[\"Mpc\"]\n",
    "ax[0].plot(positions[:,0], positions[:,1],',')\n",
    "ax[1].plot(positions[:,2], positions[:,0],',')\n",
    "ax[2].plot(positions[:,2], positions[:,1],',')\n",
    "\n",
    "ax[0].plot(sight['x-position']*box[0], 0, 'rD', markersize=m) \n",
    "ax[0].plot(0,sight['y-position']*box[0], 'rD', markersize=m) \n",
    "ax[0].plot((sight['x-position']*box[0]), (sight['y-position']*box[0]), 'o', color='y')\n",
    "ax[1].plot(los_start,sight['x-position']*box[0], 'rD', markersize=m) \n",
    "ax[2].plot(los_start,sight['y-position']*box[0], 'rD', markersize=m) "
   ]
  },
  {
   "cell_type": "markdown",
   "id": "4375f645",
   "metadata": {},
   "source": [
    "Plot particle positions"
   ]
  },
  {
   "cell_type": "markdown",
   "id": "db25fb1b-3242-4256-a7c0-8bf19c15f813",
   "metadata": {},
   "source": [
    "### Density$\\;$vs$\\;$Temperature$\\;$and$\\;$peculiar$\\;$velocities$\\;$of$\\;$particles\n",
    "\n",
    "Illustrate thermodynamics, and the peculiar velocties of these particles."
   ]
  },
  {
   "cell_type": "code",
   "execution_count": 137,
   "id": "71a78d6e",
   "metadata": {},
   "outputs": [
    {
     "data": {
      "image/png": "[encoded data removed]",
      "text/plain": [
       "<Figure size 1440x504 with 2 Axes>"
      ]
     },
     "metadata": {
      "needs_background": "light"
     },
     "output_type": "display_data"
    }
   ],
   "source": [
    "fig, ax  = plt.subplots(1, 2, figsize = (20, 7))\n",
    "\n",
    "# get properties of the simulation volume\n",
    "LOS_length = Wizard['sightline']['ProjectionLength']\n",
    "box     = snapshot.ToCGS(snapshot.header['BoxSize']) / constants[\"Mpc\"]\n",
    "proj_length   = LOS_length*box\n",
    "\n",
    "# read the data of the sight line\n",
    "data         = particles\n",
    "densities    = snapshot.ToCGS(data[\"Particles\"][\"Densities\"])\n",
    "temperatures = snapshot.ToCGS(data[\"Particles\"][\"Temperatures\"])\n",
    "velocities   = snapshot.ToCGS(data[\"Particles\"][\"Velocities\"])\n",
    "positions    = snapshot.ToCGS(data[\"Particles\"][\"Positions\"]) / constants[\"Mpc\"]\n",
    "\n",
    "# left panel: T-rho relation\n",
    "title = r\"Redshift={0:1.2f}\".format(snapshot.header[\"Cosmo\"][\"Redshift\"])\n",
    "ax[0].set_title(title, fontsize=fontsize)\n",
    "ax[0].set_ylim(3, 7)\n",
    "ax[0].plot(np.log10(densities), np.log10(temperatures), ',')\n",
    "ax[0].set_xlabel(r\"$\\log_{10}\\,\\rho\\ [{\\rm g cm}^{-3}]$\", fontsize=fontsize)\n",
    "ax[0].set_ylabel(r\"$\\log_{10}\\ T\\ [{\\rm K}]$\", fontsize=fontsize)\n",
    "\n",
    "# indicate multiple of mean densities\n",
    "rhob = snapshot.header[\"Cosmo\"][\"rhob\"]          # mean density at z=0\n",
    "z    = snapshot.header[\"Cosmo\"][\"Redshift\"]\n",
    "ax[0].vlines(np.log10(rhob * (1+z)**3), -10, 10, color='red', label=r\"$\\langle\\rho_b\\rangle$\")\n",
    "ax[0].vlines(np.log10(60 * rhob * (1+z)**3), -10, 10, color='blue', label=r\"$60 \\langle\\rho_b\\rangle$\")\n",
    "ax[0].legend(frameon=False, fontsize=fontsize, loc='upper left')\n",
    "\n",
    "\n",
    "# right panel: velocity along the line of sight\n",
    "# get properties of the sight line\n",
    "sight  = data[\"SightInfo\"]\n",
    "dirs   = [sight[\"x-axis\"], sight[\"y-axis\"], sight[\"z-axis\"]]\n",
    "los_start = Wizard['sightline']['z-position'] * box[0]\n",
    "los_end   = los_start + proj_length[0]\n",
    "        \n",
    "box    = snapshot.ToCGS(snapshot.header['BoxSize'])  # proper extent of simulationi volume in cgs units\n",
    "#\n",
    "ax[1].set_title(\"{}\".format(snapshot.simtype), fontsize=fontsize)\n",
    "ax[1].set_xlim(los_start,los_end)# box[2]/constants[\"Mpc\"])\n",
    "ax[1].set_ylim(-800, 800)\n",
    "ax[1].plot(positions[:,2] , velocities[:,2]/1e5, ',')\n",
    "ax[1].set_xlabel(r\"position [pMpc]\", fontsize=fontsize)\n",
    "ax[1].set_ylabel(r\"velocity [km/s]\", fontsize=fontsize)\n",
    "\n",
    "fig.show()"
   ]
  },
  {
   "cell_type": "markdown",
   "id": "1bb660b1-4ad1-4636-b220-8f622118d75e",
   "metadata": {},
   "source": [
    "### Density$\\;$vs$\\;$Position$\\;$vs$\\;$Hubble Velocity$\\;$vs$\\;$Total Velocity"
   ]
  },
  {
   "cell_type": "code",
   "execution_count": 143,
   "id": "0204a363-2797-43f4-912a-915ca5057eef",
   "metadata": {},
   "outputs": [
    {
     "data": {
      "image/png": "[encoded data removed]",
      "text/plain": [
       "<Figure size 1440x1080 with 3 Axes>"
      ]
     },
     "metadata": {
      "needs_background": "light"
     },
     "output_type": "display_data"
    }
   ],
   "source": [
    "BoxSize_pMpc = snapshot.ToCGS(snapshot.header['BoxSize'])[0]/constants['Mpc']\n",
    "xmin         = BoxSize_pMpc * Wizard['sightline']['z-position']\n",
    "xmax         = xmin + (BoxSize_pMpc * Wizard['sightline']['ProjectionLength'])\n",
    "xlims        = np.array([xmin-0.5,xmax+0.5])\n",
    "\n",
    "positions    = snapshot.ToCGS(particles[\"Particles\"][\"Positions\"])\n",
    "pec_velocities   = snapshot.ToCGS(particles[\"Particles\"][\"Velocities\"])[:,2] / 1e5\n",
    "hubb_vel     = (positions*snapshot.Hubble() / 1e5)[:,2] #snapshot.Hubble() give us the H(z) in [1/s]. \n",
    "dens          = snapshot.ToCGS(particles['Particles']['Densities'])\n",
    "\n",
    "vlims = (xlims*constants['Mpc']*snapshot.Hubble() ) / 1e5 \n",
    "\n",
    "fig, ax  = plt.subplots(3, 1, figsize = (20, 15))\n",
    "ax[0].plot(positions[:,2]/constants['Mpc'],particles['Particles']['Densities']['Value'],'.')\n",
    "ax[0].set_xlabel('pMpc',fontsize=fontsize)\n",
    "ax[0].set_ylabel(r'$\\rho$[g/cm3]',fontsize=fontsize)\n",
    "ax[0].set_xlim(xlims)\n",
    "ax[1].plot(hubb_vel,particles['Particles']['Densities']['Value'],'.')\n",
    "ax[1].set_xlabel(r'$v_{Hubble}$[kms]',fontsize=fontsize)\n",
    "ax[1].set_ylabel(r'$\\rho$[g/cm3]',fontsize=fontsize)\n",
    "ax[2].plot(pec_velocities+hubb_vel,particles['Particles']['Densities']['Value'],'.')\n",
    "ax[2].set_xlabel(r'$v_{Hubble+Vpec}$[kms]',fontsize=fontsize)\n",
    "ax[2].set_ylabel(r'$\\rho$[g/cm3]',fontsize=fontsize)\n",
    "for i in np.arange(1,3,1):\n",
    "    ax[i].set_xlim(vlims)"
   ]
  },
  {
   "cell_type": "code",
   "execution_count": null,
   "id": "0ea067ee-ff6c-4c4c-a46e-62dbeebd4070",
   "metadata": {},
   "outputs": [
    {
     "data": {
      "text/plain": [
       "{'info': 'From Wiersma et al. 2009',\n",
       " 'H': 0.7065,\n",
       " 'He': 0.2806,\n",
       " 'C': 0.00207,\n",
       " 'N': 0.000836,\n",
       " 'O': 0.00549,\n",
       " 'Ne': 0.00141,\n",
       " 'Mg': 0.000591,\n",
       " 'Si': 0.000683,\n",
       " 'S': 0.000409,\n",
       " 'Ca': 6.44e-05,\n",
       " 'Fe': 0.0011}"
      ]
     },
     "execution_count": 156,
     "metadata": {},
     "output_type": "execute_result"
    }
   ],
   "source": [
    "constants['ElementSolarMassFractions']"
   ]
  },
  {
   "cell_type": "code",
   "execution_count": null,
   "id": "25bffd8b-4dfb-4b8f-82db-86f6608ef0f6",
   "metadata": {},
   "outputs": [
    {
     "data": {
      "text/plain": [
       "<matplotlib.collections.PathCollection at 0x2b192d71e160>"
      ]
     },
     "execution_count": 171,
     "metadata": {},
     "output_type": "execute_result"
    },
    {
     "data": {
      "image/png": "[encoded data removed]",
      "text/plain": [
       "<Figure size 432x288 with 1 Axes>"
      ]
     },
     "metadata": {
      "needs_background": "light"
     },
     "output_type": "display_data"
    }
   ],
   "source": [
    "plt.scatter(np.log10(dens),particles['Particles']['Abundances']['Hydrogen']['Value']/constants['ElementSolarMassFractions']['H'])"
   ]
  },
  {
   "cell_type": "code",
   "execution_count": null,
   "id": "fd161be8-0bb7-4fa2-8f1a-4d928caca0e6",
   "metadata": {},
   "outputs": [
    {
     "data": {
      "text/plain": [
       "<matplotlib.collections.PathCollection at 0x2b192c0a2a58>"
      ]
     },
     "execution_count": 172,
     "metadata": {},
     "output_type": "execute_result"
    },
    {
     "data": {
      "image/png": "[encoded data removed]",
      "text/plain": [
       "<Figure size 432x288 with 1 Axes>"
      ]
     },
     "metadata": {
      "needs_background": "light"
     },
     "output_type": "display_data"
    }
   ],
   "source": [
    "plt.scatter(np.log10(dens),particles['Particles']['Abundances']['Helium']['Value']/constants['ElementSolarMassFractions']['He'])"
   ]
  },
  {
   "cell_type": "code",
   "execution_count": null,
   "id": "f753c500-d0b7-4573-b6e5-ea98bd8c39da",
   "metadata": {},
   "outputs": [
    {
     "data": {
      "text/plain": [
       "[('Hydrogen', 'H I'), ('Helium', 'HeII')]"
      ]
     },
     "execution_count": 182,
     "metadata": {},
     "output_type": "execute_result"
    }
   ],
   "source": [
    "Wizard['ionparams']['Ions']"
   ]
  },
  {
   "cell_type": "code",
   "execution_count": null,
   "id": "fec87a22-6f43-4a99-8a85-e16c0dde0f88",
   "metadata": {},
   "outputs": [
    {
     "ename": "SyntaxError",
     "evalue": "invalid syntax (<ipython-input-183-8f16ff13e2fb>, line 1)",
     "output_type": "error",
     "traceback": [
      "\u001b[0;36m  File \u001b[0;32m\"<ipython-input-183-8f16ff13e2fb>\"\u001b[0;36m, line \u001b[0;32m1\u001b[0m\n\u001b[0;31m    snapshot.\u001b[0m\n\u001b[0m             ^\u001b[0m\n\u001b[0;31mSyntaxError\u001b[0m\u001b[0;31m:\u001b[0m invalid syntax\n"
     ]
    }
   ],
   "source": [
    "snapshot."
   ]
  },
  {
   "cell_type": "code",
   "execution_count": null,
   "id": "693e9e64-1d45-4325-80d0-c204e8f5a767",
   "metadata": {},
   "outputs": [
    {
     "data": {
      "text/plain": [
       "{'Helium': {'Value': array([0.248, 0.248, 0.248, ..., 0.248, 0.248, 0.248]),\n",
       "  'Info': {'VarDescription': 'mass fraction of element',\n",
       "   'CGSConversionFactor': 1.0,\n",
       "   'aexp-scale-exponent': 0.0,\n",
       "   'h-scale-exponent': 0.0}},\n",
       " 'Hydrogen': {'Value': array([0.752, 0.752, 0.752, ..., 0.752, 0.752, 0.752]),\n",
       "  'Info': {'VarDescription': 'mass fraction of element',\n",
       "   'CGSConversionFactor': 1.0,\n",
       "   'aexp-scale-exponent': 0.0,\n",
       "   'h-scale-exponent': 0.0}}}"
      ]
     },
     "execution_count": 19,
     "metadata": {},
     "output_type": "execute_result"
    }
   ],
   "source": [
    "particles['Particles']['Abundances']"
   ]
  },
  {
   "cell_type": "code",
   "execution_count": 17,
   "id": "554cbafd-13b8-4d68-997a-c3aa10bc4829",
   "metadata": {},
   "outputs": [
    {
     "data": {
      "text/plain": [
       "array([3.        , 4.12310563, 4.89897949, 5.74456265])"
      ]
     },
     "execution_count": 17,
     "metadata": {},
     "output_type": "execute_result"
    }
   ],
   "source": [
    "np.sqrt(2**3+np.array([1,3,4,5])**2)"
   ]
  },
  {
   "cell_type": "code",
   "execution_count": null,
   "id": "a5ea8a41-ea8a-492e-8711-d8abfe21a9d7",
   "metadata": {},
   "outputs": [],
   "source": []
  }
 ],
 "metadata": {
  "kernelspec": {
   "display_name": "Python 3 (ipykernel)",
   "language": "python",
   "name": "python3"
  },
  "language_info": {
   "codemirror_mode": {
    "name": "ipython",
    "version": 3
   },
   "file_extension": ".py",
   "mimetype": "text/x-python",
   "name": "python",
   "nbconvert_exporter": "python",
   "pygments_lexer": "ipython3",
   "version": "3.10.10"
  },
  "toc": {
   "base_numbering": 1,
   "nav_menu": {},
   "number_sections": true,
   "sideBar": true,
   "skip_h1_title": false,
   "title_cell": "Table of Contents",
   "title_sidebar": "Contents",
   "toc_cell": false,
   "toc_position": {},
   "toc_section_display": true,
   "toc_window_display": false
  },
  "varInspector": {
   "cols": {
    "lenName": 16,
    "lenType": 16,
    "lenVar": 40
   },
   "kernels_config": {
    "python": {
     "delete_cmd_postfix": "",
     "delete_cmd_prefix": "del ",
     "library": "var_list.py",
     "varRefreshCmd": "print(var_dic_list())"
    },
    "r": {
     "delete_cmd_postfix": ") ",
     "delete_cmd_prefix": "rm(",
     "library": "var_list.r",
     "varRefreshCmd": "cat(var_dic_list()) "
    }
   },
   "types_to_exclude": [
    "module",
    "function",
    "builtin_function_or_method",
    "instance",
    "_Feature"
   ],
   "window_display": false
  }
 },
 "nbformat": 4,
 "nbformat_minor": 5
}
